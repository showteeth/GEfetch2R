{
 "cells": [
  {
   "cell_type": "markdown",
   "metadata": {},
   "source": [
    "# Library and configuration"
   ]
  },
  {
   "cell_type": "code",
   "execution_count": 2,
   "metadata": {
    "ExecuteTime": {
     "end_time": "2024-12-21T14:15:48.102845Z",
     "start_time": "2024-12-21T14:15:48.086388Z"
    }
   },
   "outputs": [
    {
     "name": "stdout",
     "output_type": "stream",
     "text": [
      "The rpy2.ipython extension is already loaded. To reload it, use:\n",
      "  %reload_ext rpy2.ipython\n"
     ]
    },
    {
     "data": {
      "text/html": [
       "<style>.container { width:83%; align: left; }</style>"
      ],
      "text/plain": [
       "<IPython.core.display.HTML object>"
      ]
     },
     "metadata": {},
     "output_type": "display_data"
    },
    {
     "data": {
      "text/html": [
       "<style>#toc-wrapper{ position: relative; width: 20%; top: 130px; left: 0px; }</style>"
      ],
      "text/plain": [
       "<IPython.core.display.HTML object>"
      ]
     },
     "metadata": {},
     "output_type": "display_data"
    }
   ],
   "source": [
    "# read .h5ad files\n",
    "import scanpy as sc\n",
    "\n",
    "# setup R environment\n",
    "import os\n",
    "os.environ[\"R_HOME\"] = r\"/Library/Frameworks/R.framework/Resources\" \n",
    "# !pip install rpy2==3.5.1\n",
    "# enables the %%R magic\n",
    "%load_ext rpy2.ipython\n",
    "\n",
    "# for display\n",
    "from IPython.core.interactiveshell import InteractiveShell\n",
    "InteractiveShell.ast_node_interactivity = \"all\"\n",
    "from IPython.display import display, HTML\n",
    "display(HTML(\"<style>.container { width:83%; align: left; }</style>\"))\n",
    "display(HTML(\"<style>#toc-wrapper{ position: relative; width: 20%; top: 130px; left: 0px; }</style>\"))"
   ]
  },
  {
   "cell_type": "markdown",
   "metadata": {},
   "source": [
    "# SeuratObject to AnnData"
   ]
  },
  {
   "cell_type": "markdown",
   "metadata": {},
   "source": [
    "## SeuratObject"
   ]
  },
  {
   "cell_type": "code",
   "execution_count": 3,
   "metadata": {
    "ExecuteTime": {
     "end_time": "2024-12-21T14:17:19.524155Z",
     "start_time": "2024-12-21T14:16:12.694552Z"
    },
    "scrolled": true
   },
   "outputs": [
    {
     "name": "stdout",
     "output_type": "stream",
     "text": [
      "\n",
      "    WARNING: The R package \"reticulate\" does not\n",
      "    consider that it could be called from a Python process. This\n",
      "    results in a quasi-obligatory segfault when rpy2 is evaluating\n",
      "    R code using it. On the hand, rpy2 is accounting for the\n",
      "    fact that it might already be running embedded in a Python\n",
      "    process. This is why:\n",
      "    - Python -> rpy2 -> R -> reticulate: crashes\n",
      "    - R -> reticulate -> Python -> rpy2: works\n",
      "\n",
      "    The issue with reticulate is tracked here:\n",
      "    https://github.com/rstudio/reticulate/issues/208\n",
      "    "
     ]
    },
    {
     "name": "stderr",
     "output_type": "stream",
     "text": [
      "R[write to console]: Attaching SeuratObject\n",
      "\n"
     ]
    },
    {
     "name": "stdout",
     "output_type": "stream",
     "text": [
      "── \u001b[1mAttaching core tidyverse packages\u001b[22m ───────────────────────────────────────────────────────────── tidyverse 2.0.0 ──\n",
      "\u001b[32m✔\u001b[39m \u001b[34mdplyr    \u001b[39m 1.1.2     \u001b[32m✔\u001b[39m \u001b[34mreadr    \u001b[39m 2.1.4\n",
      "\u001b[32m✔\u001b[39m \u001b[34mforcats  \u001b[39m 1.0.0     \u001b[32m✔\u001b[39m \u001b[34mstringr  \u001b[39m 1.5.0\n",
      "\u001b[32m✔\u001b[39m \u001b[34mggplot2  \u001b[39m 3.4.2     \u001b[32m✔\u001b[39m \u001b[34mtibble   \u001b[39m 3.2.1\n",
      "\u001b[32m✔\u001b[39m \u001b[34mlubridate\u001b[39m 1.9.2     \u001b[32m✔\u001b[39m \u001b[34mtidyr    \u001b[39m 1.3.0\n",
      "\u001b[32m✔\u001b[39m \u001b[34mpurrr    \u001b[39m 1.0.1     \n",
      "── \u001b[1mConflicts\u001b[22m ─────────────────────────────────────────────────────────────────────────────── tidyverse_conflicts() ──\n",
      "\u001b[31m✖\u001b[39m \u001b[34mdplyr\u001b[39m::\u001b[32mfilter()\u001b[39m masks \u001b[34mstats\u001b[39m::filter()\n",
      "\u001b[31m✖\u001b[39m \u001b[34mdplyr\u001b[39m::\u001b[32mlag()\u001b[39m    masks \u001b[34mstats\u001b[39m::lag()\n",
      "\u001b[36mℹ\u001b[39m Use the \u001b]8;;http://conflicted.r-lib.org/\u0007conflicted package\u001b]8;;\u0007 to force all conflicts to become errors\n"
     ]
    },
    {
     "name": "stderr",
     "output_type": "stream",
     "text": [
      "R[write to console]: Using cached data manifest, last updated at 2024-06-06 17:43:46\n",
      "\n",
      "R[write to console]: ── \u001b[1mInstalled datasets\u001b[22m ────────────────────────────────────────────────────────────────────────── SeuratData v0.2.2 ──\n",
      "\n",
      "R[write to console]: \u001b[32m✔\u001b[39m \u001b[34mifnb  \u001b[39m 3.1.0                                            \u001b[32m✔\u001b[39m \u001b[34mpbmc3k\u001b[39m 3.1.4\n",
      "\n",
      "\n",
      "R[write to console]: ──────────────────────────────────────────────────────── Key ────────────────────────────────────────────────────────\n",
      "\n",
      "R[write to console]: \u001b[32m✔\u001b[39m Dataset loaded successfully\n",
      "\u001b[33m❯\u001b[39m Dataset built with a newer version of Seurat than installed\n",
      "\u001b[31m❓\u001b[39m Unknown version of Seurat installed\n",
      "\n",
      "\n"
     ]
    }
   ],
   "source": [
    "%%R\n",
    "library(Seurat)\n",
    "library(tidyverse)\n",
    "library(SeuratData) # load pbmc3k.final\n",
    "data('pbmc3k.final')"
   ]
  },
  {
   "cell_type": "code",
   "execution_count": 4,
   "metadata": {
    "ExecuteTime": {
     "end_time": "2024-12-21T14:22:05.994219Z",
     "start_time": "2024-12-21T14:22:00.932759Z"
    }
   },
   "outputs": [
    {
     "name": "stdout",
     "output_type": "stream",
     "text": [
      "An object of class Seurat \n",
      "27428 features across 2638 samples within 2 assays \n",
      "Active assay: RNA (13714 features, 2000 variable features)\n",
      " 1 other assay present: rawcounts\n",
      " 2 dimensional reductions calculated: pca, umap\n"
     ]
    }
   ],
   "source": [
    "%%R\n",
    "# read data\n",
    "pbmc3k.final.counts = Seurat::GetAssayData(object =  pbmc3k.final[['RNA']], slot = 'counts')\n",
    "pbmc3k.final[[\"rawcounts\"]] <- Seurat::CreateAssayObject(counts = pbmc3k.final.counts )\n",
    "pbmc3k.final"
   ]
  },
  {
   "cell_type": "markdown",
   "metadata": {},
   "source": [
    "Detailed information about [The Seurat Class](https://rdrr.io/cran/SeuratObject/man/Seurat-class.html)"
   ]
  },
  {
   "cell_type": "markdown",
   "metadata": {},
   "source": [
    "### Count matrix (`assays` and `slot`)"
   ]
  },
  {
   "cell_type": "code",
   "execution_count": 5,
   "metadata": {
    "ExecuteTime": {
     "end_time": "2024-12-21T14:22:06.001259Z",
     "start_time": "2024-12-21T14:22:05.997494Z"
    }
   },
   "outputs": [],
   "source": [
    "# for display\n",
    "from IPython.core.interactiveshell import InteractiveShell\n",
    "InteractiveShell.ast_node_interactivity = \"all\""
   ]
  },
  {
   "cell_type": "code",
   "execution_count": 6,
   "metadata": {
    "ExecuteTime": {
     "end_time": "2024-12-21T14:22:06.251272Z",
     "start_time": "2024-12-21T14:22:06.004971Z"
    },
    "scrolled": true
   },
   "outputs": [
    {
     "name": "stdout",
     "output_type": "stream",
     "text": [
      "10 x 15 sparse Matrix of class \"dgCMatrix\"\n"
     ]
    },
    {
     "name": "stderr",
     "output_type": "stream",
     "text": [
      "R[write to console]:   [[ suppressing 15 column names ‘AAACATACAACCAC’, ‘AAACATTGAGCTAC’, ‘AAACATTGATCAGC’ ... ]]\n",
      "\n"
     ]
    },
    {
     "name": "stdout",
     "output_type": "stream",
     "text": [
      "                                           \n",
      "AL627309.1    . . . . . . . . . . . . . . .\n",
      "AP006222.2    . . . . . . . . . . . . . . .\n",
      "RP11-206L10.2 . . . . . . . . . . . . . . .\n",
      "RP11-206L10.9 . . . . . . . . . . . . . . .\n",
      "LINC00115     . . . . . . . . . . . . . . .\n",
      "NOC2L         . . . . . . . . . . . 1 . . .\n",
      "KLHL17        . . . . . . . . . . . . . . .\n",
      "PLEKHN1       . . . . . . . . . . . . . . .\n",
      "RP11-54O7.17  . . . . . . . . . . . . . . .\n",
      "HES4          . . . . . . . . . . . . . . .\n"
     ]
    }
   ],
   "source": [
    "%%R\n",
    "# raw count matrix\n",
    "pbmc3k.final@assays$RNA@counts[1:10,1:15]"
   ]
  },
  {
   "cell_type": "code",
   "execution_count": 7,
   "metadata": {
    "ExecuteTime": {
     "end_time": "2024-12-21T14:22:06.275736Z",
     "start_time": "2024-12-21T14:22:06.255239Z"
    }
   },
   "outputs": [
    {
     "name": "stdout",
     "output_type": "stream",
     "text": [
      "[1] 13714  2638\n"
     ]
    }
   ],
   "source": [
    "%%R\n",
    "# shape\n",
    "dim(pbmc3k.final@assays$RNA@counts)"
   ]
  },
  {
   "cell_type": "code",
   "execution_count": 8,
   "metadata": {
    "ExecuteTime": {
     "end_time": "2024-12-21T14:22:06.499455Z",
     "start_time": "2024-12-21T14:22:06.278091Z"
    }
   },
   "outputs": [
    {
     "name": "stdout",
     "output_type": "stream",
     "text": [
      "10 x 15 sparse Matrix of class \"dgCMatrix\"\n"
     ]
    },
    {
     "name": "stderr",
     "output_type": "stream",
     "text": [
      "R[write to console]:   [[ suppressing 15 column names ‘AAACATACAACCAC’, ‘AAACATTGAGCTAC’, ‘AAACATTGATCAGC’ ... ]]\n",
      "\n"
     ]
    },
    {
     "name": "stdout",
     "output_type": "stream",
     "text": [
      "                                                  \n",
      "AL627309.1    . . . . . . . . . . . .        . . .\n",
      "AP006222.2    . . . . . . . . . . . .        . . .\n",
      "RP11-206L10.2 . . . . . . . . . . . .        . . .\n",
      "RP11-206L10.9 . . . . . . . . . . . .        . . .\n",
      "LINC00115     . . . . . . . . . . . .        . . .\n",
      "NOC2L         . . . . . . . . . . . 1.646272 . . .\n",
      "KLHL17        . . . . . . . . . . . .        . . .\n",
      "PLEKHN1       . . . . . . . . . . . .        . . .\n",
      "RP11-54O7.17  . . . . . . . . . . . .        . . .\n",
      "HES4          . . . . . . . . . . . .        . . .\n"
     ]
    }
   ],
   "source": [
    "%%R\n",
    "# log-normalized count matrix\n",
    "pbmc3k.final@assays$RNA@data[1:10,1:15]"
   ]
  },
  {
   "cell_type": "code",
   "execution_count": 9,
   "metadata": {
    "ExecuteTime": {
     "end_time": "2024-12-21T14:22:06.519771Z",
     "start_time": "2024-12-21T14:22:06.501729Z"
    }
   },
   "outputs": [
    {
     "name": "stdout",
     "output_type": "stream",
     "text": [
      "[1] 13714  2638\n"
     ]
    }
   ],
   "source": [
    "%%R\n",
    "# shape\n",
    "dim(pbmc3k.final@assays$RNA@data)"
   ]
  },
  {
   "cell_type": "code",
   "execution_count": 10,
   "metadata": {
    "ExecuteTime": {
     "end_time": "2024-12-21T14:22:06.618452Z",
     "start_time": "2024-12-21T14:22:06.523374Z"
    },
    "scrolled": false
   },
   "outputs": [
    {
     "name": "stdout",
     "output_type": "stream",
     "text": [
      "              AAACATACAACCAC AAACATTGAGCTAC AAACATTGATCAGC AAACCGTGCTTCCG\n",
      "AL627309.1       -0.05812316    -0.05812316    -0.05812316    -0.05812316\n",
      "AP006222.2       -0.03357571    -0.03357571    -0.03357571    -0.03357571\n",
      "RP11-206L10.2    -0.04166819    -0.04166819    -0.04166819    -0.04166819\n",
      "RP11-206L10.9    -0.03364562    -0.03364562    -0.03364562    -0.03364562\n",
      "LINC00115        -0.08223981    -0.08223981    -0.08223981    -0.08223981\n",
      "NOC2L            -0.31717081    -0.31717081    -0.31717081    -0.31717081\n",
      "KLHL17           -0.05344722    -0.05344722    -0.05344722    -0.05344722\n",
      "PLEKHN1          -0.05082183    -0.05082183    -0.05082183    -0.05082183\n",
      "RP11-54O7.17     -0.03308805    -0.03308805    -0.03308805    -0.03308805\n",
      "HES4             -0.23376818    -0.23376818    -0.23376818    -0.23376818\n"
     ]
    }
   ],
   "source": [
    "%%R\n",
    "# scaled count matrix\n",
    "pbmc3k.final@assays$RNA@scale.data[1:10,1:4]"
   ]
  },
  {
   "cell_type": "code",
   "execution_count": 11,
   "metadata": {
    "ExecuteTime": {
     "end_time": "2024-12-21T14:22:06.646381Z",
     "start_time": "2024-12-21T14:22:06.628075Z"
    }
   },
   "outputs": [
    {
     "name": "stdout",
     "output_type": "stream",
     "text": [
      "[1] 13714  2638\n"
     ]
    }
   ],
   "source": [
    "%%R\n",
    "# shape\n",
    "dim(pbmc3k.final@assays$RNA@scale.data)"
   ]
  },
  {
   "cell_type": "code",
   "execution_count": 12,
   "metadata": {
    "ExecuteTime": {
     "end_time": "2024-12-21T14:22:06.922280Z",
     "start_time": "2024-12-21T14:22:06.650366Z"
    }
   },
   "outputs": [
    {
     "name": "stdout",
     "output_type": "stream",
     "text": [
      "10 x 15 sparse Matrix of class \"dgCMatrix\"\n"
     ]
    },
    {
     "name": "stderr",
     "output_type": "stream",
     "text": [
      "R[write to console]:   [[ suppressing 15 column names ‘AAACATACAACCAC’, ‘AAACATTGAGCTAC’, ‘AAACATTGATCAGC’ ... ]]\n",
      "\n"
     ]
    },
    {
     "name": "stdout",
     "output_type": "stream",
     "text": [
      "                                           \n",
      "AL627309.1    . . . . . . . . . . . . . . .\n",
      "AP006222.2    . . . . . . . . . . . . . . .\n",
      "RP11-206L10.2 . . . . . . . . . . . . . . .\n",
      "RP11-206L10.9 . . . . . . . . . . . . . . .\n",
      "LINC00115     . . . . . . . . . . . . . . .\n",
      "NOC2L         . . . . . . . . . . . 1 . . .\n",
      "KLHL17        . . . . . . . . . . . . . . .\n",
      "PLEKHN1       . . . . . . . . . . . . . . .\n",
      "RP11-54O7.17  . . . . . . . . . . . . . . .\n",
      "HES4          . . . . . . . . . . . . . . .\n"
     ]
    }
   ],
   "source": [
    "%%R\n",
    "# raw count matrix in rawcounts assay\n",
    "pbmc3k.final@assays$rawcounts@counts[1:10,1:15]"
   ]
  },
  {
   "cell_type": "code",
   "execution_count": 13,
   "metadata": {
    "ExecuteTime": {
     "end_time": "2024-12-21T14:22:06.958864Z",
     "start_time": "2024-12-21T14:22:06.926640Z"
    }
   },
   "outputs": [
    {
     "name": "stdout",
     "output_type": "stream",
     "text": [
      "[1] 13714  2638\n"
     ]
    }
   ],
   "source": [
    "%%R\n",
    "# shape\n",
    "dim(pbmc3k.final@assays$rawcounts@counts)"
   ]
  },
  {
   "cell_type": "markdown",
   "metadata": {},
   "source": [
    "### `meta.data` - cells' meta-information"
   ]
  },
  {
   "cell_type": "code",
   "execution_count": 14,
   "metadata": {
    "ExecuteTime": {
     "end_time": "2024-12-21T14:22:12.009372Z",
     "start_time": "2024-12-21T14:22:11.909203Z"
    }
   },
   "outputs": [
    {
     "name": "stdout",
     "output_type": "stream",
     "text": [
      "               orig.ident nCount_RNA nFeature_RNA seurat_annotations percent.mt\n",
      "AAACATACAACCAC     pbmc3k       2419          779       Memory CD4 T  3.0177759\n",
      "AAACATTGAGCTAC     pbmc3k       4903         1352                  B  3.7935958\n",
      "AAACATTGATCAGC     pbmc3k       3147         1129       Memory CD4 T  0.8897363\n",
      "AAACCGTGCTTCCG     pbmc3k       2639          960         CD14+ Mono  1.7430845\n",
      "AAACCGTGTATGCG     pbmc3k        980          521                 NK  1.2244898\n",
      "AAACGCACTGGTAC     pbmc3k       2163          781       Memory CD4 T  1.6643551\n",
      "               RNA_snn_res.0.5 seurat_clusters nCount_rawcounts\n",
      "AAACATACAACCAC               1               1             2419\n",
      "AAACATTGAGCTAC               3               3             4903\n",
      "AAACATTGATCAGC               1               1             3147\n",
      "AAACCGTGCTTCCG               2               2             2639\n",
      "AAACCGTGTATGCG               6               6              980\n",
      "AAACGCACTGGTAC               1               1             2163\n",
      "               nFeature_rawcounts\n",
      "AAACATACAACCAC                779\n",
      "AAACATTGAGCTAC               1352\n",
      "AAACATTGATCAGC               1129\n",
      "AAACCGTGCTTCCG                960\n",
      "AAACCGTGTATGCG                521\n",
      "AAACGCACTGGTAC                781\n"
     ]
    }
   ],
   "source": [
    "%%R\n",
    "# cell's meta-information\n",
    "pbmc3k.final@meta.data %>% head()"
   ]
  },
  {
   "cell_type": "markdown",
   "metadata": {},
   "source": [
    "### `meta.features` - annotation of features"
   ]
  },
  {
   "cell_type": "code",
   "execution_count": 15,
   "metadata": {
    "ExecuteTime": {
     "end_time": "2024-12-21T14:22:12.922615Z",
     "start_time": "2024-12-21T14:22:12.864376Z"
    }
   },
   "outputs": [
    {
     "name": "stdout",
     "output_type": "stream",
     "text": [
      "                 vst.mean vst.variance vst.variance.expected\n",
      "AL627309.1    0.003411676  0.003401325           0.003645407\n",
      "AP006222.2    0.001137225  0.001136363           0.001144957\n",
      "RP11-206L10.2 0.001895375  0.001892500           0.001965766\n",
      "RP11-206L10.9 0.001137225  0.001136363           0.001144957\n",
      "LINC00115     0.006823351  0.006779363           0.007480978\n",
      "NOC2L         0.107278241  0.159514698           0.203221328\n",
      "              vst.variance.standardized vst.variable\n",
      "AL627309.1                    0.9330441        FALSE\n",
      "AP006222.2                    0.9924937        FALSE\n",
      "RP11-206L10.2                 0.9627290        FALSE\n",
      "RP11-206L10.9                 0.9924937        FALSE\n",
      "LINC00115                     0.9062135        FALSE\n",
      "NOC2L                         0.7849309        FALSE\n"
     ]
    }
   ],
   "source": [
    "%%R\n",
    "# annotation of features\n",
    "pbmc3k.final@assays$RNA@meta.features %>% head()"
   ]
  },
  {
   "cell_type": "markdown",
   "metadata": {},
   "source": [
    "### `reductions` - dimensional reduction results and feature loadings"
   ]
  },
  {
   "cell_type": "code",
   "execution_count": 16,
   "metadata": {
    "ExecuteTime": {
     "end_time": "2024-12-21T14:22:15.682023Z",
     "start_time": "2024-12-21T14:22:15.640091Z"
    },
    "scrolled": true
   },
   "outputs": [
    {
     "name": "stdout",
     "output_type": "stream",
     "text": [
      "                     PC_1       PC_2       PC_3       PC_4        PC_5\n",
      "AAACATACAACCAC -4.7296855 -0.5184265 -0.7623220 -2.3156790 -0.07160006\n",
      "AAACATTGAGCTAC -0.5174029  4.5918957  5.9091921  6.9118856 -1.96243034\n",
      "AAACATTGATCAGC -3.1891063 -3.4695154 -0.8313710 -2.0019985 -5.10442765\n",
      "AAACCGTGCTTCCG 12.7933021  0.1007166  0.6310221 -0.3687338  0.21838204\n",
      "AAACCGTGTATGCG -3.1288078 -6.3481412  1.2507776  3.0191026  7.84739502\n"
     ]
    }
   ],
   "source": [
    "%%R\n",
    "# dimensional reduction results of pca\n",
    "pbmc3k.final@reductions$pca@cell.embeddings[1:5, 1:5]"
   ]
  },
  {
   "cell_type": "code",
   "execution_count": 17,
   "metadata": {
    "ExecuteTime": {
     "end_time": "2024-12-21T14:22:15.850953Z",
     "start_time": "2024-12-21T14:22:15.808208Z"
    }
   },
   "outputs": [
    {
     "name": "stdout",
     "output_type": "stream",
     "text": [
      "               PC_1        PC_2        PC_3        PC_4        PC_5\n",
      "PPBP    0.010990202  0.01148426 -0.15176092  0.10403737 0.003299077\n",
      "LYZ     0.116231706  0.01472515 -0.01280613 -0.04414540 0.049906881\n",
      "S100A9  0.115414362  0.01895146 -0.02368853 -0.05787777 0.085382309\n",
      "IGLL5  -0.007987473  0.05454239  0.04901533  0.06694722 0.004603231\n",
      "GNLY   -0.015238762 -0.13375626  0.04101340  0.06912322 0.104558611\n"
     ]
    }
   ],
   "source": [
    "%%R\n",
    "# pca feature loadings\n",
    "pbmc3k.final@reductions$pca@feature.loadings[1:5, 1:5]"
   ]
  },
  {
   "cell_type": "code",
   "execution_count": 18,
   "metadata": {
    "ExecuteTime": {
     "end_time": "2024-12-21T14:22:16.052424Z",
     "start_time": "2024-12-21T14:22:16.025782Z"
    }
   },
   "outputs": [
    {
     "name": "stdout",
     "output_type": "stream",
     "text": [
      "                  UMAP_1    UMAP_2\n",
      "AAACATACAACCAC -4.232792 -4.152139\n",
      "AAACATTGAGCTAC -4.892886 10.985685\n",
      "AAACATTGATCAGC -5.508639 -7.211088\n",
      "AAACCGTGCTTCCG 11.332233  3.161727\n",
      "AAACCGTGTATGCG -7.450703  1.092022\n"
     ]
    }
   ],
   "source": [
    "%%R\n",
    "# dimensional reduction results of umap\n",
    "pbmc3k.final@reductions$umap@cell.embeddings[1:5, 1:2]"
   ]
  },
  {
   "cell_type": "markdown",
   "metadata": {},
   "source": [
    "### `graphs` - relationship of cells, graphs"
   ]
  },
  {
   "cell_type": "code",
   "execution_count": 19,
   "metadata": {
    "ExecuteTime": {
     "end_time": "2024-12-21T14:22:17.941321Z",
     "start_time": "2024-12-21T14:22:17.786479Z"
    }
   },
   "outputs": [
    {
     "name": "stdout",
     "output_type": "stream",
     "text": [
      "10 x 10 sparse Matrix of class \"dgCMatrix\"\n"
     ]
    },
    {
     "name": "stderr",
     "output_type": "stream",
     "text": [
      "R[write to console]:   [[ suppressing 10 column names ‘AAACATACAACCAC’, ‘AAACATTGAGCTAC’, ‘AAACATTGATCAGC’ ... ]]\n",
      "\n"
     ]
    },
    {
     "name": "stdout",
     "output_type": "stream",
     "text": [
      "                                  \n",
      "AAACATACAACCAC 1 . . . . . . . . .\n",
      "AAACATTGAGCTAC . 1 . . . . . . . .\n",
      "AAACATTGATCAGC . . 1 . . . . . . .\n",
      "AAACCGTGCTTCCG . . . 1 . . . . . .\n",
      "AAACCGTGTATGCG . . . . 1 . . . . .\n",
      "AAACGCACTGGTAC . . . . . 1 . . . .\n",
      "AAACGCTGACCAGT 1 . . . . . 1 . . .\n",
      "AAACGCTGGTTCTT . . . . . . . 1 . .\n",
      "AAACGCTGTAGCCA . . . . . . . . 1 .\n",
      "AAACGCTGTTTCTG . . . . . . . . . 1\n"
     ]
    }
   ],
   "source": [
    "%%R\n",
    "# RNA_nn\n",
    "pbmc3k.final@graphs$RNA_nn[1:10,1:10]"
   ]
  },
  {
   "cell_type": "code",
   "execution_count": 20,
   "metadata": {
    "ExecuteTime": {
     "end_time": "2024-12-21T14:22:18.107264Z",
     "start_time": "2024-12-21T14:22:17.944676Z"
    },
    "scrolled": true
   },
   "outputs": [
    {
     "name": "stdout",
     "output_type": "stream",
     "text": [
      "10 x 10 sparse Matrix of class \"dgCMatrix\"\n"
     ]
    },
    {
     "name": "stderr",
     "output_type": "stream",
     "text": [
      "R[write to console]:   [[ suppressing 10 column names ‘AAACATACAACCAC’, ‘AAACATTGAGCTAC’, ‘AAACATTGATCAGC’ ... ]]\n",
      "\n"
     ]
    },
    {
     "name": "stdout",
     "output_type": "stream",
     "text": [
      "                                                            \n",
      "AAACATACAACCAC 1.0000000 . . . . . 0.11111111 .          . .\n",
      "AAACATTGAGCTAC .         1 . . . . .          .          . .\n",
      "AAACATTGATCAGC .         . 1 . . . .          .          . .\n",
      "AAACCGTGCTTCCG .         . . 1 . . .          .          . .\n",
      "AAACCGTGTATGCG .         . . . 1 . .          .          . .\n",
      "AAACGCACTGGTAC .         . . . . 1 .          .          . .\n",
      "AAACGCTGACCAGT 0.1111111 . . . . . 1.00000000 0.08108108 . .\n",
      "AAACGCTGGTTCTT .         . . . . . 0.08108108 1.00000000 . .\n",
      "AAACGCTGTAGCCA .         . . . . . .          .          1 .\n",
      "AAACGCTGTTTCTG .         . . . . . .          .          . 1\n"
     ]
    }
   ],
   "source": [
    "%%R\n",
    "# RNA_snn\n",
    "pbmc3k.final@graphs$RNA_snn[1:10,1:10]"
   ]
  },
  {
   "cell_type": "markdown",
   "metadata": {},
   "source": [
    "### `misc` - miscellaneous information"
   ]
  },
  {
   "cell_type": "code",
   "execution_count": 21,
   "metadata": {
    "ExecuteTime": {
     "end_time": "2024-12-21T14:22:20.111070Z",
     "start_time": "2024-12-21T14:22:20.100478Z"
    }
   },
   "outputs": [
    {
     "name": "stdout",
     "output_type": "stream",
     "text": [
      "list()\n"
     ]
    }
   ],
   "source": [
    "%%R\n",
    "# miscellaneous information\n",
    "pbmc3k.final@misc"
   ]
  },
  {
   "cell_type": "markdown",
   "metadata": {},
   "source": [
    "### `commands` - logged commands"
   ]
  },
  {
   "cell_type": "code",
   "execution_count": 22,
   "metadata": {
    "ExecuteTime": {
     "end_time": "2024-12-21T14:22:20.317704Z",
     "start_time": "2024-12-21T14:22:20.291550Z"
    }
   },
   "outputs": [
    {
     "name": "stdout",
     "output_type": "stream",
     "text": [
      "[1] \"NormalizeData.RNA\"        \"FindVariableFeatures.RNA\"\n",
      "[3] \"ScaleData.RNA\"            \"RunPCA.RNA\"              \n",
      "[5] \"JackStraw.RNA.pca\"        \"ScoreJackStraw\"          \n",
      "[7] \"FindNeighbors.RNA.pca\"    \"FindClusters\"            \n",
      "[9] \"RunUMAP.RNA.pca\"         \n"
     ]
    }
   ],
   "source": [
    "%%R\n",
    "# logged commands run on this Seurat object\n",
    "names(pbmc3k.final@commands)"
   ]
  },
  {
   "cell_type": "code",
   "execution_count": 23,
   "metadata": {
    "ExecuteTime": {
     "end_time": "2024-12-21T14:22:22.633118Z",
     "start_time": "2024-12-21T14:22:22.522416Z"
    },
    "scrolled": true
   },
   "outputs": [
    {
     "name": "stdout",
     "output_type": "stream",
     "text": [
      "Command: FindNeighbors(pbmc3k.final, dims = 1:10)\n",
      "Time: 2020-04-30 12:54:51\n",
      "reduction : pca \n",
      "dims : 1 2 3 4 5 6 7 8 9 10 \n",
      "assay : RNA \n",
      "k.param : 20 \n",
      "compute.SNN : TRUE \n",
      "prune.SNN : 0.06666667 \n",
      "nn.method : rann \n",
      "annoy.metric : euclidean \n",
      "nn.eps : 0 \n",
      "verbose : TRUE \n",
      "force.recalc : FALSE \n",
      "do.plot : FALSE \n",
      "graph.name : RNA_nn RNA_snn \n"
     ]
    }
   ],
   "source": [
    "%%R\n",
    "# parameters for SNN Graph Construction\n",
    "pbmc3k.final@commands$FindNeighbors.RNA.pca"
   ]
  },
  {
   "cell_type": "code",
   "execution_count": 24,
   "metadata": {
    "ExecuteTime": {
     "end_time": "2024-12-21T14:25:53.164221Z",
     "start_time": "2024-12-21T14:25:53.098159Z"
    }
   },
   "outputs": [],
   "source": [
    "%%R\n",
    "# convert SeuratObject to AnnData (use current conda environment)\n",
    "# now integrated into GEfetch2R\n",
    "Seu2AD = function(seu.obj, method = c(\"SeuratDisk\", \"sceasy\", \"scDIOR\"), out.folder = NULL,\n",
    "                  out.filename = NULL, assay=\"RNA\", slot = \"counts\", save.scale = FALSE){\n",
    "  # check parameters\n",
    "  method <- match.arg(arg = method)\n",
    "  # check folder\n",
    "  if(is.null(out.folder)){\n",
    "    out.folder = getwd()\n",
    "  }\n",
    "  if(! dir.exists(out.folder)){\n",
    "    message(out.folder, \" does not exist, create automatically!\")\n",
    "    dir.create(path = out.folder, showWarnings = FALSE)\n",
    "  }\n",
    "  # out name\n",
    "  out.name = deparse(substitute(seu.obj))\n",
    "  # conversion\n",
    "  if(method == \"SeuratDisk\"){\n",
    "    if(is.null(out.filename)){\n",
    "      seu.out.name = file.path(out.folder, paste0(out.name, \"_SeuratDisk.h5Seurat\"))\n",
    "    }else{\n",
    "      seu.out.name = file.path(out.folder, out.filename)\n",
    "    }\n",
    "    if(save.scale){\n",
    "      seu.scale = Seurat::GetAssayData(object = seu.obj, slot = \"scale.data\", assay = assay)\n",
    "      if(nrow(seu.scale) == 0){\n",
    "        message(\"There is no scale.data in seu.obj!\")\n",
    "      }\n",
    "    }else{\n",
    "      seu.obj[[\"RNA\"]]@scale.data = matrix(numeric(0),0,0)\n",
    "    }\n",
    "    seu.log = tryCatch(\n",
    "      {\n",
    "        SeuratDisk::SaveH5Seurat(seu.obj, filename = seu.out.name, overwrite = TRUE)\n",
    "        SeuratDisk::Convert(seu.out.name, dest = \"h5ad\", assay = assay, overwrite = TRUE)\n",
    "      },\n",
    "      error = function(cond) {\n",
    "        message(\"There is an error when using SeuratDisk: \", cond)\n",
    "      }\n",
    "    )\n",
    "    return(seu.log)\n",
    "  }else if(method == \"sceasy\"){\n",
    "    if(is.null(out.filename)){\n",
    "      sceasy.out.name = file.path(out.folder, paste0(out.name, \"_sceasy.h5ad\"))\n",
    "    }else{\n",
    "      sceasy.out.name = file.path(out.folder, out.filename)\n",
    "    }\n",
    "    sceasy.log = tryCatch(\n",
    "      {\n",
    "        # reticulate::use_condaenv(\"/Applications/anaconda3\", required = TRUE)\n",
    "        # or set RETICULATE_PYTHON = \"/Applications/anaconda3/bin/python\" in Renvion\n",
    "        sceasy::convertFormat(seu.obj, from=\"seurat\", to=\"anndata\", drop_single_values = FALSE,\n",
    "                              outFile=sceasy.out.name, main_layer = slot, assay=assay)\n",
    "      },\n",
    "      error = function(cond) {\n",
    "        message(\"There is an error when using sceasy: \", cond)\n",
    "      }\n",
    "    )\n",
    "    return(sceasy.log)\n",
    "  }else if(method == \"scDIOR\"){\n",
    "    if(is.null(out.filename)){\n",
    "      scdior.out.name = file.path(out.folder, paste0(out.name, \"_scDIOR.h5\"))\n",
    "    }else{\n",
    "      scdior.out.name = file.path(out.folder, out.filename)\n",
    "    }\n",
    "    scdior.log = tryCatch(\n",
    "      {\n",
    "        dior::write_h5(data = seu.obj, object.type = \"seurat\", file = scdior.out.name,\n",
    "                       assay.name = assay, save.scale = save.scale)\n",
    "        # adata = diopy.input.read_h5(file = 'pbmc3k.h5') # require diopy to load h5 to AnnData\n",
    "      },\n",
    "      error = function(cond) {\n",
    "        message(\"There is an error when using scDIOR: \", cond)\n",
    "      }\n",
    "    )\n",
    "    return(scdior.log)\n",
    "  }\n",
    "}"
   ]
  },
  {
   "cell_type": "markdown",
   "metadata": {},
   "source": [
    "## SeuratDisk"
   ]
  },
  {
   "cell_type": "markdown",
   "metadata": {},
   "source": [
    "**Retained information** (`SeuratObject -> AnnData`):\n",
    "\n",
    "   * count matrix: log-normalized data (`data -> raw.X/X`), scaled data (`scale.data -> X`)/raw count matrix (`counts -> raw.X`) (`save.scale = TRUE/FALSE`)\n",
    "   * cells' meta-information (`meta.data -> obs`)\n",
    "   * annotation of features (`meta.features -> var`)\n",
    "   * dimensional reduction results (`reductions -> obsm`)\n",
    "   * relationship of cells, graphs (only contains `RNA_snn` graph) (`graphs -> obsp`)\n",
    "   * alternative assay (`assay -> layers`)"
   ]
  },
  {
   "cell_type": "code",
   "execution_count": 25,
   "metadata": {
    "ExecuteTime": {
     "end_time": "2024-12-21T14:26:40.865688Z",
     "start_time": "2024-12-21T14:26:19.063912Z"
    },
    "scrolled": true
   },
   "outputs": [
    {
     "name": "stderr",
     "output_type": "stream",
     "text": [
      "R[write to console]: Registered S3 method overwritten by 'SeuratDisk':\n",
      "  method            from  \n",
      "  as.sparse.H5Group Seurat\n",
      "\n",
      "R[write to console]: Creating h5Seurat file for version 3.1.5.9900\n",
      "\n",
      "R[write to console]: Adding counts for RNA\n",
      "\n",
      "R[write to console]: Adding data for RNA\n",
      "\n",
      "R[write to console]: Adding scale.data for RNA\n",
      "\n",
      "R[write to console]: Adding variable features for RNA\n",
      "\n",
      "R[write to console]: Adding feature-level metadata for RNA\n",
      "\n",
      "R[write to console]: Adding counts for rawcounts\n",
      "\n",
      "R[write to console]: Adding data for rawcounts\n",
      "\n",
      "R[write to console]: No variable features found for rawcounts\n",
      "\n",
      "R[write to console]: No feature-level metadata found for rawcounts\n",
      "\n",
      "R[write to console]: Adding cell embeddings for pca\n",
      "\n",
      "R[write to console]: Adding loadings for pca\n",
      "\n",
      "R[write to console]: No projected loadings for pca\n",
      "\n",
      "R[write to console]: Adding standard deviations for pca\n",
      "\n",
      "R[write to console]: Adding JackStraw information for pca\n",
      "\n",
      "R[write to console]: Adding cell embeddings for umap\n",
      "\n",
      "R[write to console]: No loadings for umap\n",
      "\n",
      "R[write to console]: No projected loadings for umap\n",
      "\n",
      "R[write to console]: No standard deviations for umap\n",
      "\n",
      "R[write to console]: No JackStraw data for umap\n",
      "\n",
      "R[write to console]: Validating h5Seurat file\n",
      "\n",
      "R[write to console]: Adding scale.data from RNA as X\n",
      "\n",
      "R[write to console]: Transfering meta.features to var\n",
      "\n",
      "R[write to console]: Adding data from RNA as raw\n",
      "\n",
      "R[write to console]: Transfering meta.features to raw/var\n",
      "\n",
      "R[write to console]: Transfering meta.data to obs\n",
      "\n",
      "R[write to console]: Adding dimensional reduction information for pca\n",
      "\n",
      "R[write to console]: Adding feature loadings for pca\n",
      "\n",
      "R[write to console]: Adding dimensional reduction information for umap\n",
      "\n",
      "R[write to console]: Adding RNA_snn as neighbors\n",
      "\n",
      "R[write to console]: Adding data from rawcounts as a layer\n",
      "\n"
     ]
    },
    {
     "name": "stdout",
     "output_type": "stream",
     "text": [
      "[1] \"/Users/soyabean/Desktop/tmp/scdown/benchmark/pbmc3k.final_SeuratDisk.h5ad\"\n"
     ]
    }
   ],
   "source": [
    "%%R\n",
    "# set save.scale=TRUE, scaled data is stored in X，log-normalized data is in raw.X\n",
    "# set save.scale=FALSE, log-normalized data is stored in X，raw count matrix is in raw.X\n",
    "Seu2AD(seu.obj = pbmc3k.final, method = \"SeuratDisk\", out.folder = \"./\",\n",
    "       assay=\"RNA\", save.scale = TRUE)"
   ]
  },
  {
   "cell_type": "code",
   "execution_count": 26,
   "metadata": {
    "ExecuteTime": {
     "end_time": "2024-12-21T14:26:45.009621Z",
     "start_time": "2024-12-21T14:26:40.869008Z"
    }
   },
   "outputs": [
    {
     "name": "stderr",
     "output_type": "stream",
     "text": [
      "/Applications/anaconda3/lib/python3.7/site-packages/anndata/compat/__init__.py:235: FutureWarning: Moving element from .uns['neighbors']['distances'] to .obsp['distances'].\n",
      "\n",
      "This is where adjacency matrices should go now.\n",
      "  FutureWarning,\n"
     ]
    },
    {
     "data": {
      "text/plain": [
       "AnnData object with n_obs × n_vars = 2638 × 13714\n",
       "    obs: 'orig.ident', 'nCount_RNA', 'nFeature_RNA', 'seurat_annotations', 'percent.mt', 'RNA_snn_res.0.5', 'seurat_clusters', 'nCount_rawcounts', 'nFeature_rawcounts'\n",
       "    var: 'vst.mean', 'vst.variance', 'vst.variance.expected', 'vst.variance.standardized', 'vst.variable', 'rawcounts_features'\n",
       "    uns: 'neighbors'\n",
       "    obsm: 'X_pca', 'X_umap'\n",
       "    varm: 'PCs'\n",
       "    layers: 'rawcounts'\n",
       "    obsp: 'distances'"
      ]
     },
     "execution_count": 26,
     "metadata": {},
     "output_type": "execute_result"
    }
   ],
   "source": [
    "seudisk_ann = sc.read(\"./pbmc3k.final_SeuratDisk.h5ad\")\n",
    "seudisk_ann"
   ]
  },
  {
   "cell_type": "code",
   "execution_count": 27,
   "metadata": {
    "ExecuteTime": {
     "end_time": "2024-12-21T14:26:45.023310Z",
     "start_time": "2024-12-21T14:26:45.013236Z"
    },
    "scrolled": false
   },
   "outputs": [
    {
     "data": {
      "text/plain": [
       "array([[-0.05812316, -0.03357571, -0.04166819, -0.03364562],\n",
       "       [-0.05812316, -0.03357571, -0.04166819, -0.03364562],\n",
       "       [-0.05812316, -0.03357571, -0.04166819, -0.03364562],\n",
       "       [-0.05812316, -0.03357571, -0.04166819, -0.03364562],\n",
       "       [-0.05812316, -0.03357571, -0.04166819, -0.03364562],\n",
       "       [-0.05812316, -0.03357571, -0.04166819, -0.03364562],\n",
       "       [-0.05812316, -0.03357571, -0.04166819, -0.03364562],\n",
       "       [-0.05812316, -0.03357571, -0.04166819, -0.03364562],\n",
       "       [-0.05812316, -0.03357571, -0.04166819, -0.03364562],\n",
       "       [-0.05812316, -0.03357571, -0.04166819, -0.03364562]])"
      ]
     },
     "execution_count": 27,
     "metadata": {},
     "output_type": "execute_result"
    },
    {
     "data": {
      "text/plain": [
       "(2638, 13714)"
      ]
     },
     "execution_count": 27,
     "metadata": {},
     "output_type": "execute_result"
    }
   ],
   "source": [
    "# scaled count matrix\n",
    "seudisk_ann.X[0:10,0:4]\n",
    "# shape\n",
    "seudisk_ann.X.shape"
   ]
  },
  {
   "cell_type": "code",
   "execution_count": 28,
   "metadata": {
    "ExecuteTime": {
     "end_time": "2024-12-21T14:27:16.151371Z",
     "start_time": "2024-12-21T14:27:15.752940Z"
    },
    "scrolled": true
   },
   "outputs": [
    {
     "name": "stderr",
     "output_type": "stream",
     "text": [
      "/Applications/anaconda3/lib/python3.7/site-packages/anndata/_core/raw.py:146: FutureWarning: X.dtype being converted to np.float32 from float64. In the next version of anndata (0.9) conversion will not be automatic. Pass dtype explicitly to avoid this warning. Pass `AnnData(X, dtype=X.dtype, ...)` to get the future behavour.\n",
      "  uns=self._adata.uns.copy(),\n"
     ]
    },
    {
     "data": {
      "text/plain": [
       "array([[0.       , 0.       , 0.       , 0.       , 0.       , 0.       ,\n",
       "        0.       , 0.       , 0.       , 0.       , 0.       , 0.       ,\n",
       "        0.       , 0.       , 0.       ],\n",
       "       [0.       , 0.       , 0.       , 0.       , 0.       , 0.       ,\n",
       "        0.       , 0.       , 0.       , 0.       , 0.       , 0.       ,\n",
       "        0.       , 0.       , 1.625141 ],\n",
       "       [0.       , 0.       , 0.       , 0.       , 0.       , 0.       ,\n",
       "        0.       , 0.       , 0.       , 0.       , 0.       , 1.429744 ,\n",
       "        0.       , 0.       , 0.       ],\n",
       "       [0.       , 0.       , 0.       , 0.       , 0.       , 0.       ,\n",
       "        0.       , 0.       , 0.       , 0.       , 0.       , 3.5583103,\n",
       "        0.       , 0.       , 0.       ],\n",
       "       [0.       , 0.       , 0.       , 0.       , 0.       , 0.       ,\n",
       "        0.       , 0.       , 0.       , 0.       , 0.       , 0.       ,\n",
       "        0.       , 0.       , 0.       ],\n",
       "       [0.       , 0.       , 0.       , 0.       , 0.       , 0.       ,\n",
       "        0.       , 0.       , 0.       , 0.       , 0.       , 1.7269024,\n",
       "        0.       , 0.       , 0.       ],\n",
       "       [0.       , 0.       , 0.       , 0.       , 0.       , 0.       ,\n",
       "        0.       , 0.       , 0.       , 0.       , 0.       , 0.       ,\n",
       "        0.       , 0.       , 0.       ],\n",
       "       [0.       , 0.       , 0.       , 0.       , 0.       , 0.       ,\n",
       "        0.       , 0.       , 0.       , 0.       , 0.       , 0.       ,\n",
       "        0.       , 0.       , 0.       ],\n",
       "       [0.       , 0.       , 0.       , 0.       , 0.       , 0.       ,\n",
       "        0.       , 0.       , 0.       , 0.       , 0.       , 0.       ,\n",
       "        0.       , 0.       , 0.       ],\n",
       "       [0.       , 0.       , 0.       , 0.       , 0.       , 0.       ,\n",
       "        0.       , 0.       , 0.       , 0.       , 0.       , 3.3392706,\n",
       "        0.       , 0.       , 0.       ]], dtype=float32)"
      ]
     },
     "execution_count": 28,
     "metadata": {},
     "output_type": "execute_result"
    },
    {
     "data": {
      "text/plain": [
       "(2638, 13714)"
      ]
     },
     "execution_count": 28,
     "metadata": {},
     "output_type": "execute_result"
    }
   ],
   "source": [
    "# log-normalized count matrix\n",
    "seudisk_ann.raw.to_adata().X.toarray()[0:10,0:15]\n",
    "# shape\n",
    "seudisk_ann.raw.to_adata().X.shape"
   ]
  },
  {
   "cell_type": "code",
   "execution_count": 29,
   "metadata": {
    "ExecuteTime": {
     "end_time": "2024-12-21T14:27:16.202443Z",
     "start_time": "2024-12-21T14:27:16.158644Z"
    }
   },
   "outputs": [
    {
     "data": {
      "text/html": [
       "<div>\n",
       "<style scoped>\n",
       "    .dataframe tbody tr th:only-of-type {\n",
       "        vertical-align: middle;\n",
       "    }\n",
       "\n",
       "    .dataframe tbody tr th {\n",
       "        vertical-align: top;\n",
       "    }\n",
       "\n",
       "    .dataframe thead th {\n",
       "        text-align: right;\n",
       "    }\n",
       "</style>\n",
       "<table border=\"1\" class=\"dataframe\">\n",
       "  <thead>\n",
       "    <tr style=\"text-align: right;\">\n",
       "      <th></th>\n",
       "      <th>orig.ident</th>\n",
       "      <th>nCount_RNA</th>\n",
       "      <th>nFeature_RNA</th>\n",
       "      <th>seurat_annotations</th>\n",
       "      <th>percent.mt</th>\n",
       "      <th>RNA_snn_res.0.5</th>\n",
       "      <th>seurat_clusters</th>\n",
       "      <th>nCount_rawcounts</th>\n",
       "      <th>nFeature_rawcounts</th>\n",
       "    </tr>\n",
       "  </thead>\n",
       "  <tbody>\n",
       "    <tr>\n",
       "      <th>AAACATACAACCAC</th>\n",
       "      <td>0</td>\n",
       "      <td>2419.0</td>\n",
       "      <td>779</td>\n",
       "      <td>1</td>\n",
       "      <td>3.017776</td>\n",
       "      <td>1</td>\n",
       "      <td>1</td>\n",
       "      <td>2419.0</td>\n",
       "      <td>779</td>\n",
       "    </tr>\n",
       "    <tr>\n",
       "      <th>AAACATTGAGCTAC</th>\n",
       "      <td>0</td>\n",
       "      <td>4903.0</td>\n",
       "      <td>1352</td>\n",
       "      <td>3</td>\n",
       "      <td>3.793596</td>\n",
       "      <td>3</td>\n",
       "      <td>3</td>\n",
       "      <td>4903.0</td>\n",
       "      <td>1352</td>\n",
       "    </tr>\n",
       "    <tr>\n",
       "      <th>AAACATTGATCAGC</th>\n",
       "      <td>0</td>\n",
       "      <td>3147.0</td>\n",
       "      <td>1129</td>\n",
       "      <td>1</td>\n",
       "      <td>0.889736</td>\n",
       "      <td>1</td>\n",
       "      <td>1</td>\n",
       "      <td>3147.0</td>\n",
       "      <td>1129</td>\n",
       "    </tr>\n",
       "    <tr>\n",
       "      <th>AAACCGTGCTTCCG</th>\n",
       "      <td>0</td>\n",
       "      <td>2639.0</td>\n",
       "      <td>960</td>\n",
       "      <td>2</td>\n",
       "      <td>1.743085</td>\n",
       "      <td>2</td>\n",
       "      <td>2</td>\n",
       "      <td>2639.0</td>\n",
       "      <td>960</td>\n",
       "    </tr>\n",
       "    <tr>\n",
       "      <th>AAACCGTGTATGCG</th>\n",
       "      <td>0</td>\n",
       "      <td>980.0</td>\n",
       "      <td>521</td>\n",
       "      <td>6</td>\n",
       "      <td>1.224490</td>\n",
       "      <td>6</td>\n",
       "      <td>6</td>\n",
       "      <td>980.0</td>\n",
       "      <td>521</td>\n",
       "    </tr>\n",
       "  </tbody>\n",
       "</table>\n",
       "</div>"
      ],
      "text/plain": [
       "                orig.ident  nCount_RNA  nFeature_RNA  seurat_annotations  \\\n",
       "AAACATACAACCAC           0      2419.0           779                   1   \n",
       "AAACATTGAGCTAC           0      4903.0          1352                   3   \n",
       "AAACATTGATCAGC           0      3147.0          1129                   1   \n",
       "AAACCGTGCTTCCG           0      2639.0           960                   2   \n",
       "AAACCGTGTATGCG           0       980.0           521                   6   \n",
       "\n",
       "                percent.mt  RNA_snn_res.0.5  seurat_clusters  \\\n",
       "AAACATACAACCAC    3.017776                1                1   \n",
       "AAACATTGAGCTAC    3.793596                3                3   \n",
       "AAACATTGATCAGC    0.889736                1                1   \n",
       "AAACCGTGCTTCCG    1.743085                2                2   \n",
       "AAACCGTGTATGCG    1.224490                6                6   \n",
       "\n",
       "                nCount_rawcounts  nFeature_rawcounts  \n",
       "AAACATACAACCAC            2419.0                 779  \n",
       "AAACATTGAGCTAC            4903.0                1352  \n",
       "AAACATTGATCAGC            3147.0                1129  \n",
       "AAACCGTGCTTCCG            2639.0                 960  \n",
       "AAACCGTGTATGCG             980.0                 521  "
      ]
     },
     "execution_count": 29,
     "metadata": {},
     "output_type": "execute_result"
    }
   ],
   "source": [
    "# cells' meta-information\n",
    "seudisk_ann.obs.head()"
   ]
  },
  {
   "cell_type": "code",
   "execution_count": 30,
   "metadata": {
    "ExecuteTime": {
     "end_time": "2024-12-21T14:27:16.606353Z",
     "start_time": "2024-12-21T14:27:16.575985Z"
    }
   },
   "outputs": [
    {
     "data": {
      "text/html": [
       "<div>\n",
       "<style scoped>\n",
       "    .dataframe tbody tr th:only-of-type {\n",
       "        vertical-align: middle;\n",
       "    }\n",
       "\n",
       "    .dataframe tbody tr th {\n",
       "        vertical-align: top;\n",
       "    }\n",
       "\n",
       "    .dataframe thead th {\n",
       "        text-align: right;\n",
       "    }\n",
       "</style>\n",
       "<table border=\"1\" class=\"dataframe\">\n",
       "  <thead>\n",
       "    <tr style=\"text-align: right;\">\n",
       "      <th></th>\n",
       "      <th>vst.mean</th>\n",
       "      <th>vst.variance</th>\n",
       "      <th>vst.variance.expected</th>\n",
       "      <th>vst.variance.standardized</th>\n",
       "      <th>vst.variable</th>\n",
       "      <th>rawcounts_features</th>\n",
       "    </tr>\n",
       "  </thead>\n",
       "  <tbody>\n",
       "    <tr>\n",
       "      <th>AL627309.1</th>\n",
       "      <td>0.003412</td>\n",
       "      <td>0.003401</td>\n",
       "      <td>0.003645</td>\n",
       "      <td>0.933044</td>\n",
       "      <td>0</td>\n",
       "      <td>AL627309.1</td>\n",
       "    </tr>\n",
       "    <tr>\n",
       "      <th>AP006222.2</th>\n",
       "      <td>0.001137</td>\n",
       "      <td>0.001136</td>\n",
       "      <td>0.001145</td>\n",
       "      <td>0.992494</td>\n",
       "      <td>0</td>\n",
       "      <td>AP006222.2</td>\n",
       "    </tr>\n",
       "    <tr>\n",
       "      <th>RP11-206L10.2</th>\n",
       "      <td>0.001895</td>\n",
       "      <td>0.001893</td>\n",
       "      <td>0.001966</td>\n",
       "      <td>0.962729</td>\n",
       "      <td>0</td>\n",
       "      <td>RP11-206L10.2</td>\n",
       "    </tr>\n",
       "    <tr>\n",
       "      <th>RP11-206L10.9</th>\n",
       "      <td>0.001137</td>\n",
       "      <td>0.001136</td>\n",
       "      <td>0.001145</td>\n",
       "      <td>0.992494</td>\n",
       "      <td>0</td>\n",
       "      <td>RP11-206L10.9</td>\n",
       "    </tr>\n",
       "    <tr>\n",
       "      <th>LINC00115</th>\n",
       "      <td>0.006823</td>\n",
       "      <td>0.006779</td>\n",
       "      <td>0.007481</td>\n",
       "      <td>0.906213</td>\n",
       "      <td>0</td>\n",
       "      <td>LINC00115</td>\n",
       "    </tr>\n",
       "  </tbody>\n",
       "</table>\n",
       "</div>"
      ],
      "text/plain": [
       "               vst.mean  vst.variance  vst.variance.expected  \\\n",
       "AL627309.1     0.003412      0.003401               0.003645   \n",
       "AP006222.2     0.001137      0.001136               0.001145   \n",
       "RP11-206L10.2  0.001895      0.001893               0.001966   \n",
       "RP11-206L10.9  0.001137      0.001136               0.001145   \n",
       "LINC00115      0.006823      0.006779               0.007481   \n",
       "\n",
       "               vst.variance.standardized  vst.variable rawcounts_features  \n",
       "AL627309.1                      0.933044             0         AL627309.1  \n",
       "AP006222.2                      0.992494             0         AP006222.2  \n",
       "RP11-206L10.2                   0.962729             0      RP11-206L10.2  \n",
       "RP11-206L10.9                   0.992494             0      RP11-206L10.9  \n",
       "LINC00115                       0.906213             0          LINC00115  "
      ]
     },
     "execution_count": 30,
     "metadata": {},
     "output_type": "execute_result"
    },
    {
     "data": {
      "text/plain": [
       "(13714, 6)"
      ]
     },
     "execution_count": 30,
     "metadata": {},
     "output_type": "execute_result"
    }
   ],
   "source": [
    "# annotation of features\n",
    "seudisk_ann.var.head()\n",
    "# shape\n",
    "seudisk_ann.var.shape"
   ]
  },
  {
   "cell_type": "code",
   "execution_count": 31,
   "metadata": {
    "ExecuteTime": {
     "end_time": "2024-12-21T14:27:16.877759Z",
     "start_time": "2024-12-21T14:27:16.871227Z"
    },
    "scrolled": true
   },
   "outputs": [
    {
     "data": {
      "text/plain": [
       "{'method': array(['snn'], dtype=object), 'n_neighbors': array([20.])}"
      ]
     },
     "execution_count": 31,
     "metadata": {},
     "output_type": "execute_result"
    }
   ],
   "source": [
    "# unstructured annotation, converted from pbmc3k.final@commands$FindNeighbors.RNA.pca\n",
    "seudisk_ann.uns['neighbors']['params']"
   ]
  },
  {
   "cell_type": "code",
   "execution_count": 32,
   "metadata": {
    "ExecuteTime": {
     "end_time": "2024-12-21T14:27:18.567492Z",
     "start_time": "2024-12-21T14:27:18.555138Z"
    },
    "scrolled": true
   },
   "outputs": [
    {
     "data": {
      "text/plain": [
       "array([[-4.72968551, -0.51842651, -0.76232201, -2.31567898, -0.07160006],\n",
       "       [-0.51740293,  4.59189566,  5.90919209,  6.91188558, -1.96243034],\n",
       "       [-3.18910634, -3.46951536, -0.83137104, -2.00199849, -5.10442765],\n",
       "       [12.79330206,  0.10071659,  0.63102207, -0.36873382,  0.21838204],\n",
       "       [-3.12880778, -6.34814123,  1.25077756,  3.01910262,  7.84739502]])"
      ]
     },
     "execution_count": 32,
     "metadata": {},
     "output_type": "execute_result"
    },
    {
     "data": {
      "text/plain": [
       "array([[-4.23279204, -4.1521394 ],\n",
       "       [-4.89288606, 10.98568513],\n",
       "       [-5.50863876, -7.2110884 ],\n",
       "       [11.33223281,  3.16172697],\n",
       "       [-7.45070281,  1.09202202]])"
      ]
     },
     "execution_count": 32,
     "metadata": {},
     "output_type": "execute_result"
    }
   ],
   "source": [
    "# dimensional reduction results of pca\n",
    "seudisk_ann.obsm['X_pca'][0:5, 0:5]\n",
    "# dimensional reduction results of umap\n",
    "seudisk_ann.obsm['X_umap'][0:5, 0:2]"
   ]
  },
  {
   "cell_type": "code",
   "execution_count": 33,
   "metadata": {
    "ExecuteTime": {
     "end_time": "2024-12-21T14:27:19.235667Z",
     "start_time": "2024-12-21T14:27:19.229380Z"
    }
   },
   "outputs": [
    {
     "data": {
      "text/plain": [
       "array([[nan, nan, nan, nan, nan],\n",
       "       [nan, nan, nan, nan, nan],\n",
       "       [nan, nan, nan, nan, nan],\n",
       "       [nan, nan, nan, nan, nan],\n",
       "       [nan, nan, nan, nan, nan]])"
      ]
     },
     "execution_count": 33,
     "metadata": {},
     "output_type": "execute_result"
    }
   ],
   "source": [
    "# feature loadings, wrong values\n",
    "seudisk_ann.varm['PCs'][0:5, 0:5]"
   ]
  },
  {
   "cell_type": "code",
   "execution_count": 34,
   "metadata": {
    "ExecuteTime": {
     "end_time": "2024-12-21T14:27:30.692797Z",
     "start_time": "2024-12-21T14:27:30.433937Z"
    }
   },
   "outputs": [
    {
     "data": {
      "text/plain": [
       "array([[0., 0., 0., ..., 0., 0., 0.],\n",
       "       [0., 0., 0., ..., 0., 0., 0.],\n",
       "       [0., 0., 0., ..., 0., 0., 0.],\n",
       "       ...,\n",
       "       [0., 0., 0., ..., 0., 0., 0.],\n",
       "       [0., 0., 0., ..., 1., 0., 0.],\n",
       "       [0., 0., 0., ..., 0., 0., 0.]])"
      ]
     },
     "execution_count": 34,
     "metadata": {},
     "output_type": "execute_result"
    },
    {
     "data": {
      "text/plain": [
       "(2638, 13714)"
      ]
     },
     "execution_count": 34,
     "metadata": {},
     "output_type": "execute_result"
    }
   ],
   "source": [
    "# layers (raw count matrix)\n",
    "seudisk_ann.layers['rawcounts'].toarray()\n",
    "# shape\n",
    "seudisk_ann.layers['rawcounts'].shape"
   ]
  },
  {
   "cell_type": "code",
   "execution_count": 35,
   "metadata": {
    "ExecuteTime": {
     "end_time": "2024-12-21T14:27:32.423317Z",
     "start_time": "2024-12-21T14:27:32.306431Z"
    }
   },
   "outputs": [
    {
     "data": {
      "text/plain": [
       "PairwiseArrays with keys: distances"
      ]
     },
     "execution_count": 35,
     "metadata": {},
     "output_type": "execute_result"
    },
    {
     "data": {
      "text/plain": [
       "array([[1.        , 0.        , 0.        , 0.        , 0.        ,\n",
       "        0.        , 0.11111111, 0.        , 0.        , 0.        ],\n",
       "       [0.        , 1.        , 0.        , 0.        , 0.        ,\n",
       "        0.        , 0.        , 0.        , 0.        , 0.        ],\n",
       "       [0.        , 0.        , 1.        , 0.        , 0.        ,\n",
       "        0.        , 0.        , 0.        , 0.        , 0.        ],\n",
       "       [0.        , 0.        , 0.        , 1.        , 0.        ,\n",
       "        0.        , 0.        , 0.        , 0.        , 0.        ],\n",
       "       [0.        , 0.        , 0.        , 0.        , 1.        ,\n",
       "        0.        , 0.        , 0.        , 0.        , 0.        ],\n",
       "       [0.        , 0.        , 0.        , 0.        , 0.        ,\n",
       "        1.        , 0.        , 0.        , 0.        , 0.        ],\n",
       "       [0.11111111, 0.        , 0.        , 0.        , 0.        ,\n",
       "        0.        , 1.        , 0.08108108, 0.        , 0.        ],\n",
       "       [0.        , 0.        , 0.        , 0.        , 0.        ,\n",
       "        0.        , 0.08108108, 1.        , 0.        , 0.        ],\n",
       "       [0.        , 0.        , 0.        , 0.        , 0.        ,\n",
       "        0.        , 0.        , 0.        , 1.        , 0.        ],\n",
       "       [0.        , 0.        , 0.        , 0.        , 0.        ,\n",
       "        0.        , 0.        , 0.        , 0.        , 1.        ]])"
      ]
     },
     "execution_count": 35,
     "metadata": {},
     "output_type": "execute_result"
    }
   ],
   "source": [
    "# relationship of cells, graphs\n",
    "seudisk_ann.obsp\n",
    "# only contains RNA_snn graph\n",
    "seudisk_ann.obsp['distances'].toarray()[0:10,0:10]"
   ]
  },
  {
   "cell_type": "markdown",
   "metadata": {},
   "source": [
    "## sceasy"
   ]
  },
  {
   "cell_type": "markdown",
   "metadata": {},
   "source": [
    "**Retained information** (`SeuratObject -> AnnData`):\n",
    "\n",
    "   * count matrix: log-normalized data/scaled data/raw count matrix (`data/scale.data/counts -> X`) (`slot` parameter)\n",
    "   * cells' meta-information (`meta.data -> obs`)\n",
    "   * annotation of features (`meta.features -> var`)\n",
    "   * dimensional reduction results (`reductions -> obsm`)"
   ]
  },
  {
   "cell_type": "code",
   "execution_count": 36,
   "metadata": {
    "ExecuteTime": {
     "end_time": "2024-12-21T14:28:24.803431Z",
     "start_time": "2024-12-21T14:28:20.568490Z"
    }
   },
   "outputs": [
    {
     "name": "stderr",
     "output_type": "stream",
     "text": [
      "/Applications/anaconda3/lib/python3.7/site-packages/rpy2/rinterface.py:807: FutureWarning: X.dtype being converted to np.float32 from float64. In the next version of anndata (0.9) conversion will not be automatic. Pass dtype explicitly to avoid this warning. Pass `AnnData(X, dtype=X.dtype, ...)` to get the future behavour.\n",
      "  error_occured)\n"
     ]
    },
    {
     "name": "stdout",
     "output_type": "stream",
     "text": [
      "AnnData object with n_obs × n_vars = 2638 × 13714\n",
      "    obs: 'orig.ident', 'nCount_RNA', 'nFeature_RNA', 'seurat_annotations', 'percent.mt', 'RNA_snn_res.0.5', 'seurat_clusters', 'nCount_rawcounts', 'nFeature_rawcounts'\n",
      "    var: 'vst.mean', 'vst.variance', 'vst.variance.expected', 'vst.variance.standardized', 'vst.variable'\n",
      "    obsm: 'X_pca', 'X_umap'\n"
     ]
    }
   ],
   "source": [
    "%%R\n",
    "# slot = \"counts\": use raw count matrix \n",
    "Seu2AD(seu.obj = pbmc3k.final, method = \"sceasy\", out.folder = \"./\",\n",
    "       assay=\"RNA\", slot = \"counts\")"
   ]
  },
  {
   "cell_type": "code",
   "execution_count": 37,
   "metadata": {
    "ExecuteTime": {
     "end_time": "2024-12-21T14:28:25.180007Z",
     "start_time": "2024-12-21T14:28:24.807773Z"
    }
   },
   "outputs": [
    {
     "data": {
      "text/plain": [
       "AnnData object with n_obs × n_vars = 2638 × 13714\n",
       "    obs: 'orig.ident', 'nCount_RNA', 'nFeature_RNA', 'seurat_annotations', 'percent.mt', 'RNA_snn_res.0.5', 'seurat_clusters', 'nCount_rawcounts', 'nFeature_rawcounts'\n",
       "    var: 'vst.mean', 'vst.variance', 'vst.variance.expected', 'vst.variance.standardized', 'vst.variable'\n",
       "    obsm: 'X_pca', 'X_umap'"
      ]
     },
     "execution_count": 37,
     "metadata": {},
     "output_type": "execute_result"
    }
   ],
   "source": [
    "seusceasy_ann = sc.read(\"./pbmc3k.final_sceasy.h5ad\")\n",
    "seusceasy_ann"
   ]
  },
  {
   "cell_type": "code",
   "execution_count": 38,
   "metadata": {
    "ExecuteTime": {
     "end_time": "2024-12-21T14:28:25.284357Z",
     "start_time": "2024-12-21T14:28:25.183660Z"
    }
   },
   "outputs": [
    {
     "data": {
      "text/plain": [
       "array([[0., 0., 0., ..., 0., 0., 0.],\n",
       "       [0., 0., 0., ..., 0., 0., 0.],\n",
       "       [0., 0., 0., ..., 0., 0., 0.],\n",
       "       ...,\n",
       "       [0., 0., 0., ..., 0., 0., 0.],\n",
       "       [0., 0., 0., ..., 1., 0., 0.],\n",
       "       [0., 0., 0., ..., 0., 0., 0.]], dtype=float32)"
      ]
     },
     "execution_count": 38,
     "metadata": {},
     "output_type": "execute_result"
    },
    {
     "data": {
      "text/plain": [
       "(2638, 13714)"
      ]
     },
     "execution_count": 38,
     "metadata": {},
     "output_type": "execute_result"
    }
   ],
   "source": [
    "# raw count matrix\n",
    "seusceasy_ann.X.toarray()\n",
    "# shape\n",
    "seusceasy_ann.X.shape"
   ]
  },
  {
   "cell_type": "code",
   "execution_count": 39,
   "metadata": {
    "ExecuteTime": {
     "end_time": "2024-12-21T14:28:25.305217Z",
     "start_time": "2024-12-21T14:28:25.288381Z"
    }
   },
   "outputs": [
    {
     "data": {
      "text/html": [
       "<div>\n",
       "<style scoped>\n",
       "    .dataframe tbody tr th:only-of-type {\n",
       "        vertical-align: middle;\n",
       "    }\n",
       "\n",
       "    .dataframe tbody tr th {\n",
       "        vertical-align: top;\n",
       "    }\n",
       "\n",
       "    .dataframe thead th {\n",
       "        text-align: right;\n",
       "    }\n",
       "</style>\n",
       "<table border=\"1\" class=\"dataframe\">\n",
       "  <thead>\n",
       "    <tr style=\"text-align: right;\">\n",
       "      <th></th>\n",
       "      <th>orig.ident</th>\n",
       "      <th>nCount_RNA</th>\n",
       "      <th>nFeature_RNA</th>\n",
       "      <th>seurat_annotations</th>\n",
       "      <th>percent.mt</th>\n",
       "      <th>RNA_snn_res.0.5</th>\n",
       "      <th>seurat_clusters</th>\n",
       "      <th>nCount_rawcounts</th>\n",
       "      <th>nFeature_rawcounts</th>\n",
       "    </tr>\n",
       "  </thead>\n",
       "  <tbody>\n",
       "    <tr>\n",
       "      <th>AAACATACAACCAC</th>\n",
       "      <td>pbmc3k</td>\n",
       "      <td>2419.0</td>\n",
       "      <td>779</td>\n",
       "      <td>Memory CD4 T</td>\n",
       "      <td>3.017776</td>\n",
       "      <td>1</td>\n",
       "      <td>1</td>\n",
       "      <td>2419.0</td>\n",
       "      <td>779</td>\n",
       "    </tr>\n",
       "    <tr>\n",
       "      <th>AAACATTGAGCTAC</th>\n",
       "      <td>pbmc3k</td>\n",
       "      <td>4903.0</td>\n",
       "      <td>1352</td>\n",
       "      <td>B</td>\n",
       "      <td>3.793596</td>\n",
       "      <td>3</td>\n",
       "      <td>3</td>\n",
       "      <td>4903.0</td>\n",
       "      <td>1352</td>\n",
       "    </tr>\n",
       "    <tr>\n",
       "      <th>AAACATTGATCAGC</th>\n",
       "      <td>pbmc3k</td>\n",
       "      <td>3147.0</td>\n",
       "      <td>1129</td>\n",
       "      <td>Memory CD4 T</td>\n",
       "      <td>0.889736</td>\n",
       "      <td>1</td>\n",
       "      <td>1</td>\n",
       "      <td>3147.0</td>\n",
       "      <td>1129</td>\n",
       "    </tr>\n",
       "    <tr>\n",
       "      <th>AAACCGTGCTTCCG</th>\n",
       "      <td>pbmc3k</td>\n",
       "      <td>2639.0</td>\n",
       "      <td>960</td>\n",
       "      <td>CD14+ Mono</td>\n",
       "      <td>1.743085</td>\n",
       "      <td>2</td>\n",
       "      <td>2</td>\n",
       "      <td>2639.0</td>\n",
       "      <td>960</td>\n",
       "    </tr>\n",
       "    <tr>\n",
       "      <th>AAACCGTGTATGCG</th>\n",
       "      <td>pbmc3k</td>\n",
       "      <td>980.0</td>\n",
       "      <td>521</td>\n",
       "      <td>NK</td>\n",
       "      <td>1.224490</td>\n",
       "      <td>6</td>\n",
       "      <td>6</td>\n",
       "      <td>980.0</td>\n",
       "      <td>521</td>\n",
       "    </tr>\n",
       "  </tbody>\n",
       "</table>\n",
       "</div>"
      ],
      "text/plain": [
       "               orig.ident  nCount_RNA  nFeature_RNA seurat_annotations  \\\n",
       "AAACATACAACCAC     pbmc3k      2419.0           779       Memory CD4 T   \n",
       "AAACATTGAGCTAC     pbmc3k      4903.0          1352                  B   \n",
       "AAACATTGATCAGC     pbmc3k      3147.0          1129       Memory CD4 T   \n",
       "AAACCGTGCTTCCG     pbmc3k      2639.0           960         CD14+ Mono   \n",
       "AAACCGTGTATGCG     pbmc3k       980.0           521                 NK   \n",
       "\n",
       "                percent.mt RNA_snn_res.0.5 seurat_clusters  nCount_rawcounts  \\\n",
       "AAACATACAACCAC    3.017776               1               1            2419.0   \n",
       "AAACATTGAGCTAC    3.793596               3               3            4903.0   \n",
       "AAACATTGATCAGC    0.889736               1               1            3147.0   \n",
       "AAACCGTGCTTCCG    1.743085               2               2            2639.0   \n",
       "AAACCGTGTATGCG    1.224490               6               6             980.0   \n",
       "\n",
       "                nFeature_rawcounts  \n",
       "AAACATACAACCAC                 779  \n",
       "AAACATTGAGCTAC                1352  \n",
       "AAACATTGATCAGC                1129  \n",
       "AAACCGTGCTTCCG                 960  \n",
       "AAACCGTGTATGCG                 521  "
      ]
     },
     "execution_count": 39,
     "metadata": {},
     "output_type": "execute_result"
    }
   ],
   "source": [
    "# cells' meta-information\n",
    "seusceasy_ann.obs.head()"
   ]
  },
  {
   "cell_type": "code",
   "execution_count": 40,
   "metadata": {
    "ExecuteTime": {
     "end_time": "2024-12-21T14:28:25.330440Z",
     "start_time": "2024-12-21T14:28:25.307336Z"
    }
   },
   "outputs": [
    {
     "data": {
      "text/html": [
       "<div>\n",
       "<style scoped>\n",
       "    .dataframe tbody tr th:only-of-type {\n",
       "        vertical-align: middle;\n",
       "    }\n",
       "\n",
       "    .dataframe tbody tr th {\n",
       "        vertical-align: top;\n",
       "    }\n",
       "\n",
       "    .dataframe thead th {\n",
       "        text-align: right;\n",
       "    }\n",
       "</style>\n",
       "<table border=\"1\" class=\"dataframe\">\n",
       "  <thead>\n",
       "    <tr style=\"text-align: right;\">\n",
       "      <th></th>\n",
       "      <th>vst.mean</th>\n",
       "      <th>vst.variance</th>\n",
       "      <th>vst.variance.expected</th>\n",
       "      <th>vst.variance.standardized</th>\n",
       "      <th>vst.variable</th>\n",
       "    </tr>\n",
       "  </thead>\n",
       "  <tbody>\n",
       "    <tr>\n",
       "      <th>AL627309.1</th>\n",
       "      <td>0.003412</td>\n",
       "      <td>0.003401</td>\n",
       "      <td>0.003645</td>\n",
       "      <td>0.933044</td>\n",
       "      <td>False</td>\n",
       "    </tr>\n",
       "    <tr>\n",
       "      <th>AP006222.2</th>\n",
       "      <td>0.001137</td>\n",
       "      <td>0.001136</td>\n",
       "      <td>0.001145</td>\n",
       "      <td>0.992494</td>\n",
       "      <td>False</td>\n",
       "    </tr>\n",
       "    <tr>\n",
       "      <th>RP11-206L10.2</th>\n",
       "      <td>0.001895</td>\n",
       "      <td>0.001893</td>\n",
       "      <td>0.001966</td>\n",
       "      <td>0.962729</td>\n",
       "      <td>False</td>\n",
       "    </tr>\n",
       "    <tr>\n",
       "      <th>RP11-206L10.9</th>\n",
       "      <td>0.001137</td>\n",
       "      <td>0.001136</td>\n",
       "      <td>0.001145</td>\n",
       "      <td>0.992494</td>\n",
       "      <td>False</td>\n",
       "    </tr>\n",
       "    <tr>\n",
       "      <th>LINC00115</th>\n",
       "      <td>0.006823</td>\n",
       "      <td>0.006779</td>\n",
       "      <td>0.007481</td>\n",
       "      <td>0.906213</td>\n",
       "      <td>False</td>\n",
       "    </tr>\n",
       "  </tbody>\n",
       "</table>\n",
       "</div>"
      ],
      "text/plain": [
       "               vst.mean  vst.variance  vst.variance.expected  \\\n",
       "AL627309.1     0.003412      0.003401               0.003645   \n",
       "AP006222.2     0.001137      0.001136               0.001145   \n",
       "RP11-206L10.2  0.001895      0.001893               0.001966   \n",
       "RP11-206L10.9  0.001137      0.001136               0.001145   \n",
       "LINC00115      0.006823      0.006779               0.007481   \n",
       "\n",
       "               vst.variance.standardized  vst.variable  \n",
       "AL627309.1                      0.933044         False  \n",
       "AP006222.2                      0.992494         False  \n",
       "RP11-206L10.2                   0.962729         False  \n",
       "RP11-206L10.9                   0.992494         False  \n",
       "LINC00115                       0.906213         False  "
      ]
     },
     "execution_count": 40,
     "metadata": {},
     "output_type": "execute_result"
    },
    {
     "data": {
      "text/plain": [
       "(13714, 5)"
      ]
     },
     "execution_count": 40,
     "metadata": {},
     "output_type": "execute_result"
    }
   ],
   "source": [
    "# annotation of features\n",
    "seusceasy_ann.var.head()\n",
    "# shape\n",
    "seusceasy_ann.var.shape"
   ]
  },
  {
   "cell_type": "code",
   "execution_count": 41,
   "metadata": {
    "ExecuteTime": {
     "end_time": "2024-12-21T14:28:25.344756Z",
     "start_time": "2024-12-21T14:28:25.335319Z"
    }
   },
   "outputs": [
    {
     "data": {
      "text/plain": [
       "array([[-4.72968551, -0.51842651, -0.76232201, -2.31567898, -0.07160006],\n",
       "       [-0.51740293,  4.59189566,  5.90919209,  6.91188558, -1.96243034],\n",
       "       [-3.18910634, -3.46951536, -0.83137104, -2.00199849, -5.10442765],\n",
       "       [12.79330206,  0.10071659,  0.63102207, -0.36873382,  0.21838204],\n",
       "       [-3.12880778, -6.34814123,  1.25077756,  3.01910262,  7.84739502]])"
      ]
     },
     "execution_count": 41,
     "metadata": {},
     "output_type": "execute_result"
    },
    {
     "data": {
      "text/plain": [
       "array([[-4.23279204, -4.1521394 ],\n",
       "       [-4.89288606, 10.98568513],\n",
       "       [-5.50863876, -7.2110884 ],\n",
       "       [11.33223281,  3.16172697],\n",
       "       [-7.45070281,  1.09202202]])"
      ]
     },
     "execution_count": 41,
     "metadata": {},
     "output_type": "execute_result"
    }
   ],
   "source": [
    "# dimensional reduction results of pca\n",
    "seusceasy_ann.obsm['X_pca'][0:5, 0:5]\n",
    "# dimensional reduction results of umap\n",
    "seusceasy_ann.obsm['X_umap'][0:5, 0:2]"
   ]
  },
  {
   "cell_type": "markdown",
   "metadata": {},
   "source": [
    "## scDIOR"
   ]
  },
  {
   "cell_type": "markdown",
   "metadata": {},
   "source": [
    "**Retained information** (`SeuratObject -> AnnData`):\n",
    "\n",
    "   * count matrix: \n",
    "     - `save.scale = TRUE`: log-normalized data (`data -> raw.X`), scaled data (`scale.data -> X`), raw count matrix (`counts -> layers`)\n",
    "     - `save.scale = FALSE`: log-normalized data (`data -> X`), raw count matrix (`counts -> layers`)\n",
    "   * cells' meta-information (`meta.data -> obs`)\n",
    "   * annotation of features (`meta.features -> var`)\n",
    "   * dimensional reduction results (`reductions -> obsm`)\n",
    "   * relationship of cells, graphs (contains `RNA_snn` and `RNA_nn` graphs) (`graphs -> obsp`)\n",
    "   * alternative assay (`assay -> layers`)\n",
    "\n",
    "<mark>scDIOR requires diopy to read `.h5` file.</mark>"
   ]
  },
  {
   "cell_type": "code",
   "execution_count": 42,
   "metadata": {
    "ExecuteTime": {
     "end_time": "2024-12-21T14:28:41.423683Z",
     "start_time": "2024-12-21T14:28:25.347462Z"
    }
   },
   "outputs": [
    {
     "name": "stdout",
     "output_type": "stream",
     "text": [
      "NULL\n"
     ]
    }
   ],
   "source": [
    "%%R\n",
    "# set save.scale=TRUE, scaled data is stored in X，log-normalized data is in raw.X, raw count matrix is in layers\n",
    "# set save.scale=FALSE, log-normalized data is stored in X，raw count matrix is in layers\n",
    "Seu2AD(seu.obj = pbmc3k.final, method = \"scDIOR\", out.folder = \"./\",\n",
    "       assay=\"RNA\", save.scale = TRUE)"
   ]
  },
  {
   "cell_type": "code",
   "execution_count": 43,
   "metadata": {
    "ExecuteTime": {
     "end_time": "2024-12-21T14:28:41.476510Z",
     "start_time": "2024-12-21T14:28:41.433873Z"
    }
   },
   "outputs": [],
   "source": [
    "# scDIOR require diopy to read h5\n",
    "import diopy"
   ]
  },
  {
   "cell_type": "code",
   "execution_count": 44,
   "metadata": {
    "ExecuteTime": {
     "end_time": "2024-12-21T14:28:46.006190Z",
     "start_time": "2024-12-21T14:28:41.481338Z"
    }
   },
   "outputs": [
    {
     "data": {
      "text/plain": [
       "AnnData object with n_obs × n_vars = 2638 × 13714\n",
       "    obs: 'orig.ident', 'nCount_RNA', 'nFeature_RNA', 'seurat_annotations', 'percent.mt', 'RNA_snn_res.0.5', 'seurat_clusters', 'nCount_rawcounts', 'nFeature_rawcounts'\n",
       "    var: 'vst.mean', 'vst.variance', 'vst.variance.expected', 'vst.variance.standardized', 'vst.variable'\n",
       "    obsm: 'X_pca', 'X_umap'\n",
       "    layers: 'counts', 'rawcounts'\n",
       "    obsp: 'distances', 'connectivities'"
      ]
     },
     "execution_count": 44,
     "metadata": {},
     "output_type": "execute_result"
    }
   ],
   "source": [
    "seuscdior_ann = diopy.input.read_h5(file = \"./pbmc3k.final_scDIOR.h5\")\n",
    "seuscdior_ann"
   ]
  },
  {
   "cell_type": "code",
   "execution_count": 45,
   "metadata": {
    "ExecuteTime": {
     "end_time": "2024-12-21T14:28:46.018253Z",
     "start_time": "2024-12-21T14:28:46.008627Z"
    },
    "scrolled": true
   },
   "outputs": [
    {
     "data": {
      "text/plain": [
       "array([[-0.05812316, -0.03357571, -0.04166819, -0.03364562],\n",
       "       [-0.05812316, -0.03357571, -0.04166819, -0.03364562],\n",
       "       [-0.05812316, -0.03357571, -0.04166819, -0.03364562],\n",
       "       [-0.05812316, -0.03357571, -0.04166819, -0.03364562],\n",
       "       [-0.05812316, -0.03357571, -0.04166819, -0.03364562],\n",
       "       [-0.05812316, -0.03357571, -0.04166819, -0.03364562],\n",
       "       [-0.05812316, -0.03357571, -0.04166819, -0.03364562],\n",
       "       [-0.05812316, -0.03357571, -0.04166819, -0.03364562],\n",
       "       [-0.05812316, -0.03357571, -0.04166819, -0.03364562],\n",
       "       [-0.05812316, -0.03357571, -0.04166819, -0.03364562]],\n",
       "      dtype=float32)"
      ]
     },
     "execution_count": 45,
     "metadata": {},
     "output_type": "execute_result"
    },
    {
     "data": {
      "text/plain": [
       "(2638, 13714)"
      ]
     },
     "execution_count": 45,
     "metadata": {},
     "output_type": "execute_result"
    }
   ],
   "source": [
    "# scaled count matrix\n",
    "seuscdior_ann.X[0:10,0:4]\n",
    "# shape\n",
    "seuscdior_ann.X.shape"
   ]
  },
  {
   "cell_type": "code",
   "execution_count": 46,
   "metadata": {
    "ExecuteTime": {
     "end_time": "2024-12-21T14:28:46.168484Z",
     "start_time": "2024-12-21T14:28:46.020688Z"
    },
    "scrolled": true
   },
   "outputs": [
    {
     "data": {
      "text/plain": [
       "array([[0.       , 0.       , 0.       , 0.       , 0.       , 0.       ,\n",
       "        0.       , 0.       , 0.       , 0.       , 0.       , 0.       ,\n",
       "        0.       , 0.       , 0.       ],\n",
       "       [0.       , 0.       , 0.       , 0.       , 0.       , 0.       ,\n",
       "        0.       , 0.       , 0.       , 0.       , 0.       , 0.       ,\n",
       "        0.       , 0.       , 1.625141 ],\n",
       "       [0.       , 0.       , 0.       , 0.       , 0.       , 0.       ,\n",
       "        0.       , 0.       , 0.       , 0.       , 0.       , 1.429744 ,\n",
       "        0.       , 0.       , 0.       ],\n",
       "       [0.       , 0.       , 0.       , 0.       , 0.       , 0.       ,\n",
       "        0.       , 0.       , 0.       , 0.       , 0.       , 3.5583103,\n",
       "        0.       , 0.       , 0.       ],\n",
       "       [0.       , 0.       , 0.       , 0.       , 0.       , 0.       ,\n",
       "        0.       , 0.       , 0.       , 0.       , 0.       , 0.       ,\n",
       "        0.       , 0.       , 0.       ],\n",
       "       [0.       , 0.       , 0.       , 0.       , 0.       , 0.       ,\n",
       "        0.       , 0.       , 0.       , 0.       , 0.       , 1.7269024,\n",
       "        0.       , 0.       , 0.       ],\n",
       "       [0.       , 0.       , 0.       , 0.       , 0.       , 0.       ,\n",
       "        0.       , 0.       , 0.       , 0.       , 0.       , 0.       ,\n",
       "        0.       , 0.       , 0.       ],\n",
       "       [0.       , 0.       , 0.       , 0.       , 0.       , 0.       ,\n",
       "        0.       , 0.       , 0.       , 0.       , 0.       , 0.       ,\n",
       "        0.       , 0.       , 0.       ],\n",
       "       [0.       , 0.       , 0.       , 0.       , 0.       , 0.       ,\n",
       "        0.       , 0.       , 0.       , 0.       , 0.       , 0.       ,\n",
       "        0.       , 0.       , 0.       ],\n",
       "       [0.       , 0.       , 0.       , 0.       , 0.       , 0.       ,\n",
       "        0.       , 0.       , 0.       , 0.       , 0.       , 3.3392706,\n",
       "        0.       , 0.       , 0.       ]], dtype=float32)"
      ]
     },
     "execution_count": 46,
     "metadata": {},
     "output_type": "execute_result"
    },
    {
     "data": {
      "text/plain": [
       "(2638, 13714)"
      ]
     },
     "execution_count": 46,
     "metadata": {},
     "output_type": "execute_result"
    }
   ],
   "source": [
    "# log-normalized count matrix\n",
    "seuscdior_ann.raw.to_adata().X.toarray()[0:10,0:15]\n",
    "# shape\n",
    "seuscdior_ann.raw.to_adata().X.shape"
   ]
  },
  {
   "cell_type": "code",
   "execution_count": 47,
   "metadata": {
    "ExecuteTime": {
     "end_time": "2024-12-21T14:28:46.287872Z",
     "start_time": "2024-12-21T14:28:46.172075Z"
    }
   },
   "outputs": [
    {
     "data": {
      "text/plain": [
       "array([[0., 0., 0., ..., 0., 0., 0.],\n",
       "       [0., 0., 0., ..., 0., 0., 0.],\n",
       "       [0., 0., 0., ..., 0., 0., 0.],\n",
       "       ...,\n",
       "       [0., 0., 0., ..., 0., 0., 0.],\n",
       "       [0., 0., 0., ..., 1., 0., 0.],\n",
       "       [0., 0., 0., ..., 0., 0., 0.]], dtype=float32)"
      ]
     },
     "execution_count": 47,
     "metadata": {},
     "output_type": "execute_result"
    }
   ],
   "source": [
    "# raw count matrix\n",
    "seuscdior_ann.layers['counts'].toarray()"
   ]
  },
  {
   "cell_type": "code",
   "execution_count": 48,
   "metadata": {
    "ExecuteTime": {
     "end_time": "2024-12-21T14:28:46.324736Z",
     "start_time": "2024-12-21T14:28:46.290202Z"
    }
   },
   "outputs": [
    {
     "data": {
      "text/html": [
       "<div>\n",
       "<style scoped>\n",
       "    .dataframe tbody tr th:only-of-type {\n",
       "        vertical-align: middle;\n",
       "    }\n",
       "\n",
       "    .dataframe tbody tr th {\n",
       "        vertical-align: top;\n",
       "    }\n",
       "\n",
       "    .dataframe thead th {\n",
       "        text-align: right;\n",
       "    }\n",
       "</style>\n",
       "<table border=\"1\" class=\"dataframe\">\n",
       "  <thead>\n",
       "    <tr style=\"text-align: right;\">\n",
       "      <th></th>\n",
       "      <th>orig.ident</th>\n",
       "      <th>nCount_RNA</th>\n",
       "      <th>nFeature_RNA</th>\n",
       "      <th>seurat_annotations</th>\n",
       "      <th>percent.mt</th>\n",
       "      <th>RNA_snn_res.0.5</th>\n",
       "      <th>seurat_clusters</th>\n",
       "      <th>nCount_rawcounts</th>\n",
       "      <th>nFeature_rawcounts</th>\n",
       "    </tr>\n",
       "    <tr>\n",
       "      <th>index</th>\n",
       "      <th></th>\n",
       "      <th></th>\n",
       "      <th></th>\n",
       "      <th></th>\n",
       "      <th></th>\n",
       "      <th></th>\n",
       "      <th></th>\n",
       "      <th></th>\n",
       "      <th></th>\n",
       "    </tr>\n",
       "  </thead>\n",
       "  <tbody>\n",
       "    <tr>\n",
       "      <th>AAACATACAACCAC</th>\n",
       "      <td>pbmc3k</td>\n",
       "      <td>2419.0</td>\n",
       "      <td>779</td>\n",
       "      <td>Memory CD4 T</td>\n",
       "      <td>3.017776</td>\n",
       "      <td>1</td>\n",
       "      <td>1</td>\n",
       "      <td>2419.0</td>\n",
       "      <td>779</td>\n",
       "    </tr>\n",
       "    <tr>\n",
       "      <th>AAACATTGAGCTAC</th>\n",
       "      <td>pbmc3k</td>\n",
       "      <td>4903.0</td>\n",
       "      <td>1352</td>\n",
       "      <td>B</td>\n",
       "      <td>3.793596</td>\n",
       "      <td>3</td>\n",
       "      <td>3</td>\n",
       "      <td>4903.0</td>\n",
       "      <td>1352</td>\n",
       "    </tr>\n",
       "    <tr>\n",
       "      <th>AAACATTGATCAGC</th>\n",
       "      <td>pbmc3k</td>\n",
       "      <td>3147.0</td>\n",
       "      <td>1129</td>\n",
       "      <td>Memory CD4 T</td>\n",
       "      <td>0.889736</td>\n",
       "      <td>1</td>\n",
       "      <td>1</td>\n",
       "      <td>3147.0</td>\n",
       "      <td>1129</td>\n",
       "    </tr>\n",
       "    <tr>\n",
       "      <th>AAACCGTGCTTCCG</th>\n",
       "      <td>pbmc3k</td>\n",
       "      <td>2639.0</td>\n",
       "      <td>960</td>\n",
       "      <td>CD14+ Mono</td>\n",
       "      <td>1.743085</td>\n",
       "      <td>2</td>\n",
       "      <td>2</td>\n",
       "      <td>2639.0</td>\n",
       "      <td>960</td>\n",
       "    </tr>\n",
       "    <tr>\n",
       "      <th>AAACCGTGTATGCG</th>\n",
       "      <td>pbmc3k</td>\n",
       "      <td>980.0</td>\n",
       "      <td>521</td>\n",
       "      <td>NK</td>\n",
       "      <td>1.224490</td>\n",
       "      <td>6</td>\n",
       "      <td>6</td>\n",
       "      <td>980.0</td>\n",
       "      <td>521</td>\n",
       "    </tr>\n",
       "  </tbody>\n",
       "</table>\n",
       "</div>"
      ],
      "text/plain": [
       "               orig.ident  nCount_RNA  nFeature_RNA seurat_annotations  \\\n",
       "index                                                                    \n",
       "AAACATACAACCAC     pbmc3k      2419.0           779       Memory CD4 T   \n",
       "AAACATTGAGCTAC     pbmc3k      4903.0          1352                  B   \n",
       "AAACATTGATCAGC     pbmc3k      3147.0          1129       Memory CD4 T   \n",
       "AAACCGTGCTTCCG     pbmc3k      2639.0           960         CD14+ Mono   \n",
       "AAACCGTGTATGCG     pbmc3k       980.0           521                 NK   \n",
       "\n",
       "                percent.mt RNA_snn_res.0.5 seurat_clusters  nCount_rawcounts  \\\n",
       "index                                                                          \n",
       "AAACATACAACCAC    3.017776               1               1            2419.0   \n",
       "AAACATTGAGCTAC    3.793596               3               3            4903.0   \n",
       "AAACATTGATCAGC    0.889736               1               1            3147.0   \n",
       "AAACCGTGCTTCCG    1.743085               2               2            2639.0   \n",
       "AAACCGTGTATGCG    1.224490               6               6             980.0   \n",
       "\n",
       "                nFeature_rawcounts  \n",
       "index                               \n",
       "AAACATACAACCAC                 779  \n",
       "AAACATTGAGCTAC                1352  \n",
       "AAACATTGATCAGC                1129  \n",
       "AAACCGTGCTTCCG                 960  \n",
       "AAACCGTGTATGCG                 521  "
      ]
     },
     "execution_count": 48,
     "metadata": {},
     "output_type": "execute_result"
    }
   ],
   "source": [
    "# cells' meta-information\n",
    "seuscdior_ann.obs.head()"
   ]
  },
  {
   "cell_type": "code",
   "execution_count": 49,
   "metadata": {
    "ExecuteTime": {
     "end_time": "2024-12-21T14:28:46.342176Z",
     "start_time": "2024-12-21T14:28:46.327919Z"
    }
   },
   "outputs": [
    {
     "data": {
      "text/html": [
       "<div>\n",
       "<style scoped>\n",
       "    .dataframe tbody tr th:only-of-type {\n",
       "        vertical-align: middle;\n",
       "    }\n",
       "\n",
       "    .dataframe tbody tr th {\n",
       "        vertical-align: top;\n",
       "    }\n",
       "\n",
       "    .dataframe thead th {\n",
       "        text-align: right;\n",
       "    }\n",
       "</style>\n",
       "<table border=\"1\" class=\"dataframe\">\n",
       "  <thead>\n",
       "    <tr style=\"text-align: right;\">\n",
       "      <th></th>\n",
       "      <th>vst.mean</th>\n",
       "      <th>vst.variance</th>\n",
       "      <th>vst.variance.expected</th>\n",
       "      <th>vst.variance.standardized</th>\n",
       "      <th>vst.variable</th>\n",
       "    </tr>\n",
       "    <tr>\n",
       "      <th>index</th>\n",
       "      <th></th>\n",
       "      <th></th>\n",
       "      <th></th>\n",
       "      <th></th>\n",
       "      <th></th>\n",
       "    </tr>\n",
       "  </thead>\n",
       "  <tbody>\n",
       "    <tr>\n",
       "      <th>AL627309.1</th>\n",
       "      <td>0.003412</td>\n",
       "      <td>0.003401</td>\n",
       "      <td>0.003645</td>\n",
       "      <td>0.933044</td>\n",
       "      <td>False</td>\n",
       "    </tr>\n",
       "    <tr>\n",
       "      <th>AP006222.2</th>\n",
       "      <td>0.001137</td>\n",
       "      <td>0.001136</td>\n",
       "      <td>0.001145</td>\n",
       "      <td>0.992494</td>\n",
       "      <td>False</td>\n",
       "    </tr>\n",
       "    <tr>\n",
       "      <th>RP11-206L10.2</th>\n",
       "      <td>0.001895</td>\n",
       "      <td>0.001893</td>\n",
       "      <td>0.001966</td>\n",
       "      <td>0.962729</td>\n",
       "      <td>False</td>\n",
       "    </tr>\n",
       "    <tr>\n",
       "      <th>RP11-206L10.9</th>\n",
       "      <td>0.001137</td>\n",
       "      <td>0.001136</td>\n",
       "      <td>0.001145</td>\n",
       "      <td>0.992494</td>\n",
       "      <td>False</td>\n",
       "    </tr>\n",
       "    <tr>\n",
       "      <th>LINC00115</th>\n",
       "      <td>0.006823</td>\n",
       "      <td>0.006779</td>\n",
       "      <td>0.007481</td>\n",
       "      <td>0.906213</td>\n",
       "      <td>False</td>\n",
       "    </tr>\n",
       "  </tbody>\n",
       "</table>\n",
       "</div>"
      ],
      "text/plain": [
       "               vst.mean  vst.variance  vst.variance.expected  \\\n",
       "index                                                          \n",
       "AL627309.1     0.003412      0.003401               0.003645   \n",
       "AP006222.2     0.001137      0.001136               0.001145   \n",
       "RP11-206L10.2  0.001895      0.001893               0.001966   \n",
       "RP11-206L10.9  0.001137      0.001136               0.001145   \n",
       "LINC00115      0.006823      0.006779               0.007481   \n",
       "\n",
       "               vst.variance.standardized  vst.variable  \n",
       "index                                                   \n",
       "AL627309.1                      0.933044         False  \n",
       "AP006222.2                      0.992494         False  \n",
       "RP11-206L10.2                   0.962729         False  \n",
       "RP11-206L10.9                   0.992494         False  \n",
       "LINC00115                       0.906213         False  "
      ]
     },
     "execution_count": 49,
     "metadata": {},
     "output_type": "execute_result"
    },
    {
     "data": {
      "text/plain": [
       "(13714, 5)"
      ]
     },
     "execution_count": 49,
     "metadata": {},
     "output_type": "execute_result"
    }
   ],
   "source": [
    "# annotation of features\n",
    "seuscdior_ann.var.head()\n",
    "# shape\n",
    "seuscdior_ann.var.shape"
   ]
  },
  {
   "cell_type": "code",
   "execution_count": 50,
   "metadata": {
    "ExecuteTime": {
     "end_time": "2024-12-21T14:28:46.356486Z",
     "start_time": "2024-12-21T14:28:46.345624Z"
    },
    "scrolled": true
   },
   "outputs": [
    {
     "data": {
      "text/plain": [
       "array([[-4.72968551, -0.51842651, -0.76232201, -2.31567898, -0.07160006],\n",
       "       [-0.51740293,  4.59189566,  5.90919209,  6.91188558, -1.96243034],\n",
       "       [-3.18910634, -3.46951536, -0.83137104, -2.00199849, -5.10442765],\n",
       "       [12.79330206,  0.10071659,  0.63102207, -0.36873382,  0.21838204],\n",
       "       [-3.12880778, -6.34814123,  1.25077756,  3.01910262,  7.84739502]])"
      ]
     },
     "execution_count": 50,
     "metadata": {},
     "output_type": "execute_result"
    },
    {
     "data": {
      "text/plain": [
       "array([[-4.23279204, -4.1521394 ],\n",
       "       [-4.89288606, 10.98568513],\n",
       "       [-5.50863876, -7.2110884 ],\n",
       "       [11.33223281,  3.16172697],\n",
       "       [-7.45070281,  1.09202202]])"
      ]
     },
     "execution_count": 50,
     "metadata": {},
     "output_type": "execute_result"
    }
   ],
   "source": [
    "# dimensional reduction results of pca\n",
    "seuscdior_ann.obsm['X_pca'][0:5, 0:5]\n",
    "# dimensional reduction results of umap\n",
    "seuscdior_ann.obsm['X_umap'][0:5, 0:2]"
   ]
  },
  {
   "cell_type": "code",
   "execution_count": 51,
   "metadata": {
    "ExecuteTime": {
     "end_time": "2024-12-21T14:28:46.462873Z",
     "start_time": "2024-12-21T14:28:46.358955Z"
    }
   },
   "outputs": [
    {
     "data": {
      "text/plain": [
       "array([[0., 0., 0., ..., 0., 0., 0.],\n",
       "       [0., 0., 0., ..., 0., 0., 0.],\n",
       "       [0., 0., 0., ..., 0., 0., 0.],\n",
       "       ...,\n",
       "       [0., 0., 0., ..., 0., 0., 0.],\n",
       "       [0., 0., 0., ..., 1., 0., 0.],\n",
       "       [0., 0., 0., ..., 0., 0., 0.]], dtype=float32)"
      ]
     },
     "execution_count": 51,
     "metadata": {},
     "output_type": "execute_result"
    },
    {
     "data": {
      "text/plain": [
       "(2638, 13714)"
      ]
     },
     "execution_count": 51,
     "metadata": {},
     "output_type": "execute_result"
    }
   ],
   "source": [
    "# layers (raw count matrix)\n",
    "seuscdior_ann.layers['rawcounts'].toarray()\n",
    "# shape\n",
    "seuscdior_ann.layers['rawcounts'].shape"
   ]
  },
  {
   "cell_type": "code",
   "execution_count": 52,
   "metadata": {
    "ExecuteTime": {
     "end_time": "2024-12-21T14:28:46.530683Z",
     "start_time": "2024-12-21T14:28:46.466170Z"
    }
   },
   "outputs": [
    {
     "data": {
      "text/plain": [
       "PairwiseArrays with keys: distances, connectivities"
      ]
     },
     "execution_count": 52,
     "metadata": {},
     "output_type": "execute_result"
    },
    {
     "data": {
      "text/plain": [
       "array([[1., 0., 0., 0., 0., 0., 1., 0., 0., 0.],\n",
       "       [0., 1., 0., 0., 0., 0., 0., 0., 0., 0.],\n",
       "       [0., 0., 1., 0., 0., 0., 0., 0., 0., 0.],\n",
       "       [0., 0., 0., 1., 0., 0., 0., 0., 0., 0.],\n",
       "       [0., 0., 0., 0., 1., 0., 0., 0., 0., 0.],\n",
       "       [0., 0., 0., 0., 0., 1., 0., 0., 0., 0.],\n",
       "       [0., 0., 0., 0., 0., 0., 1., 0., 0., 0.],\n",
       "       [0., 0., 0., 0., 0., 0., 0., 1., 0., 0.],\n",
       "       [0., 0., 0., 0., 0., 0., 0., 0., 1., 0.],\n",
       "       [0., 0., 0., 0., 0., 0., 0., 0., 0., 1.]], dtype=float32)"
      ]
     },
     "execution_count": 52,
     "metadata": {},
     "output_type": "execute_result"
    },
    {
     "data": {
      "text/plain": [
       "array([[1.        , 0.        , 0.        , 0.        , 0.        ,\n",
       "        0.        , 0.11111111, 0.        , 0.        , 0.        ],\n",
       "       [0.        , 1.        , 0.        , 0.        , 0.        ,\n",
       "        0.        , 0.        , 0.        , 0.        , 0.        ],\n",
       "       [0.        , 0.        , 1.        , 0.        , 0.        ,\n",
       "        0.        , 0.        , 0.        , 0.        , 0.        ],\n",
       "       [0.        , 0.        , 0.        , 1.        , 0.        ,\n",
       "        0.        , 0.        , 0.        , 0.        , 0.        ],\n",
       "       [0.        , 0.        , 0.        , 0.        , 1.        ,\n",
       "        0.        , 0.        , 0.        , 0.        , 0.        ],\n",
       "       [0.        , 0.        , 0.        , 0.        , 0.        ,\n",
       "        1.        , 0.        , 0.        , 0.        , 0.        ],\n",
       "       [0.11111111, 0.        , 0.        , 0.        , 0.        ,\n",
       "        0.        , 1.        , 0.08108108, 0.        , 0.        ],\n",
       "       [0.        , 0.        , 0.        , 0.        , 0.        ,\n",
       "        0.        , 0.08108108, 1.        , 0.        , 0.        ],\n",
       "       [0.        , 0.        , 0.        , 0.        , 0.        ,\n",
       "        0.        , 0.        , 0.        , 1.        , 0.        ],\n",
       "       [0.        , 0.        , 0.        , 0.        , 0.        ,\n",
       "        0.        , 0.        , 0.        , 0.        , 1.        ]],\n",
       "      dtype=float32)"
      ]
     },
     "execution_count": 52,
     "metadata": {},
     "output_type": "execute_result"
    }
   ],
   "source": [
    "# relationship of cells, graphs\n",
    "seuscdior_ann.obsp\n",
    "# RNA_nn graph\n",
    "seuscdior_ann.obsp['distances'].toarray()[0:10,0:10]\n",
    "# RNA_snn graph\n",
    "seuscdior_ann.obsp['connectivities'].toarray()[0:10,0:10]"
   ]
  },
  {
   "cell_type": "markdown",
   "metadata": {},
   "source": [
    "# AnnData to SeuratObject"
   ]
  },
  {
   "cell_type": "markdown",
   "metadata": {},
   "source": [
    "## AnnData"
   ]
  },
  {
   "cell_type": "markdown",
   "metadata": {},
   "source": [
    "**data source and preprocessing**: [Preprocessing and clustering 3k PBMCs (legacy workflow)](https://scanpy.readthedocs.io/en/stable/tutorials/basics/clustering-2017.html)"
   ]
  },
  {
   "cell_type": "code",
   "execution_count": 71,
   "metadata": {
    "ExecuteTime": {
     "end_time": "2024-12-21T15:14:17.628159Z",
     "start_time": "2024-12-21T15:14:16.931813Z"
    }
   },
   "outputs": [
    {
     "data": {
      "text/plain": [
       "AnnData object with n_obs × n_vars = 2638 × 1838\n",
       "    obs: 'n_genes', 'n_genes_by_counts', 'total_counts', 'total_counts_mt', 'pct_counts_mt', 'leiden'\n",
       "    var: 'gene_ids', 'n_cells', 'mt', 'n_cells_by_counts', 'mean_counts', 'pct_dropout_by_counts', 'total_counts', 'highly_variable', 'means', 'dispersions', 'dispersions_norm', 'mean', 'std'\n",
       "    uns: 'hvg', 'leiden', 'log1p', 'neighbors', 'pca', 'rank_genes_groups', 'umap'\n",
       "    obsm: 'X_pca', 'X_umap'\n",
       "    varm: 'PCs'\n",
       "    layers: 'logcounts', 'rawcounts'\n",
       "    obsp: 'connectivities', 'distances'"
      ]
     },
     "execution_count": 71,
     "metadata": {},
     "output_type": "execute_result"
    }
   ],
   "source": [
    "pbmc3k_ann = sc.read(\"./write/pbmc3k.h5ad\")\n",
    "pbmc3k_ann"
   ]
  },
  {
   "cell_type": "markdown",
   "metadata": {},
   "source": [
    "### Count matrix (`X` and `layers`)"
   ]
  },
  {
   "cell_type": "code",
   "execution_count": 72,
   "metadata": {
    "ExecuteTime": {
     "end_time": "2024-12-21T15:14:17.815044Z",
     "start_time": "2024-12-21T15:14:17.632204Z"
    }
   },
   "outputs": [
    {
     "data": {
      "text/plain": [
       "array([[0., 0., 0., ..., 0., 0., 0.],\n",
       "       [0., 0., 0., ..., 0., 0., 0.],\n",
       "       [0., 0., 0., ..., 0., 0., 0.],\n",
       "       ...,\n",
       "       [0., 0., 0., ..., 0., 0., 0.],\n",
       "       [0., 0., 0., ..., 1., 0., 0.],\n",
       "       [0., 0., 0., ..., 0., 0., 0.]], dtype=float32)"
      ]
     },
     "execution_count": 72,
     "metadata": {},
     "output_type": "execute_result"
    },
    {
     "data": {
      "text/plain": [
       "(2638, 13714)"
      ]
     },
     "execution_count": 72,
     "metadata": {},
     "output_type": "execute_result"
    }
   ],
   "source": [
    "# raw count matrix\n",
    "pbmc3k_ann.raw.X.toarray()\n",
    "# shape\n",
    "pbmc3k_ann.raw.X.shape"
   ]
  },
  {
   "cell_type": "code",
   "execution_count": 73,
   "metadata": {
    "ExecuteTime": {
     "end_time": "2024-12-21T15:14:17.872083Z",
     "start_time": "2024-12-21T15:14:17.821528Z"
    }
   },
   "outputs": [
    {
     "data": {
      "text/plain": [
       "array([[0., 0., 0., ..., 0., 0., 0.],\n",
       "       [0., 0., 0., ..., 0., 0., 0.],\n",
       "       [0., 0., 0., ..., 0., 0., 1.],\n",
       "       ...,\n",
       "       [0., 0., 0., ..., 0., 0., 1.],\n",
       "       [0., 0., 0., ..., 0., 0., 0.],\n",
       "       [0., 0., 0., ..., 0., 0., 0.]], dtype=float32)"
      ]
     },
     "execution_count": 73,
     "metadata": {},
     "output_type": "execute_result"
    },
    {
     "data": {
      "text/plain": [
       "(2638, 1838)"
      ]
     },
     "execution_count": 73,
     "metadata": {},
     "output_type": "execute_result"
    }
   ],
   "source": [
    "# raw count matrix in layers\n",
    "pbmc3k_ann.layers['rawcounts'].toarray()\n",
    "# shape\n",
    "pbmc3k_ann.layers['rawcounts'].shape"
   ]
  },
  {
   "cell_type": "code",
   "execution_count": 74,
   "metadata": {
    "ExecuteTime": {
     "end_time": "2024-12-21T15:14:17.903739Z",
     "start_time": "2024-12-21T15:14:17.877198Z"
    }
   },
   "outputs": [
    {
     "data": {
      "text/plain": [
       "array([[0.       , 0.       , 0.       , ..., 0.       , 0.       ,\n",
       "        0.       ],\n",
       "       [0.       , 0.       , 0.       , ..., 0.       , 0.       ,\n",
       "        0.       ],\n",
       "       [0.       , 0.       , 0.       , ..., 0.       , 0.       ,\n",
       "        1.429744 ],\n",
       "       ...,\n",
       "       [0.       , 0.       , 0.       , ..., 0.       , 0.       ,\n",
       "        1.9370484],\n",
       "       [0.       , 0.       , 0.       , ..., 0.       , 0.       ,\n",
       "        0.       ],\n",
       "       [0.       , 0.       , 0.       , ..., 0.       , 0.       ,\n",
       "        0.       ]], dtype=float32)"
      ]
     },
     "execution_count": 74,
     "metadata": {},
     "output_type": "execute_result"
    },
    {
     "data": {
      "text/plain": [
       "(2638, 1838)"
      ]
     },
     "execution_count": 74,
     "metadata": {},
     "output_type": "execute_result"
    }
   ],
   "source": [
    "# log-normalized count matrix\n",
    "pbmc3k_ann.layers['logcounts'].toarray()\n",
    "# shape\n",
    "pbmc3k_ann.layers['logcounts'].shape"
   ]
  },
  {
   "cell_type": "code",
   "execution_count": 75,
   "metadata": {
    "ExecuteTime": {
     "end_time": "2024-12-21T15:14:17.917960Z",
     "start_time": "2024-12-21T15:14:17.908549Z"
    }
   },
   "outputs": [
    {
     "data": {
      "text/plain": [
       "array([[-0.17146961, -0.2808123 , -0.04667677, ..., -0.09826882,\n",
       "        -0.20909512, -0.5312033 ],\n",
       "       [-0.21458235, -0.37265328, -0.05480441, ..., -0.266844  ,\n",
       "        -0.31314582, -0.5966543 ],\n",
       "       [-0.3768877 , -0.29508454, -0.05752748, ..., -0.15865591,\n",
       "        -0.17087644,  1.3789997 ],\n",
       "       ...,\n",
       "       [-0.20708963, -0.2504642 , -0.04639699, ..., -0.05114426,\n",
       "        -0.16106427,  2.041497  ],\n",
       "       [-0.1903285 , -0.2263338 , -0.04399936, ..., -0.00591774,\n",
       "        -0.13521305, -0.48211104],\n",
       "       [-0.33378935, -0.25358772, -0.05271561, ..., -0.07842438,\n",
       "        -0.13032718, -0.47133783]], dtype=float32)"
      ]
     },
     "execution_count": 75,
     "metadata": {},
     "output_type": "execute_result"
    },
    {
     "data": {
      "text/plain": [
       "(2638, 1838)"
      ]
     },
     "execution_count": 75,
     "metadata": {},
     "output_type": "execute_result"
    }
   ],
   "source": [
    "# scaled count matrix\n",
    "pbmc3k_ann.X\n",
    "# shape\n",
    "pbmc3k_ann.X.shape"
   ]
  },
  {
   "cell_type": "markdown",
   "metadata": {},
   "source": [
    "### `obs` - cells' meta-information"
   ]
  },
  {
   "cell_type": "code",
   "execution_count": 76,
   "metadata": {
    "ExecuteTime": {
     "end_time": "2024-12-21T15:14:17.939275Z",
     "start_time": "2024-12-21T15:14:17.920392Z"
    }
   },
   "outputs": [
    {
     "data": {
      "text/html": [
       "<div>\n",
       "<style scoped>\n",
       "    .dataframe tbody tr th:only-of-type {\n",
       "        vertical-align: middle;\n",
       "    }\n",
       "\n",
       "    .dataframe tbody tr th {\n",
       "        vertical-align: top;\n",
       "    }\n",
       "\n",
       "    .dataframe thead th {\n",
       "        text-align: right;\n",
       "    }\n",
       "</style>\n",
       "<table border=\"1\" class=\"dataframe\">\n",
       "  <thead>\n",
       "    <tr style=\"text-align: right;\">\n",
       "      <th></th>\n",
       "      <th>n_genes</th>\n",
       "      <th>n_genes_by_counts</th>\n",
       "      <th>total_counts</th>\n",
       "      <th>total_counts_mt</th>\n",
       "      <th>pct_counts_mt</th>\n",
       "      <th>leiden</th>\n",
       "    </tr>\n",
       "  </thead>\n",
       "  <tbody>\n",
       "    <tr>\n",
       "      <th>AAACATACAACCAC-1</th>\n",
       "      <td>781</td>\n",
       "      <td>779</td>\n",
       "      <td>2419.0</td>\n",
       "      <td>73.0</td>\n",
       "      <td>3.017776</td>\n",
       "      <td>0</td>\n",
       "    </tr>\n",
       "    <tr>\n",
       "      <th>AAACATTGAGCTAC-1</th>\n",
       "      <td>1352</td>\n",
       "      <td>1352</td>\n",
       "      <td>4903.0</td>\n",
       "      <td>186.0</td>\n",
       "      <td>3.793596</td>\n",
       "      <td>2</td>\n",
       "    </tr>\n",
       "    <tr>\n",
       "      <th>AAACATTGATCAGC-1</th>\n",
       "      <td>1131</td>\n",
       "      <td>1129</td>\n",
       "      <td>3147.0</td>\n",
       "      <td>28.0</td>\n",
       "      <td>0.889736</td>\n",
       "      <td>0</td>\n",
       "    </tr>\n",
       "    <tr>\n",
       "      <th>AAACCGTGCTTCCG-1</th>\n",
       "      <td>960</td>\n",
       "      <td>960</td>\n",
       "      <td>2639.0</td>\n",
       "      <td>46.0</td>\n",
       "      <td>1.743085</td>\n",
       "      <td>4</td>\n",
       "    </tr>\n",
       "    <tr>\n",
       "      <th>AAACCGTGTATGCG-1</th>\n",
       "      <td>522</td>\n",
       "      <td>521</td>\n",
       "      <td>980.0</td>\n",
       "      <td>12.0</td>\n",
       "      <td>1.224490</td>\n",
       "      <td>5</td>\n",
       "    </tr>\n",
       "  </tbody>\n",
       "</table>\n",
       "</div>"
      ],
      "text/plain": [
       "                  n_genes  n_genes_by_counts  total_counts  total_counts_mt  \\\n",
       "AAACATACAACCAC-1      781                779        2419.0             73.0   \n",
       "AAACATTGAGCTAC-1     1352               1352        4903.0            186.0   \n",
       "AAACATTGATCAGC-1     1131               1129        3147.0             28.0   \n",
       "AAACCGTGCTTCCG-1      960                960        2639.0             46.0   \n",
       "AAACCGTGTATGCG-1      522                521         980.0             12.0   \n",
       "\n",
       "                  pct_counts_mt leiden  \n",
       "AAACATACAACCAC-1       3.017776      0  \n",
       "AAACATTGAGCTAC-1       3.793596      2  \n",
       "AAACATTGATCAGC-1       0.889736      0  \n",
       "AAACCGTGCTTCCG-1       1.743085      4  \n",
       "AAACCGTGTATGCG-1       1.224490      5  "
      ]
     },
     "execution_count": 76,
     "metadata": {},
     "output_type": "execute_result"
    },
    {
     "data": {
      "text/plain": [
       "(1838, 13)"
      ]
     },
     "execution_count": 76,
     "metadata": {},
     "output_type": "execute_result"
    }
   ],
   "source": [
    "pbmc3k_ann.obs.head()\n",
    "# shape\n",
    "pbmc3k_ann.var.shape"
   ]
  },
  {
   "cell_type": "markdown",
   "metadata": {},
   "source": [
    "### `var` - annotation of features"
   ]
  },
  {
   "cell_type": "code",
   "execution_count": 77,
   "metadata": {
    "ExecuteTime": {
     "end_time": "2024-12-21T15:14:17.967994Z",
     "start_time": "2024-12-21T15:14:17.943195Z"
    }
   },
   "outputs": [
    {
     "data": {
      "text/html": [
       "<div>\n",
       "<style scoped>\n",
       "    .dataframe tbody tr th:only-of-type {\n",
       "        vertical-align: middle;\n",
       "    }\n",
       "\n",
       "    .dataframe tbody tr th {\n",
       "        vertical-align: top;\n",
       "    }\n",
       "\n",
       "    .dataframe thead th {\n",
       "        text-align: right;\n",
       "    }\n",
       "</style>\n",
       "<table border=\"1\" class=\"dataframe\">\n",
       "  <thead>\n",
       "    <tr style=\"text-align: right;\">\n",
       "      <th></th>\n",
       "      <th>gene_ids</th>\n",
       "      <th>n_cells</th>\n",
       "      <th>mt</th>\n",
       "      <th>n_cells_by_counts</th>\n",
       "      <th>mean_counts</th>\n",
       "      <th>pct_dropout_by_counts</th>\n",
       "      <th>total_counts</th>\n",
       "      <th>highly_variable</th>\n",
       "      <th>means</th>\n",
       "      <th>dispersions</th>\n",
       "      <th>dispersions_norm</th>\n",
       "      <th>mean</th>\n",
       "      <th>std</th>\n",
       "    </tr>\n",
       "  </thead>\n",
       "  <tbody>\n",
       "    <tr>\n",
       "      <th>TNFRSF4</th>\n",
       "      <td>ENSG00000186827</td>\n",
       "      <td>155</td>\n",
       "      <td>False</td>\n",
       "      <td>155</td>\n",
       "      <td>0.077407</td>\n",
       "      <td>94.259259</td>\n",
       "      <td>209.0</td>\n",
       "      <td>True</td>\n",
       "      <td>0.277410</td>\n",
       "      <td>2.086050</td>\n",
       "      <td>0.665406</td>\n",
       "      <td>-3.672069e-10</td>\n",
       "      <td>0.424481</td>\n",
       "    </tr>\n",
       "    <tr>\n",
       "      <th>CPSF3L</th>\n",
       "      <td>ENSG00000127054</td>\n",
       "      <td>202</td>\n",
       "      <td>False</td>\n",
       "      <td>202</td>\n",
       "      <td>0.094815</td>\n",
       "      <td>92.518519</td>\n",
       "      <td>256.0</td>\n",
       "      <td>True</td>\n",
       "      <td>0.385194</td>\n",
       "      <td>4.506987</td>\n",
       "      <td>2.955005</td>\n",
       "      <td>-2.372437e-10</td>\n",
       "      <td>0.460416</td>\n",
       "    </tr>\n",
       "    <tr>\n",
       "      <th>ATAD3C</th>\n",
       "      <td>ENSG00000215915</td>\n",
       "      <td>9</td>\n",
       "      <td>False</td>\n",
       "      <td>9</td>\n",
       "      <td>0.009259</td>\n",
       "      <td>99.666667</td>\n",
       "      <td>25.0</td>\n",
       "      <td>True</td>\n",
       "      <td>0.038252</td>\n",
       "      <td>3.953486</td>\n",
       "      <td>4.352607</td>\n",
       "      <td>8.472988e-12</td>\n",
       "      <td>0.119465</td>\n",
       "    </tr>\n",
       "    <tr>\n",
       "      <th>C1orf86</th>\n",
       "      <td>ENSG00000162585</td>\n",
       "      <td>501</td>\n",
       "      <td>False</td>\n",
       "      <td>501</td>\n",
       "      <td>0.227778</td>\n",
       "      <td>81.444444</td>\n",
       "      <td>615.0</td>\n",
       "      <td>True</td>\n",
       "      <td>0.678283</td>\n",
       "      <td>2.713522</td>\n",
       "      <td>0.543183</td>\n",
       "      <td>3.389195e-10</td>\n",
       "      <td>0.685145</td>\n",
       "    </tr>\n",
       "    <tr>\n",
       "      <th>RER1</th>\n",
       "      <td>ENSG00000157916</td>\n",
       "      <td>608</td>\n",
       "      <td>False</td>\n",
       "      <td>608</td>\n",
       "      <td>0.298148</td>\n",
       "      <td>77.481481</td>\n",
       "      <td>805.0</td>\n",
       "      <td>True</td>\n",
       "      <td>0.814813</td>\n",
       "      <td>3.447533</td>\n",
       "      <td>1.582528</td>\n",
       "      <td>7.696297e-11</td>\n",
       "      <td>0.736050</td>\n",
       "    </tr>\n",
       "  </tbody>\n",
       "</table>\n",
       "</div>"
      ],
      "text/plain": [
       "                gene_ids  n_cells     mt  n_cells_by_counts  mean_counts  \\\n",
       "TNFRSF4  ENSG00000186827      155  False                155     0.077407   \n",
       "CPSF3L   ENSG00000127054      202  False                202     0.094815   \n",
       "ATAD3C   ENSG00000215915        9  False                  9     0.009259   \n",
       "C1orf86  ENSG00000162585      501  False                501     0.227778   \n",
       "RER1     ENSG00000157916      608  False                608     0.298148   \n",
       "\n",
       "         pct_dropout_by_counts  total_counts  highly_variable     means  \\\n",
       "TNFRSF4              94.259259         209.0             True  0.277410   \n",
       "CPSF3L               92.518519         256.0             True  0.385194   \n",
       "ATAD3C               99.666667          25.0             True  0.038252   \n",
       "C1orf86              81.444444         615.0             True  0.678283   \n",
       "RER1                 77.481481         805.0             True  0.814813   \n",
       "\n",
       "         dispersions  dispersions_norm          mean       std  \n",
       "TNFRSF4     2.086050          0.665406 -3.672069e-10  0.424481  \n",
       "CPSF3L      4.506987          2.955005 -2.372437e-10  0.460416  \n",
       "ATAD3C      3.953486          4.352607  8.472988e-12  0.119465  \n",
       "C1orf86     2.713522          0.543183  3.389195e-10  0.685145  \n",
       "RER1        3.447533          1.582528  7.696297e-11  0.736050  "
      ]
     },
     "execution_count": 77,
     "metadata": {},
     "output_type": "execute_result"
    },
    {
     "data": {
      "text/plain": [
       "(1838, 13)"
      ]
     },
     "execution_count": 77,
     "metadata": {},
     "output_type": "execute_result"
    }
   ],
   "source": [
    "pbmc3k_ann.var.head()\n",
    "# shape\n",
    "pbmc3k_ann.var.shape"
   ]
  },
  {
   "cell_type": "markdown",
   "metadata": {},
   "source": [
    "### `uns` - unstructured annotation"
   ]
  },
  {
   "cell_type": "code",
   "execution_count": 78,
   "metadata": {
    "ExecuteTime": {
     "end_time": "2024-12-21T15:14:17.979622Z",
     "start_time": "2024-12-21T15:14:17.974237Z"
    },
    "scrolled": true
   },
   "outputs": [
    {
     "data": {
      "text/plain": [
       "dict_keys(['hvg', 'leiden', 'log1p', 'neighbors', 'pca', 'rank_genes_groups', 'umap'])"
      ]
     },
     "execution_count": 78,
     "metadata": {},
     "output_type": "execute_result"
    }
   ],
   "source": [
    "pbmc3k_ann.uns.keys()"
   ]
  },
  {
   "cell_type": "code",
   "execution_count": 79,
   "metadata": {
    "ExecuteTime": {
     "end_time": "2024-12-21T15:14:18.070746Z",
     "start_time": "2024-12-21T15:14:18.064741Z"
    }
   },
   "outputs": [
    {
     "data": {
      "text/plain": [
       "array([32.110455 , 18.718655 , 15.607329 , 13.235289 ,  4.802269 ,\n",
       "        3.9859324,  3.5262327,  3.2334454,  3.1212087,  3.075261 ,\n",
       "        2.9980748,  2.959521 ,  2.9517848,  2.9442477,  2.913872 ,\n",
       "        2.8990302,  2.880682 ,  2.864685 ,  2.8430636,  2.8357508,\n",
       "        2.8314214,  2.8182364,  2.8035524,  2.7999873,  2.788954 ,\n",
       "        2.778101 ,  2.7705767,  2.7602205,  2.7538602,  2.7459552,\n",
       "        2.7371864,  2.7341268,  2.722202 ,  2.7123108,  2.7024777,\n",
       "        2.7000473,  2.6838503,  2.6790507,  2.6769078,  2.6739945,\n",
       "        2.6648538,  2.6573114,  2.6511767,  2.6417756,  2.6329703,\n",
       "        2.6295197,  2.6245294,  2.618376 ,  2.6180034,  2.6018658],\n",
       "      dtype=float32)"
      ]
     },
     "execution_count": 79,
     "metadata": {},
     "output_type": "execute_result"
    }
   ],
   "source": [
    "# pca variance\n",
    "pbmc3k_ann.uns['pca']['variance']"
   ]
  },
  {
   "cell_type": "code",
   "execution_count": 80,
   "metadata": {
    "ExecuteTime": {
     "end_time": "2024-12-21T15:14:18.171016Z",
     "start_time": "2024-12-21T15:14:18.165057Z"
    }
   },
   "outputs": [
    {
     "data": {
      "text/plain": [
       "{'use_highly_variable': True, 'zero_center': True}"
      ]
     },
     "execution_count": 80,
     "metadata": {},
     "output_type": "execute_result"
    }
   ],
   "source": [
    "# pca parameters\n",
    "pbmc3k_ann.uns['pca']['params']"
   ]
  },
  {
   "cell_type": "markdown",
   "metadata": {},
   "source": [
    "### `obsm` - dimensional reduction results"
   ]
  },
  {
   "cell_type": "code",
   "execution_count": 81,
   "metadata": {
    "ExecuteTime": {
     "end_time": "2024-12-21T15:14:18.360938Z",
     "start_time": "2024-12-21T15:14:18.356123Z"
    }
   },
   "outputs": [
    {
     "data": {
      "text/plain": [
       "AxisArrays with keys: X_pca, X_umap"
      ]
     },
     "execution_count": 81,
     "metadata": {},
     "output_type": "execute_result"
    }
   ],
   "source": [
    "pbmc3k_ann.obsm"
   ]
  },
  {
   "cell_type": "code",
   "execution_count": 82,
   "metadata": {
    "ExecuteTime": {
     "end_time": "2024-12-21T15:14:18.461382Z",
     "start_time": "2024-12-21T15:14:18.455964Z"
    }
   },
   "outputs": [
    {
     "data": {
      "text/plain": [
       "array([[-5.556221  , -0.25772715,  0.18679433, ..., -0.34272835,\n",
       "         1.4820554 ,  1.8977244 ],\n",
       "       [-7.209527  , -7.4820013 , -0.16271746, ..., -1.9744129 ,\n",
       "        -1.5622702 , -1.49611   ],\n",
       "       [-2.6944373 ,  1.5836617 ,  0.6631235 , ...,  0.544482  ,\n",
       "        -0.5436244 , -4.3394427 ],\n",
       "       ...,\n",
       "       [-0.7853934 , -6.718591  , -1.5988475 , ..., -0.5608387 ,\n",
       "        -0.10692333,  0.5838822 ],\n",
       "       [ 0.28127232, -5.9218583 , -1.1628891 , ..., -1.3899633 ,\n",
       "         3.5770402 ,  1.2988257 ],\n",
       "       [-0.09076758, -0.6635025 , -0.13485482, ...,  0.37157103,\n",
       "         0.75083363, -0.6659949 ]], dtype=float32)"
      ]
     },
     "execution_count": 82,
     "metadata": {},
     "output_type": "execute_result"
    }
   ],
   "source": [
    "# dimensional reduction results of pca\n",
    "pbmc3k_ann.obsm['X_pca']"
   ]
  },
  {
   "cell_type": "code",
   "execution_count": 83,
   "metadata": {
    "ExecuteTime": {
     "end_time": "2024-12-21T15:14:18.559595Z",
     "start_time": "2024-12-21T15:14:18.552315Z"
    }
   },
   "outputs": [
    {
     "data": {
      "text/plain": [
       "array([[ 7.906657 ,  3.556091 ],\n",
       "       [ 9.248348 , 12.544332 ],\n",
       "       [ 7.629986 ,  3.8347855],\n",
       "       ...,\n",
       "       [ 7.2876377, 13.075106 ],\n",
       "       [ 8.105372 , 14.307881 ],\n",
       "       [ 8.511535 ,  3.3921196]], dtype=float32)"
      ]
     },
     "execution_count": 83,
     "metadata": {},
     "output_type": "execute_result"
    }
   ],
   "source": [
    "# dimensional reduction results of umap\n",
    "pbmc3k_ann.obsm['X_umap']"
   ]
  },
  {
   "cell_type": "markdown",
   "metadata": {},
   "source": [
    "### `varm` - feature loadings"
   ]
  },
  {
   "cell_type": "code",
   "execution_count": 84,
   "metadata": {
    "ExecuteTime": {
     "end_time": "2024-12-21T15:14:18.767416Z",
     "start_time": "2024-12-21T15:14:18.761294Z"
    }
   },
   "outputs": [
    {
     "data": {
      "text/plain": [
       "array([[-2.60148179e-02,  3.25416843e-03,  1.89788977e-03, ...,\n",
       "        -5.18770702e-03,  1.44968908e-02, -6.67473301e-04],\n",
       "       [-8.27822462e-03,  9.08316299e-03, -7.81411130e-04, ...,\n",
       "         3.08727100e-02, -8.86981003e-03, -2.88053416e-03],\n",
       "       [-3.31518659e-03,  3.20968428e-03,  2.79858650e-04, ...,\n",
       "         1.01477914e-02, -5.30328136e-04,  1.50829612e-03],\n",
       "       ...,\n",
       "       [ 8.34176037e-03, -1.24651939e-03, -4.12195362e-03, ...,\n",
       "        -1.01806019e-02,  9.22558550e-03,  2.79657058e-02],\n",
       "       [-1.64065659e-02,  4.41013835e-02, -2.13347375e-05, ...,\n",
       "         9.99553967e-03, -4.50964272e-03, -1.36533342e-02],\n",
       "       [-1.51882619e-02,  4.00086790e-02,  5.41223399e-03, ...,\n",
       "        -3.72782419e-03,  2.11074371e-02,  3.59644145e-02]])"
      ]
     },
     "execution_count": 84,
     "metadata": {},
     "output_type": "execute_result"
    }
   ],
   "source": [
    "# feature loadings\n",
    "pbmc3k_ann.varm['PCs']"
   ]
  },
  {
   "cell_type": "markdown",
   "metadata": {},
   "source": [
    "###  `obsp` - relationship of cells, graphs"
   ]
  },
  {
   "cell_type": "code",
   "execution_count": 85,
   "metadata": {
    "ExecuteTime": {
     "end_time": "2024-12-21T15:14:18.951901Z",
     "start_time": "2024-12-21T15:14:18.947405Z"
    }
   },
   "outputs": [
    {
     "data": {
      "text/plain": [
       "PairwiseArrays with keys: connectivities, distances"
      ]
     },
     "execution_count": 85,
     "metadata": {},
     "output_type": "execute_result"
    }
   ],
   "source": [
    "# relationship of cells, graphs\n",
    "pbmc3k_ann.obsp"
   ]
  },
  {
   "cell_type": "code",
   "execution_count": 86,
   "metadata": {
    "ExecuteTime": {
     "end_time": "2024-12-21T15:14:19.090538Z",
     "start_time": "2024-12-21T15:14:19.056201Z"
    },
    "scrolled": true
   },
   "outputs": [
    {
     "data": {
      "text/plain": [
       "array([[0., 0., 0., ..., 0., 0., 0.],\n",
       "       [0., 0., 0., ..., 0., 0., 0.],\n",
       "       [0., 0., 0., ..., 0., 0., 0.],\n",
       "       ...,\n",
       "       [0., 0., 0., ..., 0., 0., 0.],\n",
       "       [0., 0., 0., ..., 0., 0., 0.],\n",
       "       [0., 0., 0., ..., 0., 0., 0.]])"
      ]
     },
     "execution_count": 86,
     "metadata": {},
     "output_type": "execute_result"
    }
   ],
   "source": [
    "pbmc3k_ann.obsp['distances'].toarray()"
   ]
  },
  {
   "cell_type": "code",
   "execution_count": 87,
   "metadata": {
    "ExecuteTime": {
     "end_time": "2024-12-21T15:14:19.176611Z",
     "start_time": "2024-12-21T15:14:19.151788Z"
    },
    "scrolled": true
   },
   "outputs": [
    {
     "data": {
      "text/plain": [
       "array([[0., 0., 0., ..., 0., 0., 0.],\n",
       "       [0., 0., 0., ..., 0., 0., 0.],\n",
       "       [0., 0., 0., ..., 0., 0., 0.],\n",
       "       ...,\n",
       "       [0., 0., 0., ..., 0., 0., 0.],\n",
       "       [0., 0., 0., ..., 0., 0., 0.],\n",
       "       [0., 0., 0., ..., 0., 0., 0.]], dtype=float32)"
      ]
     },
     "execution_count": 87,
     "metadata": {},
     "output_type": "execute_result"
    }
   ],
   "source": [
    "pbmc3k_ann.obsp['connectivities'].toarray()"
   ]
  },
  {
   "cell_type": "code",
   "execution_count": 88,
   "metadata": {
    "ExecuteTime": {
     "end_time": "2024-12-21T15:14:19.299071Z",
     "start_time": "2024-12-21T15:14:19.261752Z"
    }
   },
   "outputs": [],
   "source": [
    "%%R\n",
    "# convert AnnData to SeuratObject (use current conda environment)\n",
    "# now integrated into GEfetch2R\n",
    "AD2Seu = function(anndata.file, method = c(\"SeuratDisk\", \"sceasy\",\t\"scDIOR\", \"schard\", \"SeuratDisk+scDIOR\"), assay = \"RNA\",\n",
    "                  load.assays = \"RNA\", slot = \"counts\", use.raw = TRUE){\n",
    "  # check parameters\n",
    "  method <- match.arg(arg = method)\n",
    "\n",
    "  # check file\n",
    "  if(!file.exists(anndata.file)){\n",
    "    stop(anndata.file, \" does not exist, please check!\")\n",
    "  }\n",
    "  # conversion\n",
    "  if(grepl(pattern = \"SeuratDisk\", x = method)){\n",
    "    # SeuratDisk\n",
    "    seu = tryCatch(\n",
    "      {\n",
    "        SeuratDisk::Convert(anndata.file, dest = \"h5seurat\", overwrite = TRUE, assay = assay)\n",
    "        h5seurat.file = gsub(pattern = \"h5ad$\", replacement = \"h5seurat\", x = anndata.file)\n",
    "        # https://github.com/mojaveazure/seurat-disk/issues/109\n",
    "        f <- hdf5r::H5File$new(h5seurat.file, \"r+\")\n",
    "        groups <- f$ls(recursive = TRUE)\n",
    "        for (name in groups$name[grepl(\"categories\", groups$name)]) {\n",
    "          names <- strsplit(name, \"/\")[[1]]\n",
    "          names <- c(names[1:length(names) - 1], \"levels\")\n",
    "          new_name <- paste(names, collapse = \"/\")\n",
    "          f[[new_name]] <- f[[name]]\n",
    "        }\n",
    "        for (name in groups$name[grepl(\"codes\", groups$name)]) {\n",
    "          names <- strsplit(name, \"/\")[[1]]\n",
    "          names <- c(names[1:length(names) - 1], \"values\")\n",
    "          new_name <- paste(names, collapse = \"/\")\n",
    "          f[[new_name]] <- f[[name]]\n",
    "          grp <- f[[new_name]]\n",
    "          grp$write(args = list(1:grp$dims), value = grp$read() + 1)\n",
    "        }\n",
    "        f$close_all()\n",
    "        SeuratDisk::LoadH5Seurat(h5seurat.file, assays = load.assays)\n",
    "      },\n",
    "      error = function(cond) {\n",
    "        message(\"There is an error when using SeuratDisk: \", cond)\n",
    "      }\n",
    "    )\n",
    "    if(grepl(pattern = \"scDIOR\", x = method)){\n",
    "      # scDIOR\n",
    "      seu.scdior = tryCatch(\n",
    "        {\n",
    "          dior::read_h5ad(file = anndata.file, assay_name=assay, target.object = \"seurat\")\n",
    "        },\n",
    "        error = function(cond) {\n",
    "          message(\"There is an error when using scDIOR: \", cond)\n",
    "        }\n",
    "      )\n",
    "      # add additional assays\n",
    "      all.assays = Seurat::Assays(seu.scdior)\n",
    "      unused.assays = setdiff(all.assays, assay)\n",
    "      if(length(unused.assays) > 0){\n",
    "        for (ay in unused.assays){\n",
    "          # https://github.com/JiekaiLab/dior/blob/2b1ea47b6661c8a10d9455f3baeeccb8f12be2f0/R/seuratIO.R#L65\n",
    "          # https://github.com/satijalab/seurat-object/blob/58bf437fe058dd78913d9ef7b48008a3e24a306a/R/assay.R#L157\n",
    "          assay.data <- Seurat::GetAssayData(object =  seu.scdior[[ay]], slot = 'counts')\n",
    "          seu[[ay]] <- Seurat::CreateAssayObject(counts = assay.data )\n",
    "        }\n",
    "      }\n",
    "      # add graphs\n",
    "      seu@graphs = seu.scdior@graphs\n",
    "    }\n",
    "  }else if(method == \"sceasy\"){\n",
    "    seu = tryCatch(\n",
    "      {\n",
    "        sceasy::convertFormat(anndata.file, from=\"anndata\", to=\"seurat\",\n",
    "                              main_layer = slot, assay = assay)\n",
    "      },\n",
    "      error = function(cond) {\n",
    "        message(\"There is an error when using sceasy: \", cond)\n",
    "      }\n",
    "    )\n",
    "  }else if(method == \"scDIOR\"){\n",
    "    seu = tryCatch(\n",
    "      {\n",
    "        dior::read_h5ad(file = anndata.file, assay_name=assay, target.object = \"seurat\")\n",
    "      },\n",
    "      error = function(cond) {\n",
    "        message(\"There is an error when using scDIOR: \", cond)\n",
    "      }\n",
    "    )\n",
    "  }else if(method == \"schard\"){\n",
    "    seu = tryCatch(\n",
    "      {\n",
    "        schard::h5ad2seurat(file = anndata.file, use.raw = use.raw, assay = assay)\n",
    "      },\n",
    "      error = function(cond) {\n",
    "        message(\"There is an error when using schard: \", cond)\n",
    "      }\n",
    "    )\n",
    "  }\n",
    "  return(seu)\n",
    "}"
   ]
  },
  {
   "cell_type": "markdown",
   "metadata": {},
   "source": [
    "## SeuratDisk"
   ]
  },
  {
   "cell_type": "markdown",
   "metadata": {},
   "source": [
    "**Retained information** (`AnnData -> SeuratObject`):\n",
    "\n",
    "   * count matrix: scaled data (`X -> scale.data`), log-normalized data/raw count matrix (`raw.X -> data/counts`)\n",
    "   * cells' meta-information (`obs -> meta.data`)\n",
    "   * annotation of features (`var -> meta.features`)\n",
    "   * dimensional reduction results (`obsm -> reductions`)\n",
    "   * feature loadings (`varm -> reductions`)\n",
    "   * unstructured annotation (`uns -> misc`)"
   ]
  },
  {
   "cell_type": "code",
   "execution_count": 89,
   "metadata": {
    "ExecuteTime": {
     "end_time": "2024-12-21T15:14:31.823938Z",
     "start_time": "2024-12-21T15:14:19.564011Z"
    },
    "scrolled": true
   },
   "outputs": [
    {
     "name": "stderr",
     "output_type": "stream",
     "text": [
      "R[write to console]: Warning:\n",
      "R[write to console]:  Unknown file type: h5ad\n",
      "\n",
      "R[write to console]: Creating h5Seurat file for version 3.1.5.9900\n",
      "\n",
      "R[write to console]: Adding X as scale.data\n",
      "\n",
      "R[write to console]: Adding raw/X as data\n",
      "\n",
      "R[write to console]: Adding raw/X as counts\n",
      "\n",
      "R[write to console]: Adding meta.features from raw/var\n",
      "\n",
      "R[write to console]: Adding dispersions from scaled feature-level metadata\n",
      "\n",
      "R[write to console]: Adding dispersions_norm from scaled feature-level metadata\n",
      "\n",
      "R[write to console]: Merging gene_ids from scaled feature-level metadata\n",
      "\n",
      "R[write to console]: Adding highly_variable from scaled feature-level metadata\n",
      "\n",
      "R[write to console]: Adding mean from scaled feature-level metadata\n",
      "\n",
      "R[write to console]: Merging mean_counts from scaled feature-level metadata\n",
      "\n",
      "R[write to console]: Adding means from scaled feature-level metadata\n",
      "\n",
      "R[write to console]: Merging mt from scaled feature-level metadata\n",
      "\n",
      "R[write to console]: Merging n_cells from scaled feature-level metadata\n",
      "\n",
      "R[write to console]: Merging n_cells_by_counts from scaled feature-level metadata\n",
      "\n",
      "R[write to console]: Merging pct_dropout_by_counts from scaled feature-level metadata\n",
      "\n",
      "R[write to console]: Adding std from scaled feature-level metadata\n",
      "\n",
      "R[write to console]: Merging total_counts from scaled feature-level metadata\n",
      "\n",
      "R[write to console]: Adding X_pca as cell embeddings for pca\n",
      "\n",
      "R[write to console]: Adding X_umap as cell embeddings for umap\n",
      "\n",
      "R[write to console]: Adding PCs as feature loadings fpr pca\n",
      "\n",
      "R[write to console]: Adding miscellaneous information for pca\n",
      "\n",
      "R[write to console]: Adding standard deviations for pca\n",
      "\n",
      "R[write to console]: Adding miscellaneous information for umap\n",
      "\n",
      "R[write to console]: Adding hvg to miscellaneous data\n",
      "\n",
      "R[write to console]: Adding leiden to miscellaneous data\n",
      "\n",
      "R[write to console]: Adding log1p to miscellaneous data\n",
      "\n",
      "R[write to console]: Adding rank_genes_groups to miscellaneous data\n",
      "\n",
      "R[write to console]: Adding layer logcounts as data in assay logcounts\n",
      "\n",
      "R[write to console]: Adding layer rawcounts as data in assay rawcounts\n",
      "\n",
      "R[write to console]: Validating h5Seurat file\n",
      "\n",
      "R[write to console]: Warning:\n",
      "R[write to console]:  Feature names cannot have underscores ('_'), replacing with dashes ('-')\n",
      "\n",
      "R[write to console]: Initializing RNA with data\n",
      "\n",
      "R[write to console]: Adding counts for RNA\n",
      "\n",
      "R[write to console]: Adding scale.data for RNA\n",
      "\n",
      "R[write to console]: Adding feature-level metadata for RNA\n",
      "\n",
      "R[write to console]: Adding reduction pca\n",
      "\n",
      "R[write to console]: Adding cell embeddings for pca\n",
      "\n",
      "R[write to console]: Adding feature loadings for pca\n",
      "\n",
      "R[write to console]: Adding miscellaneous information for pca\n",
      "\n",
      "R[write to console]: Adding reduction umap\n",
      "\n",
      "R[write to console]: Adding cell embeddings for umap\n",
      "\n",
      "R[write to console]: Adding miscellaneous information for umap\n",
      "\n",
      "R[write to console]: Adding command information\n",
      "\n",
      "R[write to console]: Adding cell-level metadata\n",
      "\n"
     ]
    },
    {
     "name": "stdout",
     "output_type": "stream",
     "text": [
      "An object of class Seurat \n",
      "13714 features across 2638 samples within 1 assay \n",
      "Active assay: RNA (13714 features, 0 variable features)\n",
      " 2 dimensional reductions calculated: pca, umap\n"
     ]
    }
   ],
   "source": [
    "%%R\n",
    "# when raw count matrix stored in adata.raw, the counts and data will be raw count matrix\n",
    "ann.seu = AD2Seu(anndata.file = \"./write/pbmc3k.h5ad\", \n",
    "                 method = \"SeuratDisk\", assay=\"RNA\", load.assays = c(\"RNA\"))\n",
    "ann.seu"
   ]
  },
  {
   "cell_type": "code",
   "execution_count": 90,
   "metadata": {
    "ExecuteTime": {
     "end_time": "2024-12-21T15:14:32.130566Z",
     "start_time": "2024-12-21T15:14:31.827798Z"
    }
   },
   "outputs": [
    {
     "name": "stdout",
     "output_type": "stream",
     "text": [
      "10 x 15 sparse Matrix of class \"dgCMatrix\"\n"
     ]
    },
    {
     "name": "stderr",
     "output_type": "stream",
     "text": [
      "R[write to console]:   [[ suppressing 15 column names ‘AAACATACAACCAC-1’, ‘AAACATTGAGCTAC-1’, ‘AAACATTGATCAGC-1’ ... ]]\n",
      "\n"
     ]
    },
    {
     "name": "stdout",
     "output_type": "stream",
     "text": [
      "                                           \n",
      "AL627309.1    . . . . . . . . . . . . . . .\n",
      "AP006222.2    . . . . . . . . . . . . . . .\n",
      "RP11-206L10.2 . . . . . . . . . . . . . . .\n",
      "RP11-206L10.9 . . . . . . . . . . . . . . .\n",
      "LINC00115     . . . . . . . . . . . . . . .\n",
      "NOC2L         . . . . . . . . . . . 1 . . .\n",
      "KLHL17        . . . . . . . . . . . . . . .\n",
      "PLEKHN1       . . . . . . . . . . . . . . .\n",
      "RP11-54O7.17  . . . . . . . . . . . . . . .\n",
      "HES4          . . . . . . . . . . . . . . .\n"
     ]
    }
   ],
   "source": [
    "%%R\n",
    "# raw count matrix\n",
    "ann.seu@assays$RNA@counts[1:10,1:15]"
   ]
  },
  {
   "cell_type": "code",
   "execution_count": 91,
   "metadata": {
    "ExecuteTime": {
     "end_time": "2024-12-21T15:14:32.165563Z",
     "start_time": "2024-12-21T15:14:32.134023Z"
    },
    "scrolled": true
   },
   "outputs": [
    {
     "name": "stdout",
     "output_type": "stream",
     "text": [
      "[1] 13714  2638\n"
     ]
    }
   ],
   "source": [
    "%%R\n",
    "# shape\n",
    "dim(ann.seu@assays$RNA@counts)"
   ]
  },
  {
   "cell_type": "code",
   "execution_count": 92,
   "metadata": {
    "ExecuteTime": {
     "end_time": "2024-12-21T15:14:32.529303Z",
     "start_time": "2024-12-21T15:14:32.174182Z"
    }
   },
   "outputs": [
    {
     "name": "stdout",
     "output_type": "stream",
     "text": [
      "10 x 15 sparse Matrix of class \"dgCMatrix\"\n"
     ]
    },
    {
     "name": "stderr",
     "output_type": "stream",
     "text": [
      "R[write to console]:   [[ suppressing 15 column names ‘AAACATACAACCAC-1’, ‘AAACATTGAGCTAC-1’, ‘AAACATTGATCAGC-1’ ... ]]\n",
      "\n"
     ]
    },
    {
     "name": "stdout",
     "output_type": "stream",
     "text": [
      "                                           \n",
      "AL627309.1    . . . . . . . . . . . . . . .\n",
      "AP006222.2    . . . . . . . . . . . . . . .\n",
      "RP11-206L10.2 . . . . . . . . . . . . . . .\n",
      "RP11-206L10.9 . . . . . . . . . . . . . . .\n",
      "LINC00115     . . . . . . . . . . . . . . .\n",
      "NOC2L         . . . . . . . . . . . 1 . . .\n",
      "KLHL17        . . . . . . . . . . . . . . .\n",
      "PLEKHN1       . . . . . . . . . . . . . . .\n",
      "RP11-54O7.17  . . . . . . . . . . . . . . .\n",
      "HES4          . . . . . . . . . . . . . . .\n"
     ]
    }
   ],
   "source": [
    "%%R\n",
    "# the data slot contains raw count matrix\n",
    "ann.seu@assays$RNA@data[1:10,1:15]"
   ]
  },
  {
   "cell_type": "code",
   "execution_count": 93,
   "metadata": {
    "ExecuteTime": {
     "end_time": "2024-12-21T15:14:32.554109Z",
     "start_time": "2024-12-21T15:14:32.531620Z"
    }
   },
   "outputs": [
    {
     "name": "stdout",
     "output_type": "stream",
     "text": [
      "[1] 13714  2638\n"
     ]
    }
   ],
   "source": [
    "%%R\n",
    "# shape\n",
    "dim(ann.seu@assays$RNA@data)"
   ]
  },
  {
   "cell_type": "code",
   "execution_count": 94,
   "metadata": {
    "ExecuteTime": {
     "end_time": "2024-12-21T15:14:32.619792Z",
     "start_time": "2024-12-21T15:14:32.556478Z"
    }
   },
   "outputs": [
    {
     "name": "stdout",
     "output_type": "stream",
     "text": [
      "         AAACATACAACCAC-1 AAACATTGAGCTAC-1 AAACATTGATCAGC-1 AAACCGTGCTTCCG-1\n",
      "TNFRSF4       -0.17146961      -0.21458235      -0.37688771      -0.28524107\n",
      "CPSF3L        -0.28081229      -0.37265328      -0.29508454      -0.28173482\n",
      "ATAD3C        -0.04667677      -0.05480441      -0.05752748      -0.05222671\n",
      "C1orf86       -0.47516865      -0.68339121      -0.52097195      -0.48492861\n",
      "RER1          -0.54402399       0.63395083       1.33264792       1.57267952\n",
      "TNFRSF25       4.92849684      -0.33483663      -0.30936241      -0.27182469\n",
      "TNFRSF9       -0.03802770      -0.04558870      -0.10310833      -0.07455204\n",
      "CTNNBIP1      -0.28057277      -0.49826378      -0.27252606      -0.25887546\n",
      "SRM           -0.34178808      -0.54191375      -0.50079864      -0.41675180\n",
      "UBIAD1        -0.19536127      -0.20901665      -0.22022836      -0.20847099\n"
     ]
    }
   ],
   "source": [
    "%%R\n",
    "# scaled count matrix\n",
    "ann.seu@assays$RNA@scale.data[1:10,1:4]"
   ]
  },
  {
   "cell_type": "code",
   "execution_count": 95,
   "metadata": {
    "ExecuteTime": {
     "end_time": "2024-12-21T15:14:32.647597Z",
     "start_time": "2024-12-21T15:14:32.622275Z"
    }
   },
   "outputs": [
    {
     "name": "stdout",
     "output_type": "stream",
     "text": [
      "[1] 1838 2638\n"
     ]
    }
   ],
   "source": [
    "%%R\n",
    "# shape\n",
    "dim(ann.seu@assays$RNA@scale.data)"
   ]
  },
  {
   "cell_type": "code",
   "execution_count": 96,
   "metadata": {
    "ExecuteTime": {
     "end_time": "2024-12-21T15:14:32.721353Z",
     "start_time": "2024-12-21T15:14:32.655176Z"
    }
   },
   "outputs": [
    {
     "name": "stdout",
     "output_type": "stream",
     "text": [
      "                 n_genes n_genes_by_counts total_counts total_counts_mt\n",
      "AAACATACAACCAC-1     781               779         2419              73\n",
      "AAACATTGAGCTAC-1    1352              1352         4903             186\n",
      "AAACATTGATCAGC-1    1131              1129         3147              28\n",
      "AAACCGTGCTTCCG-1     960               960         2639              46\n",
      "AAACCGTGTATGCG-1     522               521          980              12\n",
      "AAACGCACTGGTAC-1     782               781         2163              36\n",
      "                 pct_counts_mt leiden\n",
      "AAACATACAACCAC-1     3.0177760      0\n",
      "AAACATTGAGCTAC-1     3.7935958      2\n",
      "AAACATTGATCAGC-1     0.8897362      0\n",
      "AAACCGTGCTTCCG-1     1.7430845      4\n",
      "AAACCGTGTATGCG-1     1.2244898      5\n",
      "AAACGCACTGGTAC-1     1.6643550      0\n"
     ]
    }
   ],
   "source": [
    "%%R\n",
    "suppressMessages(library(tidyverse))\n",
    "# cell's meta-information\n",
    "ann.seu@meta.data %>% head()"
   ]
  },
  {
   "cell_type": "code",
   "execution_count": 97,
   "metadata": {
    "ExecuteTime": {
     "end_time": "2024-12-21T15:14:32.841523Z",
     "start_time": "2024-12-21T15:14:32.725802Z"
    }
   },
   "outputs": [
    {
     "name": "stdout",
     "output_type": "stream",
     "text": [
      "                     gene_ids n_cells    mt n_cells_by_counts mean_counts\n",
      "AL627309.1    ENSG00000237683       9 FALSE                 9 0.003333333\n",
      "AP006222.2    ENSG00000228463       3 FALSE                 3 0.001111111\n",
      "RP11-206L10.2 ENSG00000228327       5 FALSE                 5 0.001851852\n",
      "RP11-206L10.9 ENSG00000237491       3 FALSE                 3 0.001111111\n",
      "LINC00115     ENSG00000225880      18 FALSE                18 0.006666667\n",
      "NOC2L         ENSG00000188976     258 FALSE               258 0.106666669\n",
      "              pct_dropout_by_counts total_counts dispersions dispersions_norm\n",
      "AL627309.1                 99.66667            9           0                0\n",
      "AP006222.2                 99.88889            3           0                0\n",
      "RP11-206L10.2              99.81481            5           0                0\n",
      "RP11-206L10.9              99.88889            3           0                0\n",
      "LINC00115                  99.33333           18           0                0\n",
      "NOC2L                      90.44444          288           0                0\n",
      "              highly_variable mean means std\n",
      "AL627309.1              FALSE    0     0   0\n",
      "AP006222.2              FALSE    0     0   0\n",
      "RP11-206L10.2           FALSE    0     0   0\n",
      "RP11-206L10.9           FALSE    0     0   0\n",
      "LINC00115               FALSE    0     0   0\n",
      "NOC2L                   FALSE    0     0   0\n"
     ]
    }
   ],
   "source": [
    "%%R\n",
    "# annotation of features\n",
    "ann.seu@assays$RNA@meta.features %>% head()"
   ]
  },
  {
   "cell_type": "code",
   "execution_count": 98,
   "metadata": {
    "ExecuteTime": {
     "end_time": "2024-12-21T15:14:33.019874Z",
     "start_time": "2024-12-21T15:14:32.844652Z"
    }
   },
   "outputs": [
    {
     "name": "stdout",
     "output_type": "stream",
     "text": [
      "                      PC_1       PC_2       PC_3       PC_4        PC_5\n",
      "AAACATACAACCAC-1 -5.556221 -0.2577271  0.1867943 -2.8000970  0.05072495\n",
      "AAACATTGAGCTAC-1 -7.209527 -7.4820013 -0.1627175  8.0185165 -3.00661612\n",
      "AAACATTGATCAGC-1 -2.694437  1.5836617  0.6631235 -2.2056429  1.78901792\n",
      "AAACCGTGCTTCCG-1 10.143297  1.3685347 -1.2098237  0.7000697  2.90616465\n",
      "AAACCGTGTATGCG-1  1.112813  8.1527987 -1.3323525  4.2524910 -1.96318078\n"
     ]
    }
   ],
   "source": [
    "%%R\n",
    "# dimensional reduction results of pca\n",
    "ann.seu@reductions$pca@cell.embeddings[1:5, 1:5]"
   ]
  },
  {
   "cell_type": "code",
   "execution_count": 99,
   "metadata": {
    "ExecuteTime": {
     "end_time": "2024-12-21T15:14:33.093536Z",
     "start_time": "2024-12-21T15:14:33.029011Z"
    }
   },
   "outputs": [
    {
     "name": "stdout",
     "output_type": "stream",
     "text": [
      "                PC_1         PC_2          PC_3         PC_4          PC_5\n",
      "TNFRSF4 -0.026014818  0.003254168  0.0018978898 -0.036262553  0.0167816579\n",
      "CPSF3L  -0.008278225  0.009083163 -0.0007814111  0.008882667 -0.0063649304\n",
      "ATAD3C  -0.003315187  0.003209684  0.0002798587 -0.001740866 -0.0003630426\n",
      "C1orf86  0.010650732 -0.000268140 -0.0070081116  0.002366116 -0.0038789101\n",
      "RER1     0.013711839  0.027387908 -0.0107853832  0.006192871  0.0182563197\n"
     ]
    }
   ],
   "source": [
    "%%R\n",
    "# pca feature loadings\n",
    "ann.seu@reductions$pca@feature.loadings[1:5, 1:5]"
   ]
  },
  {
   "cell_type": "code",
   "execution_count": 100,
   "metadata": {
    "ExecuteTime": {
     "end_time": "2024-12-21T15:14:33.190789Z",
     "start_time": "2024-12-21T15:14:33.097151Z"
    }
   },
   "outputs": [
    {
     "name": "stdout",
     "output_type": "stream",
     "text": [
      "                    umap_1     umap_2\n",
      "AAACATACAACCAC-1  7.906657  3.5560911\n",
      "AAACATTGAGCTAC-1  9.248348 12.5443316\n",
      "AAACATTGATCAGC-1  7.629986  3.8347855\n",
      "AAACCGTGCTTCCG-1  0.131578  5.5397391\n",
      "AAACCGTGTATGCG-1 10.055341 -0.6474292\n"
     ]
    }
   ],
   "source": [
    "%%R\n",
    "# dimensional reduction results of umap\n",
    "ann.seu@reductions$umap@cell.embeddings[1:5, 1:2]"
   ]
  },
  {
   "cell_type": "code",
   "execution_count": 101,
   "metadata": {
    "ExecuteTime": {
     "end_time": "2024-12-21T15:14:33.346601Z",
     "start_time": "2024-12-21T15:14:33.193552Z"
    }
   },
   "outputs": [
    {
     "name": "stdout",
     "output_type": "stream",
     "text": [
      "$params\n",
      "  use_highly_variable zero_center\n",
      "1                TRUE        TRUE\n",
      "\n",
      "$variance\n",
      " [1] 32.110455 18.718655 15.607329 13.235289  4.802269  3.985932  3.526233\n",
      " [8]  3.233445  3.121209  3.075261  2.998075  2.959521  2.951785  2.944248\n",
      "[15]  2.913872  2.899030  2.880682  2.864685  2.843064  2.835751  2.831421\n",
      "[22]  2.818236  2.803552  2.799987  2.788954  2.778101  2.770577  2.760221\n",
      "[29]  2.753860  2.745955  2.737186  2.734127  2.722202  2.712311  2.702478\n",
      "[36]  2.700047  2.683850  2.679051  2.676908  2.673995  2.664854  2.657311\n",
      "[43]  2.651177  2.641776  2.632970  2.629520  2.624529  2.618376  2.618003\n",
      "[50]  2.601866\n",
      "\n",
      "$variance_ratio\n",
      " [1] 0.020128191 0.011733645 0.009783334 0.008296438 0.003010265 0.002498551\n",
      " [7] 0.002210392 0.002026860 0.001956505 0.001927704 0.001879320 0.001855153\n",
      "[13] 0.001850304 0.001845579 0.001826538 0.001817235 0.001805733 0.001795706\n",
      "[19] 0.001782152 0.001777568 0.001774855 0.001766590 0.001757385 0.001755151\n",
      "[25] 0.001748234 0.001741431 0.001736715 0.001730223 0.001726236 0.001721281\n",
      "[31] 0.001715784 0.001713866 0.001706391 0.001700191 0.001694027 0.001692504\n",
      "[37] 0.001682351 0.001679342 0.001677999 0.001676173 0.001670443 0.001665715\n",
      "[43] 0.001661870 0.001655977 0.001650457 0.001648294 0.001645166 0.001641309\n",
      "[49] 0.001641075 0.001630959\n",
      "\n"
     ]
    }
   ],
   "source": [
    "%%R\n",
    "# miscellaneous information\n",
    "ann.seu@reductions$pca@misc"
   ]
  },
  {
   "cell_type": "code",
   "execution_count": 102,
   "metadata": {
    "ExecuteTime": {
     "end_time": "2024-12-21T15:14:33.376382Z",
     "start_time": "2024-12-21T15:14:33.348936Z"
    }
   },
   "outputs": [
    {
     "name": "stdout",
     "output_type": "stream",
     "text": [
      "$params\n",
      "        a        b\n",
      "1 0.58303 1.334167\n",
      "\n"
     ]
    }
   ],
   "source": [
    "%%R\n",
    "# miscellaneous information\n",
    "ann.seu@reductions$umap@misc"
   ]
  },
  {
   "cell_type": "markdown",
   "metadata": {},
   "source": [
    "## sceasy"
   ]
  },
  {
   "cell_type": "markdown",
   "metadata": {},
   "source": [
    "**Retained information** (`AnnData -> SeuratObject`):\n",
    "\n",
    "   * count matrix: \n",
    "     - `slot = \"scale.data\"`: scaled data (`X -> scale.data`, **1838 x 2638**), raw count matrix (`raw.X -> data`, **13714 x 2638**), `NULL -> counts`\n",
    "     - `slot = \"data\"`: scaled count matrix (`X -> data`, 1838 x 2638), raw count matrix (`raw.X -> counts`, **1838 x 2638**), `NULL -> scale.data`\n",
    "     - `slot = \"counts\"`: scaled count matrix (`X -> counts`, 1838 x 2638), scaled count matrix (`X -> data`, 1838 x 2638), `NULL -> scale.data`\n",
    "   * cells' meta-information (`obs -> meta.data`)\n",
    "   * annotation of features (`var -> meta.features`), missing *dispersions, dispersions_norm, highly_variable, mean, means, std*\n",
    "   * dimensional reduction results (`obsm -> reductions`)"
   ]
  },
  {
   "cell_type": "code",
   "execution_count": 103,
   "metadata": {
    "ExecuteTime": {
     "end_time": "2024-12-21T15:14:34.348542Z",
     "start_time": "2024-12-21T15:14:33.378761Z"
    }
   },
   "outputs": [
    {
     "name": "stderr",
     "output_type": "stream",
     "text": [
      "R[write to console]: Warning:\n",
      "R[write to console]:  Feature names cannot have underscores ('_'), replacing with dashes ('-')\n",
      "\n",
      "R[write to console]: X -> scale.data; raw.X -> data\n",
      "\n"
     ]
    },
    {
     "name": "stdout",
     "output_type": "stream",
     "text": [
      "An object of class Seurat \n",
      "13714 features across 2638 samples within 1 assay \n",
      "Active assay: RNA (13714 features, 0 variable features)\n",
      " 2 dimensional reductions calculated: pca, umap\n"
     ]
    }
   ],
   "source": [
    "%%R\n",
    "# adata.raw is raw count matrix\n",
    "# slot = \"scale.data\": X -> scale.data (1838 x 2638), raw.X -> data (raw count matrix, 13714 x 2638), counts is empty\n",
    "# slot = \"data\": X -> data (scaled count matrix, 1838 x 2638), raw.X -> counts (raw count matrix, 1838 x 2638), scale.data is empty\n",
    "# slot = \"counts\": X -> counts (scaled count matrix, 1838 x 2638), data is scaled count matrix (1838 x 2638), scale.data is empty\n",
    "ann.sceasy = AD2Seu(anndata.file = \"./write/pbmc3k.h5ad\",\n",
    "                    method = \"sceasy\", assay=\"RNA\", slot = \"scale.data\")\n",
    "ann.sceasy"
   ]
  },
  {
   "cell_type": "code",
   "execution_count": 104,
   "metadata": {
    "ExecuteTime": {
     "end_time": "2024-12-21T15:14:34.368267Z",
     "start_time": "2024-12-21T15:14:34.352131Z"
    }
   },
   "outputs": [
    {
     "name": "stdout",
     "output_type": "stream",
     "text": [
      "<0 x 0 matrix>\n"
     ]
    }
   ],
   "source": [
    "%%R\n",
    "# counts is empty\n",
    "ann.sceasy@assays$RNA@counts"
   ]
  },
  {
   "cell_type": "code",
   "execution_count": 105,
   "metadata": {
    "ExecuteTime": {
     "end_time": "2024-12-21T15:14:34.579141Z",
     "start_time": "2024-12-21T15:14:34.370776Z"
    }
   },
   "outputs": [
    {
     "name": "stdout",
     "output_type": "stream",
     "text": [
      "10 x 15 sparse Matrix of class \"dgCMatrix\"\n"
     ]
    },
    {
     "name": "stderr",
     "output_type": "stream",
     "text": [
      "R[write to console]:   [[ suppressing 15 column names ‘AAACATACAACCAC-1’, ‘AAACATTGAGCTAC-1’, ‘AAACATTGATCAGC-1’ ... ]]\n",
      "\n"
     ]
    },
    {
     "name": "stdout",
     "output_type": "stream",
     "text": [
      "                                           \n",
      "AL627309.1    . . . . . . . . . . . . . . .\n",
      "AP006222.2    . . . . . . . . . . . . . . .\n",
      "RP11-206L10.2 . . . . . . . . . . . . . . .\n",
      "RP11-206L10.9 . . . . . . . . . . . . . . .\n",
      "LINC00115     . . . . . . . . . . . . . . .\n",
      "NOC2L         . . . . . . . . . . . 1 . . .\n",
      "KLHL17        . . . . . . . . . . . . . . .\n",
      "PLEKHN1       . . . . . . . . . . . . . . .\n",
      "RP11-54O7.17  . . . . . . . . . . . . . . .\n",
      "HES4          . . . . . . . . . . . . . . .\n"
     ]
    }
   ],
   "source": [
    "%%R\n",
    "# the data slot contains raw count matrix\n",
    "ann.sceasy@assays$RNA@data[1:10,1:15]"
   ]
  },
  {
   "cell_type": "code",
   "execution_count": 106,
   "metadata": {
    "ExecuteTime": {
     "end_time": "2024-12-21T15:14:34.617029Z",
     "start_time": "2024-12-21T15:14:34.581931Z"
    }
   },
   "outputs": [
    {
     "name": "stdout",
     "output_type": "stream",
     "text": [
      "[1] 13714  2638\n"
     ]
    }
   ],
   "source": [
    "%%R\n",
    "# shape\n",
    "dim(ann.sceasy@assays$RNA@data)"
   ]
  },
  {
   "cell_type": "code",
   "execution_count": 107,
   "metadata": {
    "ExecuteTime": {
     "end_time": "2024-12-21T15:14:34.809203Z",
     "start_time": "2024-12-21T15:14:34.620565Z"
    }
   },
   "outputs": [
    {
     "name": "stdout",
     "output_type": "stream",
     "text": [
      "         AAACATACAACCAC-1 AAACATTGAGCTAC-1 AAACATTGATCAGC-1 AAACCGTGCTTCCG-1\n",
      "TNFRSF4       -0.17146961      -0.21458235      -0.37688771      -0.28524107\n",
      "CPSF3L        -0.28081229      -0.37265328      -0.29508454      -0.28173482\n",
      "ATAD3C        -0.04667677      -0.05480441      -0.05752748      -0.05222671\n",
      "C1orf86       -0.47516865      -0.68339121      -0.52097195      -0.48492861\n",
      "RER1          -0.54402399       0.63395083       1.33264792       1.57267952\n",
      "TNFRSF25       4.92849684      -0.33483663      -0.30936241      -0.27182469\n",
      "TNFRSF9       -0.03802770      -0.04558870      -0.10310833      -0.07455204\n",
      "CTNNBIP1      -0.28057277      -0.49826378      -0.27252606      -0.25887546\n",
      "SRM           -0.34178808      -0.54191375      -0.50079864      -0.41675180\n",
      "UBIAD1        -0.19536127      -0.20901665      -0.22022836      -0.20847099\n"
     ]
    }
   ],
   "source": [
    "%%R\n",
    "# scaled count matrix\n",
    "ann.sceasy@assays$RNA@scale.data[1:10,1:4]"
   ]
  },
  {
   "cell_type": "code",
   "execution_count": 108,
   "metadata": {
    "ExecuteTime": {
     "end_time": "2024-12-21T15:14:34.831150Z",
     "start_time": "2024-12-21T15:14:34.812154Z"
    }
   },
   "outputs": [
    {
     "name": "stdout",
     "output_type": "stream",
     "text": [
      "[1] 1838 2638\n"
     ]
    }
   ],
   "source": [
    "%%R\n",
    "# shape\n",
    "dim(ann.sceasy@assays$RNA@scale.data)"
   ]
  },
  {
   "cell_type": "code",
   "execution_count": 109,
   "metadata": {
    "ExecuteTime": {
     "end_time": "2024-12-21T15:14:34.928134Z",
     "start_time": "2024-12-21T15:14:34.833283Z"
    }
   },
   "outputs": [
    {
     "name": "stdout",
     "output_type": "stream",
     "text": [
      "                 nFeaturess_RNA nFeaturess_RNA_by_counts total_counts\n",
      "AAACATACAACCAC-1            781                      779         2419\n",
      "AAACATTGAGCTAC-1           1352                     1352         4903\n",
      "AAACATTGATCAGC-1           1131                     1129         3147\n",
      "AAACCGTGCTTCCG-1            960                      960         2639\n",
      "AAACCGTGTATGCG-1            522                      521          980\n",
      "AAACGCACTGGTAC-1            782                      781         2163\n",
      "                 total_counts_mt pct_counts_mt leiden\n",
      "AAACATACAACCAC-1              73     3.0177760      0\n",
      "AAACATTGAGCTAC-1             186     3.7935958      2\n",
      "AAACATTGATCAGC-1              28     0.8897362      0\n",
      "AAACCGTGCTTCCG-1              46     1.7430845      4\n",
      "AAACCGTGTATGCG-1              12     1.2244898      5\n",
      "AAACGCACTGGTAC-1              36     1.6643550      0\n"
     ]
    }
   ],
   "source": [
    "%%R\n",
    "suppressMessages(library(tidyverse))\n",
    "# cell's meta-information\n",
    "ann.sceasy@meta.data %>% head()"
   ]
  },
  {
   "cell_type": "code",
   "execution_count": 110,
   "metadata": {
    "ExecuteTime": {
     "end_time": "2024-12-21T15:14:35.013557Z",
     "start_time": "2024-12-21T15:14:34.930754Z"
    }
   },
   "outputs": [
    {
     "name": "stdout",
     "output_type": "stream",
     "text": [
      "                     gene_ids n_cells    mt n_cells_by_counts mean_counts\n",
      "AL627309.1    ENSG00000237683       9 FALSE                 9 0.003333333\n",
      "AP006222.2    ENSG00000228463       3 FALSE                 3 0.001111111\n",
      "RP11-206L10.2 ENSG00000228327       5 FALSE                 5 0.001851852\n",
      "RP11-206L10.9 ENSG00000237491       3 FALSE                 3 0.001111111\n",
      "LINC00115     ENSG00000225880      18 FALSE                18 0.006666667\n",
      "NOC2L         ENSG00000188976     258 FALSE               258 0.106666669\n",
      "              pct_dropout_by_counts total_counts\n",
      "AL627309.1                 99.66667            9\n",
      "AP006222.2                 99.88889            3\n",
      "RP11-206L10.2              99.81481            5\n",
      "RP11-206L10.9              99.88889            3\n",
      "LINC00115                  99.33333           18\n",
      "NOC2L                      90.44444          288\n"
     ]
    }
   ],
   "source": [
    "%%R\n",
    "# annotation of features, missing dispersions, dispersions_norm, highly_variable, mean, means, std\n",
    "ann.sceasy@assays$RNA@meta.features %>% head()"
   ]
  },
  {
   "cell_type": "code",
   "execution_count": 111,
   "metadata": {
    "ExecuteTime": {
     "end_time": "2024-12-21T15:14:35.083025Z",
     "start_time": "2024-12-21T15:14:35.031606Z"
    }
   },
   "outputs": [
    {
     "name": "stdout",
     "output_type": "stream",
     "text": [
      "                      PC_1       PC_2       PC_3       PC_4        PC_5\n",
      "AAACATACAACCAC-1 -5.556221 -0.2577271  0.1867943 -2.8000970  0.05072495\n",
      "AAACATTGAGCTAC-1 -7.209527 -7.4820013 -0.1627175  8.0185165 -3.00661612\n",
      "AAACATTGATCAGC-1 -2.694437  1.5836617  0.6631235 -2.2056429  1.78901792\n",
      "AAACCGTGCTTCCG-1 10.143297  1.3685347 -1.2098237  0.7000697  2.90616465\n",
      "AAACCGTGTATGCG-1  1.112813  8.1527987 -1.3323525  4.2524910 -1.96318078\n"
     ]
    }
   ],
   "source": [
    "%%R\n",
    "# dimensional reduction results of pca\n",
    "ann.sceasy@reductions$pca@cell.embeddings[1:5, 1:5]"
   ]
  },
  {
   "cell_type": "code",
   "execution_count": 112,
   "metadata": {
    "ExecuteTime": {
     "end_time": "2024-12-21T15:14:35.145459Z",
     "start_time": "2024-12-21T15:14:35.093661Z"
    }
   },
   "outputs": [
    {
     "name": "stdout",
     "output_type": "stream",
     "text": [
      "                    UMAP_1     UMAP_2\n",
      "AAACATACAACCAC-1  7.906657  3.5560911\n",
      "AAACATTGAGCTAC-1  9.248348 12.5443316\n",
      "AAACATTGATCAGC-1  7.629986  3.8347855\n",
      "AAACCGTGCTTCCG-1  0.131578  5.5397391\n",
      "AAACCGTGTATGCG-1 10.055341 -0.6474292\n"
     ]
    }
   ],
   "source": [
    "%%R\n",
    "# dimensional reduction results of umap\n",
    "ann.sceasy@reductions$umap@cell.embeddings[1:5, 1:2]"
   ]
  },
  {
   "cell_type": "markdown",
   "metadata": {},
   "source": [
    "## scDIOR"
   ]
  },
  {
   "cell_type": "markdown",
   "metadata": {},
   "source": [
    "**Retained information** (`AnnData -> SeuratObject`):\n",
    "\n",
    "   * count matrix: scaled data (`X -> scale.data`), log-normalized data/raw count matrix (`raw.X -> data and counts`)\n",
    "   * cells' meta-information (`obs -> meta.data`)\n",
    "   * annotation of features (`var -> meta.features`), missing *dispersions, dispersions_norm, highly_variable, mean, means, std*\n",
    "   * dimensional reduction results (`obsm -> reductions`)\n",
    "   * relationship of cells, graphs (`obsp -> graphs`)\n",
    "   * additional assays (`layers -> assays`)"
   ]
  },
  {
   "cell_type": "code",
   "execution_count": 113,
   "metadata": {
    "ExecuteTime": {
     "end_time": "2024-12-21T15:14:42.163574Z",
     "start_time": "2024-12-21T15:14:35.151837Z"
    }
   },
   "outputs": [
    {
     "name": "stderr",
     "output_type": "stream",
     "text": [
      "R[write to console]: Warning:\n",
      "R[write to console]:  No columnames present in cell embeddings, setting to 'PCA_1:50'\n",
      "\n",
      "R[write to console]: Warning:\n",
      "R[write to console]:  No columnames present in cell embeddings, setting to 'UMAP_1:2'\n",
      "\n",
      "R[write to console]: Warning:\n",
      "R[write to console]:  Feature names cannot have underscores ('_'), replacing with dashes ('-')\n",
      "\n"
     ]
    },
    {
     "name": "stdout",
     "output_type": "stream",
     "text": [
      "An object of class Seurat \n",
      "17390 features across 2638 samples within 3 assays \n",
      "Active assay: RNA (13714 features, 0 variable features)\n",
      " 2 other assays present: logcounts, rawcounts\n",
      " 2 dimensional reductions calculated: pca, umap\n"
     ]
    }
   ],
   "source": [
    "%%R\n",
    "ann.scdior = AD2Seu(anndata.file = \"./write/pbmc3k.h5ad\",\n",
    "                    method = \"scDIOR\", assay=\"RNA\")\n",
    "ann.scdior"
   ]
  },
  {
   "cell_type": "code",
   "execution_count": 114,
   "metadata": {
    "ExecuteTime": {
     "end_time": "2024-12-21T15:14:42.227304Z",
     "start_time": "2024-12-21T15:14:42.165837Z"
    }
   },
   "outputs": [
    {
     "name": "stdout",
     "output_type": "stream",
     "text": [
      "$RNA\n",
      "Assay data with 13714 features for 2638 cells\n",
      "First 10 features:\n",
      " AL627309.1, AP006222.2, RP11-206L10.2, RP11-206L10.9, LINC00115, NOC2L,\n",
      "KLHL17, PLEKHN1, RP11-54O7.17, HES4 \n",
      "\n",
      "$logcounts\n",
      "Assay data with 1838 features for 2638 cells\n",
      "First 10 features:\n",
      " TNFRSF4, CPSF3L, ATAD3C, C1orf86, RER1, TNFRSF25, TNFRSF9, CTNNBIP1,\n",
      "SRM, UBIAD1 \n",
      "\n",
      "$rawcounts\n",
      "Assay data with 1838 features for 2638 cells\n",
      "First 10 features:\n",
      " TNFRSF4, CPSF3L, ATAD3C, C1orf86, RER1, TNFRSF25, TNFRSF9, CTNNBIP1,\n",
      "SRM, UBIAD1 \n",
      "\n"
     ]
    }
   ],
   "source": [
    "%%R\n",
    "# assays\n",
    "ann.scdior@assays"
   ]
  },
  {
   "cell_type": "code",
   "execution_count": 115,
   "metadata": {
    "ExecuteTime": {
     "end_time": "2024-12-21T15:14:42.391229Z",
     "start_time": "2024-12-21T15:14:42.229506Z"
    },
    "scrolled": true
   },
   "outputs": [
    {
     "name": "stdout",
     "output_type": "stream",
     "text": [
      "10 x 15 sparse Matrix of class \"dgCMatrix\"\n"
     ]
    },
    {
     "name": "stderr",
     "output_type": "stream",
     "text": [
      "R[write to console]:   [[ suppressing 15 column names ‘AAACATACAACCAC-1’, ‘AAACATTGAGCTAC-1’, ‘AAACATTGATCAGC-1’ ... ]]\n",
      "\n"
     ]
    },
    {
     "name": "stdout",
     "output_type": "stream",
     "text": [
      "                                           \n",
      "AL627309.1    . . . . . . . . . . . . . . .\n",
      "AP006222.2    . . . . . . . . . . . . . . .\n",
      "RP11-206L10.2 . . . . . . . . . . . . . . .\n",
      "RP11-206L10.9 . . . . . . . . . . . . . . .\n",
      "LINC00115     . . . . . . . . . . . . . . .\n",
      "NOC2L         . . . . . . . . . . . 1 . . .\n",
      "KLHL17        . . . . . . . . . . . . . . .\n",
      "PLEKHN1       . . . . . . . . . . . . . . .\n",
      "RP11-54O7.17  . . . . . . . . . . . . . . .\n",
      "HES4          . . . . . . . . . . . . . . .\n"
     ]
    }
   ],
   "source": [
    "%%R\n",
    "# raw count matrix\n",
    "ann.scdior@assays$RNA@counts[1:10,1:15]"
   ]
  },
  {
   "cell_type": "code",
   "execution_count": 116,
   "metadata": {
    "ExecuteTime": {
     "end_time": "2024-12-21T15:14:42.415103Z",
     "start_time": "2024-12-21T15:14:42.393295Z"
    }
   },
   "outputs": [
    {
     "name": "stdout",
     "output_type": "stream",
     "text": [
      "[1] 13714  2638\n"
     ]
    }
   ],
   "source": [
    "%%R\n",
    "# shape\n",
    "dim(ann.scdior@assays$RNA@counts)"
   ]
  },
  {
   "cell_type": "code",
   "execution_count": 117,
   "metadata": {
    "ExecuteTime": {
     "end_time": "2024-12-21T15:14:42.644117Z",
     "start_time": "2024-12-21T15:14:42.417466Z"
    }
   },
   "outputs": [
    {
     "name": "stdout",
     "output_type": "stream",
     "text": [
      "10 x 15 sparse Matrix of class \"dgCMatrix\"\n"
     ]
    },
    {
     "name": "stderr",
     "output_type": "stream",
     "text": [
      "R[write to console]:   [[ suppressing 15 column names ‘AAACATACAACCAC-1’, ‘AAACATTGAGCTAC-1’, ‘AAACATTGATCAGC-1’ ... ]]\n",
      "\n"
     ]
    },
    {
     "name": "stdout",
     "output_type": "stream",
     "text": [
      "                                           \n",
      "AL627309.1    . . . . . . . . . . . . . . .\n",
      "AP006222.2    . . . . . . . . . . . . . . .\n",
      "RP11-206L10.2 . . . . . . . . . . . . . . .\n",
      "RP11-206L10.9 . . . . . . . . . . . . . . .\n",
      "LINC00115     . . . . . . . . . . . . . . .\n",
      "NOC2L         . . . . . . . . . . . 1 . . .\n",
      "KLHL17        . . . . . . . . . . . . . . .\n",
      "PLEKHN1       . . . . . . . . . . . . . . .\n",
      "RP11-54O7.17  . . . . . . . . . . . . . . .\n",
      "HES4          . . . . . . . . . . . . . . .\n"
     ]
    }
   ],
   "source": [
    "%%R\n",
    "# the data slot contains raw count matrix\n",
    "ann.scdior@assays$RNA@data[1:10,1:15]"
   ]
  },
  {
   "cell_type": "code",
   "execution_count": 118,
   "metadata": {
    "ExecuteTime": {
     "end_time": "2024-12-21T15:14:42.675088Z",
     "start_time": "2024-12-21T15:14:42.648125Z"
    }
   },
   "outputs": [
    {
     "name": "stdout",
     "output_type": "stream",
     "text": [
      "[1] 13714  2638\n"
     ]
    }
   ],
   "source": [
    "%%R\n",
    "# shape\n",
    "dim(ann.scdior@assays$RNA@data)"
   ]
  },
  {
   "cell_type": "code",
   "execution_count": 119,
   "metadata": {
    "ExecuteTime": {
     "end_time": "2024-12-21T15:14:42.893112Z",
     "start_time": "2024-12-21T15:14:42.677960Z"
    }
   },
   "outputs": [
    {
     "name": "stdout",
     "output_type": "stream",
     "text": [
      "         AAACATACAACCAC-1 AAACATTGAGCTAC-1 AAACATTGATCAGC-1 AAACCGTGCTTCCG-1\n",
      "TNFRSF4       -0.17146961      -0.21458235      -0.37688771      -0.28524107\n",
      "CPSF3L        -0.28081229      -0.37265328      -0.29508454      -0.28173482\n",
      "ATAD3C        -0.04667677      -0.05480441      -0.05752748      -0.05222671\n",
      "C1orf86       -0.47516865      -0.68339121      -0.52097195      -0.48492861\n",
      "RER1          -0.54402399       0.63395083       1.33264792       1.57267952\n",
      "TNFRSF25       4.92849684      -0.33483663      -0.30936241      -0.27182469\n",
      "TNFRSF9       -0.03802770      -0.04558870      -0.10310833      -0.07455204\n",
      "CTNNBIP1      -0.28057277      -0.49826378      -0.27252606      -0.25887546\n",
      "SRM           -0.34178808      -0.54191375      -0.50079864      -0.41675180\n",
      "UBIAD1        -0.19536127      -0.20901665      -0.22022836      -0.20847099\n"
     ]
    }
   ],
   "source": [
    "%%R\n",
    "# scaled count matrix\n",
    "ann.scdior@assays$RNA@scale.data[1:10,1:4]"
   ]
  },
  {
   "cell_type": "code",
   "execution_count": 120,
   "metadata": {
    "ExecuteTime": {
     "end_time": "2024-12-21T15:14:42.916741Z",
     "start_time": "2024-12-21T15:14:42.895972Z"
    }
   },
   "outputs": [
    {
     "name": "stdout",
     "output_type": "stream",
     "text": [
      "[1] 1838 2638\n"
     ]
    }
   ],
   "source": [
    "%%R\n",
    "# shape\n",
    "dim(ann.scdior@assays$RNA@scale.data)"
   ]
  },
  {
   "cell_type": "code",
   "execution_count": 121,
   "metadata": {
    "ExecuteTime": {
     "end_time": "2024-12-21T15:14:42.991971Z",
     "start_time": "2024-12-21T15:14:42.920090Z"
    }
   },
   "outputs": [
    {
     "name": "stdout",
     "output_type": "stream",
     "text": [
      "                 n_genes n_genes_by_counts total_counts total_counts_mt\n",
      "AAACATACAACCAC-1     781               779         2419              73\n",
      "AAACATTGAGCTAC-1    1352              1352         4903             186\n",
      "AAACATTGATCAGC-1    1131              1129         3147              28\n",
      "AAACCGTGCTTCCG-1     960               960         2639              46\n",
      "AAACCGTGTATGCG-1     522               521          980              12\n",
      "AAACGCACTGGTAC-1     782               781         2163              36\n",
      "                 pct_counts_mt leiden\n",
      "AAACATACAACCAC-1     3.0177760      0\n",
      "AAACATTGAGCTAC-1     3.7935958      2\n",
      "AAACATTGATCAGC-1     0.8897362      0\n",
      "AAACCGTGCTTCCG-1     1.7430845      4\n",
      "AAACCGTGTATGCG-1     1.2244898      5\n",
      "AAACGCACTGGTAC-1     1.6643550      0\n"
     ]
    }
   ],
   "source": [
    "%%R\n",
    "suppressMessages(library(tidyverse))\n",
    "# cell's meta-information\n",
    "ann.scdior@meta.data %>% head()"
   ]
  },
  {
   "cell_type": "code",
   "execution_count": 122,
   "metadata": {
    "ExecuteTime": {
     "end_time": "2024-12-21T15:14:43.078140Z",
     "start_time": "2024-12-21T15:14:42.994869Z"
    }
   },
   "outputs": [
    {
     "name": "stdout",
     "output_type": "stream",
     "text": [
      "                     gene_ids n_cells    mt n_cells_by_counts mean_counts\n",
      "AL627309.1    ENSG00000237683       9 FALSE                 9 0.003333333\n",
      "AP006222.2    ENSG00000228463       3 FALSE                 3 0.001111111\n",
      "RP11-206L10.2 ENSG00000228327       5 FALSE                 5 0.001851852\n",
      "RP11-206L10.9 ENSG00000237491       3 FALSE                 3 0.001111111\n",
      "LINC00115     ENSG00000225880      18 FALSE                18 0.006666667\n",
      "NOC2L         ENSG00000188976     258 FALSE               258 0.106666669\n",
      "              pct_dropout_by_counts total_counts\n",
      "AL627309.1                 99.66667            9\n",
      "AP006222.2                 99.88889            3\n",
      "RP11-206L10.2              99.81481            5\n",
      "RP11-206L10.9              99.88889            3\n",
      "LINC00115                  99.33333           18\n",
      "NOC2L                      90.44444          288\n"
     ]
    }
   ],
   "source": [
    "%%R\n",
    "# annotation of features, missing dispersions, dispersions_norm, highly_variable, mean, means, std\n",
    "ann.scdior@assays$RNA@meta.features %>% head()"
   ]
  },
  {
   "cell_type": "code",
   "execution_count": 123,
   "metadata": {
    "ExecuteTime": {
     "end_time": "2024-12-21T15:14:43.132442Z",
     "start_time": "2024-12-21T15:14:43.080563Z"
    }
   },
   "outputs": [
    {
     "name": "stdout",
     "output_type": "stream",
     "text": [
      "                     PCA_1      PCA_2      PCA_3      PCA_4       PCA_5\n",
      "AAACATACAACCAC-1 -5.556221 -0.2577271  0.1867943 -2.8000970  0.05072495\n",
      "AAACATTGAGCTAC-1 -7.209527 -7.4820013 -0.1627175  8.0185165 -3.00661612\n",
      "AAACATTGATCAGC-1 -2.694437  1.5836617  0.6631235 -2.2056429  1.78901792\n",
      "AAACCGTGCTTCCG-1 10.143297  1.3685347 -1.2098237  0.7000697  2.90616465\n",
      "AAACCGTGTATGCG-1  1.112813  8.1527987 -1.3323525  4.2524910 -1.96318078\n"
     ]
    }
   ],
   "source": [
    "%%R\n",
    "# dimensional reduction results of pca\n",
    "ann.scdior@reductions$pca@cell.embeddings[1:5, 1:5]"
   ]
  },
  {
   "cell_type": "code",
   "execution_count": 124,
   "metadata": {
    "ExecuteTime": {
     "end_time": "2024-12-21T15:14:43.233150Z",
     "start_time": "2024-12-21T15:14:43.134838Z"
    }
   },
   "outputs": [
    {
     "name": "stdout",
     "output_type": "stream",
     "text": [
      "                    UMAP_1     UMAP_2\n",
      "AAACATACAACCAC-1  7.906657  3.5560911\n",
      "AAACATTGAGCTAC-1  9.248348 12.5443316\n",
      "AAACATTGATCAGC-1  7.629986  3.8347855\n",
      "AAACCGTGCTTCCG-1  0.131578  5.5397391\n",
      "AAACCGTGTATGCG-1 10.055341 -0.6474292\n"
     ]
    }
   ],
   "source": [
    "%%R\n",
    "# dimensional reduction results of umap\n",
    "ann.scdior@reductions$umap@cell.embeddings[1:5, 1:2]"
   ]
  },
  {
   "cell_type": "code",
   "execution_count": 125,
   "metadata": {
    "ExecuteTime": {
     "end_time": "2024-12-21T15:14:43.379225Z",
     "start_time": "2024-12-21T15:14:43.244924Z"
    }
   },
   "outputs": [
    {
     "name": "stdout",
     "output_type": "stream",
     "text": [
      "10 x 10 sparse Matrix of class \"dgCMatrix\"\n"
     ]
    },
    {
     "name": "stderr",
     "output_type": "stream",
     "text": [
      "R[write to console]:   [[ suppressing 10 column names ‘AAACATACAACCAC-1’, ‘AAACATTGAGCTAC-1’, ‘AAACATTGATCAGC-1’ ... ]]\n",
      "\n"
     ]
    },
    {
     "name": "stdout",
     "output_type": "stream",
     "text": [
      "                                    \n",
      "AAACATACAACCAC-1 . . . . . . . . . .\n",
      "AAACATTGAGCTAC-1 . . . . . . . . . .\n",
      "AAACATTGATCAGC-1 . . . . . . . . . .\n",
      "AAACCGTGCTTCCG-1 . . . . . . . . . .\n",
      "AAACCGTGTATGCG-1 . . . . . . . . . .\n",
      "AAACGCACTGGTAC-1 . . . . . . . . . .\n",
      "AAACGCTGACCAGT-1 . . . . . . . . . .\n",
      "AAACGCTGGTTCTT-1 . . . . . . . . . .\n",
      "AAACGCTGTAGCCA-1 . . . . . . . . . .\n",
      "AAACGCTGTTTCTG-1 . . . . . . . . . .\n"
     ]
    }
   ],
   "source": [
    "%%R\n",
    "# relationship of cells, graphs\n",
    "# RNA_nn\n",
    "ann.scdior@graphs$RNA_nn[1:10,1:10]"
   ]
  },
  {
   "cell_type": "code",
   "execution_count": 126,
   "metadata": {
    "ExecuteTime": {
     "end_time": "2024-12-21T15:14:43.522474Z",
     "start_time": "2024-12-21T15:14:43.381732Z"
    }
   },
   "outputs": [
    {
     "name": "stdout",
     "output_type": "stream",
     "text": [
      "10 x 10 sparse Matrix of class \"dgCMatrix\"\n"
     ]
    },
    {
     "name": "stderr",
     "output_type": "stream",
     "text": [
      "R[write to console]:   [[ suppressing 10 column names ‘AAACATACAACCAC-1’, ‘AAACATTGAGCTAC-1’, ‘AAACATTGATCAGC-1’ ... ]]\n",
      "\n"
     ]
    },
    {
     "name": "stdout",
     "output_type": "stream",
     "text": [
      "                                    \n",
      "AAACATACAACCAC-1 . . . . . . . . . .\n",
      "AAACATTGAGCTAC-1 . . . . . . . . . .\n",
      "AAACATTGATCAGC-1 . . . . . . . . . .\n",
      "AAACCGTGCTTCCG-1 . . . . . . . . . .\n",
      "AAACCGTGTATGCG-1 . . . . . . . . . .\n",
      "AAACGCACTGGTAC-1 . . . . . . . . . .\n",
      "AAACGCTGACCAGT-1 . . . . . . . . . .\n",
      "AAACGCTGGTTCTT-1 . . . . . . . . . .\n",
      "AAACGCTGTAGCCA-1 . . . . . . . . . .\n",
      "AAACGCTGTTTCTG-1 . . . . . . . . . .\n"
     ]
    }
   ],
   "source": [
    "%%R\n",
    "# relationship of cells, graphs\n",
    "# RNA_snn\n",
    "ann.scdior@graphs$RNA_snn[1:10,1:10]"
   ]
  },
  {
   "cell_type": "code",
   "execution_count": 127,
   "metadata": {
    "ExecuteTime": {
     "end_time": "2024-12-21T15:14:43.544438Z",
     "start_time": "2024-12-21T15:14:43.525476Z"
    }
   },
   "outputs": [
    {
     "name": "stdout",
     "output_type": "stream",
     "text": [
      "[1] 2638 2638\n"
     ]
    }
   ],
   "source": [
    "%%R\n",
    "dim(ann.scdior@graphs$RNA_snn)"
   ]
  },
  {
   "cell_type": "markdown",
   "metadata": {},
   "source": [
    "## schard"
   ]
  },
  {
   "cell_type": "markdown",
   "metadata": {},
   "source": [
    "**Retained information** (`AnnData -> SeuratObject`):\n",
    "\n",
    "   * count matrix: \n",
    "     - `use.raw = TRUE`: raw count matrix (`raw.X -> counts/data`, **13714 x 2638**), `NULL -> scale.data`\n",
    "     - `use.raw = FALSE`: scaled count matrix (`X -> data`, 1838 x 2638), `NULL -> scale.data and counts`\n",
    "   * cells' meta-information (`obs -> meta.data`)\n",
    "   * annotation of features (`var -> meta.features`), missing *dispersions, dispersions_norm, highly_variable, mean, means, std* when `use.raw = TRUE`\n",
    "   * dimensional reduction results (`obsm -> reductions`)"
   ]
  },
  {
   "cell_type": "code",
   "execution_count": 128,
   "metadata": {
    "ExecuteTime": {
     "end_time": "2024-12-21T15:14:44.441378Z",
     "start_time": "2024-12-21T15:14:43.546707Z"
    }
   },
   "outputs": [
    {
     "name": "stderr",
     "output_type": "stream",
     "text": [
      "R[write to console]: Warning:\n",
      "R[write to console]:  Keys should be one or more alphanumeric characters followed by an underscore, setting key from rna to rna_\n",
      "\n",
      "R[write to console]: Warning:\n",
      "R[write to console]:  Invalid name supplied, making object name syntactically valid. New object name is X_indexn_genesn_genes_by_countstotal_countstotal_counts_mtpct_counts_mtleiden; see ?make.names for more details on syntax validity\n",
      "\n"
     ]
    },
    {
     "name": "stdout",
     "output_type": "stream",
     "text": [
      "An object of class Seurat \n",
      "13714 features across 2638 samples within 1 assay \n",
      "Active assay: RNA (13714 features, 0 variable features)\n",
      " 2 dimensional reductions calculated: Xpca_, Xumap_\n"
     ]
    }
   ],
   "source": [
    "%%R\n",
    "# use.raw = TRUE: meta.features missing dispersions, dispersions_norm, highly_variable, mean, means, std\n",
    "ann.schard = AD2Seu(anndata.file = \"./write/pbmc3k.h5ad\",\n",
    "                    method = \"schard\", assay=\"RNA\", use.raw = TRUE)\n",
    "ann.schard"
   ]
  },
  {
   "cell_type": "code",
   "execution_count": 129,
   "metadata": {
    "ExecuteTime": {
     "end_time": "2024-12-21T15:14:44.816833Z",
     "start_time": "2024-12-21T15:14:44.443542Z"
    },
    "scrolled": true
   },
   "outputs": [
    {
     "name": "stdout",
     "output_type": "stream",
     "text": [
      "10 x 15 sparse Matrix of class \"dgCMatrix\"\n"
     ]
    },
    {
     "name": "stderr",
     "output_type": "stream",
     "text": [
      "R[write to console]:   [[ suppressing 15 column names ‘AAACATACAACCAC-1’, ‘AAACATTGAGCTAC-1’, ‘AAACATTGATCAGC-1’ ... ]]\n",
      "\n"
     ]
    },
    {
     "name": "stdout",
     "output_type": "stream",
     "text": [
      "                                           \n",
      "AL627309.1    . . . . . . . . . . . . . . .\n",
      "AP006222.2    . . . . . . . . . . . . . . .\n",
      "RP11-206L10.2 . . . . . . . . . . . . . . .\n",
      "RP11-206L10.9 . . . . . . . . . . . . . . .\n",
      "LINC00115     . . . . . . . . . . . . . . .\n",
      "NOC2L         . . . . . . . . . . . 1 . . .\n",
      "KLHL17        . . . . . . . . . . . . . . .\n",
      "PLEKHN1       . . . . . . . . . . . . . . .\n",
      "RP11-54O7.17  . . . . . . . . . . . . . . .\n",
      "HES4          . . . . . . . . . . . . . . .\n"
     ]
    }
   ],
   "source": [
    "%%R\n",
    "# raw count matrix\n",
    "ann.schard@assays$RNA@counts[1:10,1:15]"
   ]
  },
  {
   "cell_type": "code",
   "execution_count": 130,
   "metadata": {
    "ExecuteTime": {
     "end_time": "2024-12-21T15:14:44.840694Z",
     "start_time": "2024-12-21T15:14:44.820060Z"
    }
   },
   "outputs": [
    {
     "name": "stdout",
     "output_type": "stream",
     "text": [
      "[1] 13714  2638\n"
     ]
    }
   ],
   "source": [
    "%%R\n",
    "# shape\n",
    "dim(ann.schard@assays$RNA@counts)"
   ]
  },
  {
   "cell_type": "code",
   "execution_count": 131,
   "metadata": {
    "ExecuteTime": {
     "end_time": "2024-12-21T15:14:45.128792Z",
     "start_time": "2024-12-21T15:14:44.843625Z"
    }
   },
   "outputs": [
    {
     "name": "stdout",
     "output_type": "stream",
     "text": [
      "10 x 15 sparse Matrix of class \"dgCMatrix\"\n"
     ]
    },
    {
     "name": "stderr",
     "output_type": "stream",
     "text": [
      "R[write to console]:   [[ suppressing 15 column names ‘AAACATACAACCAC-1’, ‘AAACATTGAGCTAC-1’, ‘AAACATTGATCAGC-1’ ... ]]\n",
      "\n"
     ]
    },
    {
     "name": "stdout",
     "output_type": "stream",
     "text": [
      "                                           \n",
      "AL627309.1    . . . . . . . . . . . . . . .\n",
      "AP006222.2    . . . . . . . . . . . . . . .\n",
      "RP11-206L10.2 . . . . . . . . . . . . . . .\n",
      "RP11-206L10.9 . . . . . . . . . . . . . . .\n",
      "LINC00115     . . . . . . . . . . . . . . .\n",
      "NOC2L         . . . . . . . . . . . 1 . . .\n",
      "KLHL17        . . . . . . . . . . . . . . .\n",
      "PLEKHN1       . . . . . . . . . . . . . . .\n",
      "RP11-54O7.17  . . . . . . . . . . . . . . .\n",
      "HES4          . . . . . . . . . . . . . . .\n"
     ]
    }
   ],
   "source": [
    "%%R\n",
    "# the data slot contains raw count matrix\n",
    "ann.schard@assays$RNA@data[1:10,1:15]"
   ]
  },
  {
   "cell_type": "code",
   "execution_count": 132,
   "metadata": {
    "ExecuteTime": {
     "end_time": "2024-12-21T15:14:45.173346Z",
     "start_time": "2024-12-21T15:14:45.131593Z"
    }
   },
   "outputs": [
    {
     "name": "stdout",
     "output_type": "stream",
     "text": [
      "[1] 13714  2638\n"
     ]
    }
   ],
   "source": [
    "%%R\n",
    "# shape\n",
    "dim(ann.schard@assays$RNA@data)"
   ]
  },
  {
   "cell_type": "code",
   "execution_count": 133,
   "metadata": {
    "ExecuteTime": {
     "end_time": "2024-12-21T15:14:45.217753Z",
     "start_time": "2024-12-21T15:14:45.179729Z"
    }
   },
   "outputs": [
    {
     "name": "stdout",
     "output_type": "stream",
     "text": [
      "<0 x 0 matrix>\n"
     ]
    }
   ],
   "source": [
    "%%R\n",
    "# scaled count matrix is empty\n",
    "ann.schard@assays$RNA@scale.data"
   ]
  },
  {
   "cell_type": "code",
   "execution_count": 134,
   "metadata": {
    "ExecuteTime": {
     "end_time": "2024-12-21T15:14:45.656125Z",
     "start_time": "2024-12-21T15:14:45.225541Z"
    }
   },
   "outputs": [
    {
     "name": "stdout",
     "output_type": "stream",
     "text": [
      "                    orig.ident nCount_RNA nFeature_RNA          X_index n_genes\n",
      "AAACATACAACCAC-1 SeuratProject       2419          779 AAACATACAACCAC-1     781\n",
      "AAACATTGAGCTAC-1 SeuratProject       4903         1352 AAACATTGAGCTAC-1    1352\n",
      "AAACATTGATCAGC-1 SeuratProject       3147         1129 AAACATTGATCAGC-1    1131\n",
      "AAACCGTGCTTCCG-1 SeuratProject       2639          960 AAACCGTGCTTCCG-1     960\n",
      "AAACCGTGTATGCG-1 SeuratProject        980          521 AAACCGTGTATGCG-1     522\n",
      "AAACGCACTGGTAC-1 SeuratProject       2163          781 AAACGCACTGGTAC-1     782\n",
      "                 n_genes_by_counts total_counts total_counts_mt pct_counts_mt\n",
      "AAACATACAACCAC-1               779         2419              73     3.0177760\n",
      "AAACATTGAGCTAC-1              1352         4903             186     3.7935958\n",
      "AAACATTGATCAGC-1              1129         3147              28     0.8897362\n",
      "AAACCGTGCTTCCG-1               960         2639              46     1.7430845\n",
      "AAACCGTGTATGCG-1               521          980              12     1.2244898\n",
      "AAACGCACTGGTAC-1               781         2163              36     1.6643550\n",
      "                 leiden\n",
      "AAACATACAACCAC-1      0\n",
      "AAACATTGAGCTAC-1      2\n",
      "AAACATTGATCAGC-1      0\n",
      "AAACCGTGCTTCCG-1      4\n",
      "AAACCGTGTATGCG-1      5\n",
      "AAACGCACTGGTAC-1      0\n"
     ]
    }
   ],
   "source": [
    "%%R\n",
    "suppressMessages(library(tidyverse))\n",
    "# cell's meta-information\n",
    "ann.schard@meta.data %>% head()"
   ]
  },
  {
   "cell_type": "code",
   "execution_count": 135,
   "metadata": {
    "ExecuteTime": {
     "end_time": "2024-12-21T15:14:45.772310Z",
     "start_time": "2024-12-21T15:14:45.660107Z"
    }
   },
   "outputs": [
    {
     "name": "stdout",
     "output_type": "stream",
     "text": [
      "                     _index        gene_ids n_cells    mt n_cells_by_counts\n",
      "AL627309.1       AL627309.1 ENSG00000237683       9 FALSE                 9\n",
      "AP006222.2       AP006222.2 ENSG00000228463       3 FALSE                 3\n",
      "RP11-206L10.2 RP11-206L10.2 ENSG00000228327       5 FALSE                 5\n",
      "RP11-206L10.9 RP11-206L10.9 ENSG00000237491       3 FALSE                 3\n",
      "LINC00115         LINC00115 ENSG00000225880      18 FALSE                18\n",
      "NOC2L                 NOC2L ENSG00000188976     258 FALSE               258\n",
      "              mean_counts pct_dropout_by_counts total_counts\n",
      "AL627309.1    0.003333333              99.66667            9\n",
      "AP006222.2    0.001111111              99.88889            3\n",
      "RP11-206L10.2 0.001851852              99.81481            5\n",
      "RP11-206L10.9 0.001111111              99.88889            3\n",
      "LINC00115     0.006666667              99.33333           18\n",
      "NOC2L         0.106666669              90.44444          288\n"
     ]
    }
   ],
   "source": [
    "%%R\n",
    "# annotation of features, missing dispersions, dispersions_norm, highly_variable, mean, means, std (use.raw = TRUE)\n",
    "ann.schard@assays$RNA@meta.features %>% head()"
   ]
  },
  {
   "cell_type": "code",
   "execution_count": 136,
   "metadata": {
    "ExecuteTime": {
     "end_time": "2024-12-21T15:14:45.950739Z",
     "start_time": "2024-12-21T15:14:45.776391Z"
    }
   },
   "outputs": [
    {
     "name": "stdout",
     "output_type": "stream",
     "text": [
      "                    Xpca_1     Xpca_2     Xpca_3     Xpca_4      Xpca_5\n",
      "AAACATACAACCAC-1 -5.556221 -0.2577271  0.1867943 -2.8000970  0.05072495\n",
      "AAACATTGAGCTAC-1 -7.209527 -7.4820013 -0.1627175  8.0185165 -3.00661612\n",
      "AAACATTGATCAGC-1 -2.694437  1.5836617  0.6631235 -2.2056429  1.78901792\n",
      "AAACCGTGCTTCCG-1 10.143297  1.3685347 -1.2098237  0.7000697  2.90616465\n",
      "AAACCGTGTATGCG-1  1.112813  8.1527987 -1.3323525  4.2524910 -1.96318078\n"
     ]
    }
   ],
   "source": [
    "%%R\n",
    "# dimensional reduction results of pca\n",
    "ann.schard@reductions$Xpca_@cell.embeddings[1:5, 1:5]"
   ]
  },
  {
   "cell_type": "code",
   "execution_count": 137,
   "metadata": {
    "ExecuteTime": {
     "end_time": "2024-12-21T15:14:45.987227Z",
     "start_time": "2024-12-21T15:14:45.954526Z"
    }
   },
   "outputs": [
    {
     "name": "stdout",
     "output_type": "stream",
     "text": [
      "                   Xumap_1    Xumap_2\n",
      "AAACATACAACCAC-1  7.906657  3.5560911\n",
      "AAACATTGAGCTAC-1  9.248348 12.5443316\n",
      "AAACATTGATCAGC-1  7.629986  3.8347855\n",
      "AAACCGTGCTTCCG-1  0.131578  5.5397391\n",
      "AAACCGTGTATGCG-1 10.055341 -0.6474292\n"
     ]
    }
   ],
   "source": [
    "%%R\n",
    "# dimensional reduction results of umap\n",
    "ann.schard@reductions$Xumap_@cell.embeddings[1:5, 1:2]"
   ]
  },
  {
   "cell_type": "markdown",
   "metadata": {},
   "source": [
    "## SeuratDisk + scDIOR"
   ]
  },
  {
   "cell_type": "markdown",
   "metadata": {},
   "source": [
    "**Retained information** (`AnnData -> SeuratObject`):\n",
    "\n",
    "   * count matrix: scaled data (`X -> scale.data`), log-normalized data/raw count matrix (`raw.X -> data/counts`)\n",
    "   * cells' meta-information (`obs -> meta.data`)\n",
    "   * annotation of features (`var -> meta.features`)\n",
    "   * dimensional reduction results (`obsm -> reductions`)\n",
    "   * feature loadings (`varm -> reductions`)\n",
    "   * unstructured annotation (`uns -> misc`)\n",
    "   * relationship of cells, graphs (`obsp -> graphs`) (`scDIOR`)\n",
    "   * additional assays (`layers -> assays`) (`scDIOR`)"
   ]
  },
  {
   "cell_type": "code",
   "execution_count": 138,
   "metadata": {
    "ExecuteTime": {
     "end_time": "2024-12-21T15:15:04.484752Z",
     "start_time": "2024-12-21T15:14:45.990764Z"
    },
    "scrolled": true
   },
   "outputs": [
    {
     "name": "stderr",
     "output_type": "stream",
     "text": [
      "R[write to console]: Warning:\n",
      "R[write to console]:  Unknown file type: h5ad\n",
      "\n",
      "R[write to console]: Creating h5Seurat file for version 3.1.5.9900\n",
      "\n",
      "R[write to console]: Adding X as scale.data\n",
      "\n",
      "R[write to console]: Adding raw/X as data\n",
      "\n",
      "R[write to console]: Adding raw/X as counts\n",
      "\n",
      "R[write to console]: Adding meta.features from raw/var\n",
      "\n",
      "R[write to console]: Adding dispersions from scaled feature-level metadata\n",
      "\n",
      "R[write to console]: Adding dispersions_norm from scaled feature-level metadata\n",
      "\n",
      "R[write to console]: Merging gene_ids from scaled feature-level metadata\n",
      "\n",
      "R[write to console]: Adding highly_variable from scaled feature-level metadata\n",
      "\n",
      "R[write to console]: Adding mean from scaled feature-level metadata\n",
      "\n",
      "R[write to console]: Merging mean_counts from scaled feature-level metadata\n",
      "\n",
      "R[write to console]: Adding means from scaled feature-level metadata\n",
      "\n",
      "R[write to console]: Merging mt from scaled feature-level metadata\n",
      "\n",
      "R[write to console]: Merging n_cells from scaled feature-level metadata\n",
      "\n",
      "R[write to console]: Merging n_cells_by_counts from scaled feature-level metadata\n",
      "\n",
      "R[write to console]: Merging pct_dropout_by_counts from scaled feature-level metadata\n",
      "\n",
      "R[write to console]: Adding std from scaled feature-level metadata\n",
      "\n",
      "R[write to console]: Merging total_counts from scaled feature-level metadata\n",
      "\n",
      "R[write to console]: Adding X_pca as cell embeddings for pca\n",
      "\n",
      "R[write to console]: Adding X_umap as cell embeddings for umap\n",
      "\n",
      "R[write to console]: Adding PCs as feature loadings fpr pca\n",
      "\n",
      "R[write to console]: Adding miscellaneous information for pca\n",
      "\n",
      "R[write to console]: Adding standard deviations for pca\n",
      "\n",
      "R[write to console]: Adding miscellaneous information for umap\n",
      "\n",
      "R[write to console]: Adding hvg to miscellaneous data\n",
      "\n",
      "R[write to console]: Adding leiden to miscellaneous data\n",
      "\n",
      "R[write to console]: Adding log1p to miscellaneous data\n",
      "\n",
      "R[write to console]: Adding rank_genes_groups to miscellaneous data\n",
      "\n",
      "R[write to console]: Adding layer logcounts as data in assay logcounts\n",
      "\n",
      "R[write to console]: Adding layer rawcounts as data in assay rawcounts\n",
      "\n",
      "R[write to console]: Validating h5Seurat file\n",
      "\n",
      "R[write to console]: Warning:\n",
      "R[write to console]:  Feature names cannot have underscores ('_'), replacing with dashes ('-')\n",
      "\n",
      "R[write to console]: Initializing RNA with data\n",
      "\n",
      "R[write to console]: Adding counts for RNA\n",
      "\n",
      "R[write to console]: Adding scale.data for RNA\n",
      "\n",
      "R[write to console]: Adding feature-level metadata for RNA\n",
      "\n",
      "R[write to console]: Adding reduction pca\n",
      "\n",
      "R[write to console]: Adding cell embeddings for pca\n",
      "\n",
      "R[write to console]: Adding feature loadings for pca\n",
      "\n",
      "R[write to console]: Adding miscellaneous information for pca\n",
      "\n",
      "R[write to console]: Adding reduction umap\n",
      "\n",
      "R[write to console]: Adding cell embeddings for umap\n",
      "\n",
      "R[write to console]: Adding miscellaneous information for umap\n",
      "\n",
      "R[write to console]: Adding command information\n",
      "\n",
      "R[write to console]: Adding cell-level metadata\n",
      "\n",
      "R[write to console]: Warning:\n",
      "R[write to console]:  No columnames present in cell embeddings, setting to 'PCA_1:50'\n",
      "\n",
      "R[write to console]: Warning:\n",
      "R[write to console]:  No columnames present in cell embeddings, setting to 'UMAP_1:2'\n",
      "\n",
      "R[write to console]: Warning:\n",
      "R[write to console]:  Feature names cannot have underscores ('_'), replacing with dashes ('-')\n",
      "\n"
     ]
    },
    {
     "name": "stdout",
     "output_type": "stream",
     "text": [
      "An object of class Seurat \n",
      "17390 features across 2638 samples within 3 assays \n",
      "Active assay: RNA (13714 features, 0 variable features)\n",
      " 2 other assays present: logcounts, rawcounts\n",
      " 2 dimensional reductions calculated: pca, umap\n"
     ]
    }
   ],
   "source": [
    "%%R\n",
    "# add graphs and additional assays from scDIOR to SeuratDisk\n",
    "ann.seuscdior = AD2Seu(anndata.file = \"./write/pbmc3k.h5ad\",\n",
    "                       method = \"SeuratDisk+scDIOR\", assay=\"RNA\", load.assays = c(\"RNA\"))\n",
    "ann.seuscdior"
   ]
  },
  {
   "cell_type": "code",
   "execution_count": 139,
   "metadata": {
    "ExecuteTime": {
     "end_time": "2024-12-21T15:15:04.583809Z",
     "start_time": "2024-12-21T15:15:04.488371Z"
    }
   },
   "outputs": [
    {
     "name": "stdout",
     "output_type": "stream",
     "text": [
      "$RNA\n",
      "Assay data with 13714 features for 2638 cells\n",
      "First 10 features:\n",
      " AL627309.1, AP006222.2, RP11-206L10.2, RP11-206L10.9, LINC00115, NOC2L,\n",
      "KLHL17, PLEKHN1, RP11-54O7.17, HES4 \n",
      "\n",
      "$logcounts\n",
      "Assay data with 1838 features for 2638 cells\n",
      "First 10 features:\n",
      " TNFRSF4, CPSF3L, ATAD3C, C1orf86, RER1, TNFRSF25, TNFRSF9, CTNNBIP1,\n",
      "SRM, UBIAD1 \n",
      "\n",
      "$rawcounts\n",
      "Assay data with 1838 features for 2638 cells\n",
      "First 10 features:\n",
      " TNFRSF4, CPSF3L, ATAD3C, C1orf86, RER1, TNFRSF25, TNFRSF9, CTNNBIP1,\n",
      "SRM, UBIAD1 \n",
      "\n"
     ]
    }
   ],
   "source": [
    "%%R\n",
    "# assays\n",
    "ann.seuscdior@assays"
   ]
  },
  {
   "cell_type": "code",
   "execution_count": 140,
   "metadata": {
    "ExecuteTime": {
     "end_time": "2024-12-21T15:15:04.953553Z",
     "start_time": "2024-12-21T15:15:04.587858Z"
    }
   },
   "outputs": [
    {
     "name": "stdout",
     "output_type": "stream",
     "text": [
      "10 x 15 sparse Matrix of class \"dgCMatrix\"\n"
     ]
    },
    {
     "name": "stderr",
     "output_type": "stream",
     "text": [
      "R[write to console]:   [[ suppressing 15 column names ‘AAACATACAACCAC-1’, ‘AAACATTGAGCTAC-1’, ‘AAACATTGATCAGC-1’ ... ]]\n",
      "\n"
     ]
    },
    {
     "name": "stdout",
     "output_type": "stream",
     "text": [
      "                                           \n",
      "AL627309.1    . . . . . . . . . . . . . . .\n",
      "AP006222.2    . . . . . . . . . . . . . . .\n",
      "RP11-206L10.2 . . . . . . . . . . . . . . .\n",
      "RP11-206L10.9 . . . . . . . . . . . . . . .\n",
      "LINC00115     . . . . . . . . . . . . . . .\n",
      "NOC2L         . . . . . . . . . . . 1 . . .\n",
      "KLHL17        . . . . . . . . . . . . . . .\n",
      "PLEKHN1       . . . . . . . . . . . . . . .\n",
      "RP11-54O7.17  . . . . . . . . . . . . . . .\n",
      "HES4          . . . . . . . . . . . . . . .\n"
     ]
    }
   ],
   "source": [
    "%%R\n",
    "# raw count matrix\n",
    "ann.seuscdior@assays$RNA@counts[1:10,1:15]"
   ]
  },
  {
   "cell_type": "code",
   "execution_count": 141,
   "metadata": {
    "ExecuteTime": {
     "end_time": "2024-12-21T15:15:04.985980Z",
     "start_time": "2024-12-21T15:15:04.957098Z"
    },
    "scrolled": true
   },
   "outputs": [
    {
     "name": "stdout",
     "output_type": "stream",
     "text": [
      "[1] 13714  2638\n"
     ]
    }
   ],
   "source": [
    "%%R\n",
    "# shape\n",
    "dim(ann.seuscdior@assays$RNA@counts)"
   ]
  },
  {
   "cell_type": "code",
   "execution_count": 142,
   "metadata": {
    "ExecuteTime": {
     "end_time": "2024-12-21T15:15:05.433158Z",
     "start_time": "2024-12-21T15:15:04.988840Z"
    }
   },
   "outputs": [
    {
     "name": "stdout",
     "output_type": "stream",
     "text": [
      "10 x 15 sparse Matrix of class \"dgCMatrix\"\n"
     ]
    },
    {
     "name": "stderr",
     "output_type": "stream",
     "text": [
      "R[write to console]:   [[ suppressing 15 column names ‘AAACATACAACCAC-1’, ‘AAACATTGAGCTAC-1’, ‘AAACATTGATCAGC-1’ ... ]]\n",
      "\n"
     ]
    },
    {
     "name": "stdout",
     "output_type": "stream",
     "text": [
      "                                           \n",
      "AL627309.1    . . . . . . . . . . . . . . .\n",
      "AP006222.2    . . . . . . . . . . . . . . .\n",
      "RP11-206L10.2 . . . . . . . . . . . . . . .\n",
      "RP11-206L10.9 . . . . . . . . . . . . . . .\n",
      "LINC00115     . . . . . . . . . . . . . . .\n",
      "NOC2L         . . . . . . . . . . . 1 . . .\n",
      "KLHL17        . . . . . . . . . . . . . . .\n",
      "PLEKHN1       . . . . . . . . . . . . . . .\n",
      "RP11-54O7.17  . . . . . . . . . . . . . . .\n",
      "HES4          . . . . . . . . . . . . . . .\n"
     ]
    }
   ],
   "source": [
    "%%R\n",
    "# the data slot contains raw count matrix\n",
    "ann.seuscdior@assays$RNA@data[1:10,1:15]"
   ]
  },
  {
   "cell_type": "code",
   "execution_count": 143,
   "metadata": {
    "ExecuteTime": {
     "end_time": "2024-12-21T15:15:05.462307Z",
     "start_time": "2024-12-21T15:15:05.436605Z"
    }
   },
   "outputs": [
    {
     "name": "stdout",
     "output_type": "stream",
     "text": [
      "[1] 13714  2638\n"
     ]
    }
   ],
   "source": [
    "%%R\n",
    "# shape\n",
    "dim(ann.seuscdior@assays$RNA@data)"
   ]
  },
  {
   "cell_type": "code",
   "execution_count": 144,
   "metadata": {
    "ExecuteTime": {
     "end_time": "2024-12-21T15:15:05.683114Z",
     "start_time": "2024-12-21T15:15:05.464965Z"
    }
   },
   "outputs": [
    {
     "name": "stdout",
     "output_type": "stream",
     "text": [
      "         AAACATACAACCAC-1 AAACATTGAGCTAC-1 AAACATTGATCAGC-1 AAACCGTGCTTCCG-1\n",
      "TNFRSF4       -0.17146961      -0.21458235      -0.37688771      -0.28524107\n",
      "CPSF3L        -0.28081229      -0.37265328      -0.29508454      -0.28173482\n",
      "ATAD3C        -0.04667677      -0.05480441      -0.05752748      -0.05222671\n",
      "C1orf86       -0.47516865      -0.68339121      -0.52097195      -0.48492861\n",
      "RER1          -0.54402399       0.63395083       1.33264792       1.57267952\n",
      "TNFRSF25       4.92849684      -0.33483663      -0.30936241      -0.27182469\n",
      "TNFRSF9       -0.03802770      -0.04558870      -0.10310833      -0.07455204\n",
      "CTNNBIP1      -0.28057277      -0.49826378      -0.27252606      -0.25887546\n",
      "SRM           -0.34178808      -0.54191375      -0.50079864      -0.41675180\n",
      "UBIAD1        -0.19536127      -0.20901665      -0.22022836      -0.20847099\n"
     ]
    }
   ],
   "source": [
    "%%R\n",
    "# scaled count matrix\n",
    "ann.seuscdior@assays$RNA@scale.data[1:10,1:4]"
   ]
  },
  {
   "cell_type": "code",
   "execution_count": 145,
   "metadata": {
    "ExecuteTime": {
     "end_time": "2024-12-21T15:15:05.712988Z",
     "start_time": "2024-12-21T15:15:05.685924Z"
    }
   },
   "outputs": [
    {
     "name": "stdout",
     "output_type": "stream",
     "text": [
      "[1] 1838 2638\n"
     ]
    }
   ],
   "source": [
    "%%R\n",
    "# shape\n",
    "dim(ann.seuscdior@assays$RNA@scale.data)"
   ]
  },
  {
   "cell_type": "code",
   "execution_count": 146,
   "metadata": {
    "ExecuteTime": {
     "end_time": "2024-12-21T15:15:05.826410Z",
     "start_time": "2024-12-21T15:15:05.715790Z"
    }
   },
   "outputs": [
    {
     "name": "stdout",
     "output_type": "stream",
     "text": [
      "                 n_genes n_genes_by_counts total_counts total_counts_mt\n",
      "AAACATACAACCAC-1     781               779         2419              73\n",
      "AAACATTGAGCTAC-1    1352              1352         4903             186\n",
      "AAACATTGATCAGC-1    1131              1129         3147              28\n",
      "AAACCGTGCTTCCG-1     960               960         2639              46\n",
      "AAACCGTGTATGCG-1     522               521          980              12\n",
      "AAACGCACTGGTAC-1     782               781         2163              36\n",
      "                 pct_counts_mt leiden nCount_logcounts nFeature_logcounts\n",
      "AAACATACAACCAC-1     3.0177760      0         255.1598                141\n",
      "AAACATTGAGCTAC-1     3.7935958      2         350.1350                249\n",
      "AAACATTGATCAGC-1     0.8897362      0         324.0653                200\n",
      "AAACCGTGCTTCCG-1     1.7430845      4         361.0839                187\n",
      "AAACCGTGTATGCG-1     1.2244898      5         246.8949                 91\n",
      "AAACGCACTGGTAC-1     1.6643550      0         281.6889                140\n",
      "                 nCount_rawcounts nFeature_rawcounts\n",
      "AAACATACAACCAC-1              216                141\n",
      "AAACATTGAGCTAC-1              503                249\n",
      "AAACATTGATCAGC-1              289                200\n",
      "AAACCGTGCTTCCG-1              403                187\n",
      "AAACCGTGTATGCG-1              202                 91\n",
      "AAACGCACTGGTAC-1              273                140\n"
     ]
    }
   ],
   "source": [
    "%%R\n",
    "suppressMessages(library(tidyverse))\n",
    "# cell's meta-information\n",
    "ann.seuscdior@meta.data %>% head()"
   ]
  },
  {
   "cell_type": "code",
   "execution_count": 147,
   "metadata": {
    "ExecuteTime": {
     "end_time": "2024-12-21T15:15:06.040518Z",
     "start_time": "2024-12-21T15:15:05.829726Z"
    }
   },
   "outputs": [
    {
     "name": "stdout",
     "output_type": "stream",
     "text": [
      "                     gene_ids n_cells    mt n_cells_by_counts mean_counts\n",
      "AL627309.1    ENSG00000237683       9 FALSE                 9 0.003333333\n",
      "AP006222.2    ENSG00000228463       3 FALSE                 3 0.001111111\n",
      "RP11-206L10.2 ENSG00000228327       5 FALSE                 5 0.001851852\n",
      "RP11-206L10.9 ENSG00000237491       3 FALSE                 3 0.001111111\n",
      "LINC00115     ENSG00000225880      18 FALSE                18 0.006666667\n",
      "NOC2L         ENSG00000188976     258 FALSE               258 0.106666669\n",
      "              pct_dropout_by_counts total_counts dispersions dispersions_norm\n",
      "AL627309.1                 99.66667            9           0                0\n",
      "AP006222.2                 99.88889            3           0                0\n",
      "RP11-206L10.2              99.81481            5           0                0\n",
      "RP11-206L10.9              99.88889            3           0                0\n",
      "LINC00115                  99.33333           18           0                0\n",
      "NOC2L                      90.44444          288           0                0\n",
      "              highly_variable mean means std\n",
      "AL627309.1              FALSE    0     0   0\n",
      "AP006222.2              FALSE    0     0   0\n",
      "RP11-206L10.2           FALSE    0     0   0\n",
      "RP11-206L10.9           FALSE    0     0   0\n",
      "LINC00115               FALSE    0     0   0\n",
      "NOC2L                   FALSE    0     0   0\n"
     ]
    }
   ],
   "source": [
    "%%R\n",
    "# annotation of features\n",
    "ann.seuscdior@assays$RNA@meta.features %>% head()"
   ]
  },
  {
   "cell_type": "code",
   "execution_count": 148,
   "metadata": {
    "ExecuteTime": {
     "end_time": "2024-12-21T15:15:06.110570Z",
     "start_time": "2024-12-21T15:15:06.046117Z"
    }
   },
   "outputs": [
    {
     "name": "stdout",
     "output_type": "stream",
     "text": [
      "                      PC_1       PC_2       PC_3       PC_4        PC_5\n",
      "AAACATACAACCAC-1 -5.556221 -0.2577271  0.1867943 -2.8000970  0.05072495\n",
      "AAACATTGAGCTAC-1 -7.209527 -7.4820013 -0.1627175  8.0185165 -3.00661612\n",
      "AAACATTGATCAGC-1 -2.694437  1.5836617  0.6631235 -2.2056429  1.78901792\n",
      "AAACCGTGCTTCCG-1 10.143297  1.3685347 -1.2098237  0.7000697  2.90616465\n",
      "AAACCGTGTATGCG-1  1.112813  8.1527987 -1.3323525  4.2524910 -1.96318078\n"
     ]
    }
   ],
   "source": [
    "%%R\n",
    "# dimensional reduction results of pca\n",
    "ann.seuscdior@reductions$pca@cell.embeddings[1:5, 1:5]"
   ]
  },
  {
   "cell_type": "code",
   "execution_count": 149,
   "metadata": {
    "ExecuteTime": {
     "end_time": "2024-12-21T15:15:06.176554Z",
     "start_time": "2024-12-21T15:15:06.113562Z"
    }
   },
   "outputs": [
    {
     "name": "stdout",
     "output_type": "stream",
     "text": [
      "                PC_1         PC_2          PC_3         PC_4          PC_5\n",
      "TNFRSF4 -0.026014818  0.003254168  0.0018978898 -0.036262553  0.0167816579\n",
      "CPSF3L  -0.008278225  0.009083163 -0.0007814111  0.008882667 -0.0063649304\n",
      "ATAD3C  -0.003315187  0.003209684  0.0002798587 -0.001740866 -0.0003630426\n",
      "C1orf86  0.010650732 -0.000268140 -0.0070081116  0.002366116 -0.0038789101\n",
      "RER1     0.013711839  0.027387908 -0.0107853832  0.006192871  0.0182563197\n"
     ]
    }
   ],
   "source": [
    "%%R\n",
    "# pca feature loadings\n",
    "ann.seuscdior@reductions$pca@feature.loadings[1:5, 1:5]"
   ]
  },
  {
   "cell_type": "code",
   "execution_count": 150,
   "metadata": {
    "ExecuteTime": {
     "end_time": "2024-12-21T15:15:06.232994Z",
     "start_time": "2024-12-21T15:15:06.179597Z"
    }
   },
   "outputs": [
    {
     "name": "stdout",
     "output_type": "stream",
     "text": [
      "                    umap_1     umap_2\n",
      "AAACATACAACCAC-1  7.906657  3.5560911\n",
      "AAACATTGAGCTAC-1  9.248348 12.5443316\n",
      "AAACATTGATCAGC-1  7.629986  3.8347855\n",
      "AAACCGTGCTTCCG-1  0.131578  5.5397391\n",
      "AAACCGTGTATGCG-1 10.055341 -0.6474292\n"
     ]
    }
   ],
   "source": [
    "%%R\n",
    "# dimensional reduction results of umap\n",
    "ann.seuscdior@reductions$umap@cell.embeddings[1:5, 1:2]"
   ]
  },
  {
   "cell_type": "code",
   "execution_count": 151,
   "metadata": {
    "ExecuteTime": {
     "end_time": "2024-12-21T15:15:06.481481Z",
     "start_time": "2024-12-21T15:15:06.236249Z"
    }
   },
   "outputs": [
    {
     "name": "stdout",
     "output_type": "stream",
     "text": [
      "$params\n",
      "  use_highly_variable zero_center\n",
      "1                TRUE        TRUE\n",
      "\n",
      "$variance\n",
      " [1] 32.110455 18.718655 15.607329 13.235289  4.802269  3.985932  3.526233\n",
      " [8]  3.233445  3.121209  3.075261  2.998075  2.959521  2.951785  2.944248\n",
      "[15]  2.913872  2.899030  2.880682  2.864685  2.843064  2.835751  2.831421\n",
      "[22]  2.818236  2.803552  2.799987  2.788954  2.778101  2.770577  2.760221\n",
      "[29]  2.753860  2.745955  2.737186  2.734127  2.722202  2.712311  2.702478\n",
      "[36]  2.700047  2.683850  2.679051  2.676908  2.673995  2.664854  2.657311\n",
      "[43]  2.651177  2.641776  2.632970  2.629520  2.624529  2.618376  2.618003\n",
      "[50]  2.601866\n",
      "\n",
      "$variance_ratio\n",
      " [1] 0.020128191 0.011733645 0.009783334 0.008296438 0.003010265 0.002498551\n",
      " [7] 0.002210392 0.002026860 0.001956505 0.001927704 0.001879320 0.001855153\n",
      "[13] 0.001850304 0.001845579 0.001826538 0.001817235 0.001805733 0.001795706\n",
      "[19] 0.001782152 0.001777568 0.001774855 0.001766590 0.001757385 0.001755151\n",
      "[25] 0.001748234 0.001741431 0.001736715 0.001730223 0.001726236 0.001721281\n",
      "[31] 0.001715784 0.001713866 0.001706391 0.001700191 0.001694027 0.001692504\n",
      "[37] 0.001682351 0.001679342 0.001677999 0.001676173 0.001670443 0.001665715\n",
      "[43] 0.001661870 0.001655977 0.001650457 0.001648294 0.001645166 0.001641309\n",
      "[49] 0.001641075 0.001630959\n",
      "\n"
     ]
    }
   ],
   "source": [
    "%%R\n",
    "# miscellaneous information\n",
    "ann.seuscdior@reductions$pca@misc"
   ]
  },
  {
   "cell_type": "code",
   "execution_count": 152,
   "metadata": {
    "ExecuteTime": {
     "end_time": "2024-12-21T15:15:06.512697Z",
     "start_time": "2024-12-21T15:15:06.485251Z"
    }
   },
   "outputs": [
    {
     "name": "stdout",
     "output_type": "stream",
     "text": [
      "$params\n",
      "        a        b\n",
      "1 0.58303 1.334167\n",
      "\n"
     ]
    }
   ],
   "source": [
    "%%R\n",
    "# miscellaneous information\n",
    "ann.seuscdior@reductions$umap@misc"
   ]
  },
  {
   "cell_type": "code",
   "execution_count": 153,
   "metadata": {
    "ExecuteTime": {
     "end_time": "2024-12-21T15:15:06.864238Z",
     "start_time": "2024-12-21T15:15:06.515395Z"
    }
   },
   "outputs": [
    {
     "name": "stdout",
     "output_type": "stream",
     "text": [
      "10 x 10 sparse Matrix of class \"dgCMatrix\"\n"
     ]
    },
    {
     "name": "stderr",
     "output_type": "stream",
     "text": [
      "R[write to console]:   [[ suppressing 10 column names ‘AAACATACAACCAC-1’, ‘AAACATTGAGCTAC-1’, ‘AAACATTGATCAGC-1’ ... ]]\n",
      "\n"
     ]
    },
    {
     "name": "stdout",
     "output_type": "stream",
     "text": [
      "                                    \n",
      "AAACATACAACCAC-1 . . . . . . . . . .\n",
      "AAACATTGAGCTAC-1 . . . . . . . . . .\n",
      "AAACATTGATCAGC-1 . . . . . . . . . .\n",
      "AAACCGTGCTTCCG-1 . . . . . . . . . .\n",
      "AAACCGTGTATGCG-1 . . . . . . . . . .\n",
      "AAACGCACTGGTAC-1 . . . . . . . . . .\n",
      "AAACGCTGACCAGT-1 . . . . . . . . . .\n",
      "AAACGCTGGTTCTT-1 . . . . . . . . . .\n",
      "AAACGCTGTAGCCA-1 . . . . . . . . . .\n",
      "AAACGCTGTTTCTG-1 . . . . . . . . . .\n"
     ]
    }
   ],
   "source": [
    "%%R\n",
    "# relationship of cells, graphs\n",
    "# RNA_nn\n",
    "ann.seuscdior@graphs$RNA_nn[1:10,1:10]"
   ]
  },
  {
   "cell_type": "code",
   "execution_count": 154,
   "metadata": {
    "ExecuteTime": {
     "end_time": "2024-12-21T15:15:07.329596Z",
     "start_time": "2024-12-21T15:15:06.867381Z"
    }
   },
   "outputs": [
    {
     "name": "stdout",
     "output_type": "stream",
     "text": [
      "10 x 10 sparse Matrix of class \"dgCMatrix\"\n"
     ]
    },
    {
     "name": "stderr",
     "output_type": "stream",
     "text": [
      "R[write to console]:   [[ suppressing 10 column names ‘AAACATACAACCAC-1’, ‘AAACATTGAGCTAC-1’, ‘AAACATTGATCAGC-1’ ... ]]\n",
      "\n"
     ]
    },
    {
     "name": "stdout",
     "output_type": "stream",
     "text": [
      "                                    \n",
      "AAACATACAACCAC-1 . . . . . . . . . .\n",
      "AAACATTGAGCTAC-1 . . . . . . . . . .\n",
      "AAACATTGATCAGC-1 . . . . . . . . . .\n",
      "AAACCGTGCTTCCG-1 . . . . . . . . . .\n",
      "AAACCGTGTATGCG-1 . . . . . . . . . .\n",
      "AAACGCACTGGTAC-1 . . . . . . . . . .\n",
      "AAACGCTGACCAGT-1 . . . . . . . . . .\n",
      "AAACGCTGGTTCTT-1 . . . . . . . . . .\n",
      "AAACGCTGTAGCCA-1 . . . . . . . . . .\n",
      "AAACGCTGTTTCTG-1 . . . . . . . . . .\n"
     ]
    }
   ],
   "source": [
    "%%R\n",
    "# relationship of cells, graphs\n",
    "# RNA_snn\n",
    "ann.seuscdior@graphs$RNA_snn[1:10,1:10]"
   ]
  },
  {
   "cell_type": "code",
   "execution_count": 155,
   "metadata": {
    "ExecuteTime": {
     "end_time": "2024-12-21T15:15:07.359238Z",
     "start_time": "2024-12-21T15:15:07.332699Z"
    }
   },
   "outputs": [
    {
     "name": "stdout",
     "output_type": "stream",
     "text": [
      "[1] 2638 2638\n"
     ]
    }
   ],
   "source": [
    "%%R\n",
    "dim(ann.seuscdior@graphs$RNA_snn)"
   ]
  },
  {
   "cell_type": "markdown",
   "metadata": {},
   "source": [
    "# AnnData to SingleCellExperiemnt"
   ]
  },
  {
   "cell_type": "code",
   "execution_count": 156,
   "metadata": {
    "ExecuteTime": {
     "end_time": "2024-12-21T15:15:07.388875Z",
     "start_time": "2024-12-21T15:15:07.379203Z"
    }
   },
   "outputs": [],
   "source": [
    "%%R\n",
    "# convert AnnData to SingleCellExperiemnt (use current conda environment)\n",
    "# now integrated into GEfetch2R\n",
    "AD2SCE = function(anndata.file, method = c(\"scDIOR\", \"zellkonverter\", \"schard\"), assay = \"RNA\",\n",
    "                  slot = \"counts\", use.raw = TRUE){\n",
    "  # check parameters\n",
    "  method <- match.arg(arg = method)\n",
    "\n",
    "  # check file\n",
    "  if(!file.exists(anndata.file)){\n",
    "    stop(anndata.file, \" does not exist, please check!\")\n",
    "  }\n",
    "  # conversion\n",
    "  if(method == \"scDIOR\"){\n",
    "    sce = tryCatch(\n",
    "      {\n",
    "        if(use.raw){\n",
    "          anndata <- reticulate::import(\"anndata\")\n",
    "          adata = anndata$read_h5ad(anndata.file)\n",
    "          diopy = reticulate::import(\"diopy\")\n",
    "          h5.file = gsub(pattern = \".h5ad$\", replacement = \"_tmp.h5\", x = anndata.file)\n",
    "          diopy$output$write_h5(adata = adata$raw$to_adata(), file=h5.file, assay_name=assay, save_X = TRUE)\n",
    "          dior::read_h5(file = h5.file, target.object = \"singlecellexperiment\")\n",
    "        }else{\n",
    "          dior::read_h5ad(file = anndata.file, assay_name = assay, target.object = \"singlecellexperiment\")\n",
    "        }\n",
    "      },\n",
    "      error = function(cond) {\n",
    "        message(\"There is an error when using scDIOR: \", cond)\n",
    "      }\n",
    "    )\n",
    "  }else if(method == \"zellkonverter\"){\n",
    "    sce = tryCatch(\n",
    "      {\n",
    "        anndata <- reticulate::import(\"anndata\")\n",
    "        adata <- anndata$read_h5ad(anndata.file)\n",
    "        zellkonverter::AnnData2SCE(adata, X_name = slot, raw = use.raw)\n",
    "      },\n",
    "      error = function(cond) {\n",
    "        message(\"There is an error when using zellkonverter: \", cond)\n",
    "      }\n",
    "    )\n",
    "  }else if(method == \"schard\"){\n",
    "    sce = tryCatch(\n",
    "      {\n",
    "        schard::h5ad2sce(anndata.file, use.raw = use.raw)\n",
    "      },\n",
    "      error = function(cond) {\n",
    "        message(\"There is an error when using schard: \", cond)\n",
    "      }\n",
    "    )\n",
    "  }\n",
    "}"
   ]
  },
  {
   "cell_type": "markdown",
   "metadata": {},
   "source": [
    "## scDIOR"
   ]
  },
  {
   "cell_type": "markdown",
   "metadata": {},
   "source": [
    "**Retained information** (`AnnData -> SingleCellExperiemnt`):\n",
    "\n",
    "   * count matrix: \n",
    "     - `use.raw = TRUE`: raw count matrix (`raw.X -> assays`)\n",
    "     - `use.raw = FALSE`: scaled count matrix (`X/layers -> assays`)\n",
    "   * cells' meta-information (`obs -> colData`)\n",
    "   * annotation of features (`var -> rowData`), missing dispersions, dispersions_norm, highly_variable, mean, means, std when `use.raw = TRUE`\n",
    "   * dimensional reduction results (`obsm -> reducedDim`)"
   ]
  },
  {
   "cell_type": "code",
   "execution_count": 157,
   "metadata": {
    "ExecuteTime": {
     "end_time": "2024-12-21T15:15:09.797164Z",
     "start_time": "2024-12-21T15:15:07.397796Z"
    }
   },
   "outputs": [
    {
     "name": "stdout",
     "output_type": "stream",
     "text": [
      "class: SingleCellExperiment \n",
      "dim: 13714 2638 \n",
      "metadata(0):\n",
      "assays(1): X\n",
      "rownames(13714): AL627309.1 AP006222.2 ... PNRC2-1 SRSF10-1\n",
      "rowData names(7): gene_ids n_cells ... pct_dropout_by_counts\n",
      "  total_counts\n",
      "colnames(2638): AAACATACAACCAC-1 AAACATTGAGCTAC-1 ... TTTGCATGAGAGGC-1\n",
      "  TTTGCATGCCTCAC-1\n",
      "colData names(6): n_genes n_genes_by_counts ... pct_counts_mt leiden\n",
      "reducedDimNames(2): pca umap\n",
      "altExpNames(0):\n"
     ]
    }
   ],
   "source": [
    "%%R\n",
    "# use.raw = TRUE: no layers, rowData missing columns, raw count matrix\n",
    "# use.raw = FALSE, layers, full rowData columns, scaled count matrix\n",
    "sce.scdior = AD2SCE(anndata.file = \"./write/pbmc3k.h5ad\",\n",
    "                    method = \"scDIOR\", assay = \"RNA\", use.raw = TRUE)\n",
    "sce.scdior"
   ]
  },
  {
   "cell_type": "code",
   "execution_count": 158,
   "metadata": {
    "ExecuteTime": {
     "end_time": "2024-12-21T15:15:10.362228Z",
     "start_time": "2024-12-21T15:15:09.802439Z"
    },
    "scrolled": true
   },
   "outputs": [
    {
     "name": "stdout",
     "output_type": "stream",
     "text": [
      "10 x 15 sparse Matrix of class \"dgCMatrix\"\n"
     ]
    },
    {
     "name": "stderr",
     "output_type": "stream",
     "text": [
      "R[write to console]:   [[ suppressing 15 column names ‘AAACATACAACCAC-1’, ‘AAACATTGAGCTAC-1’, ‘AAACATTGATCAGC-1’ ... ]]\n",
      "\n"
     ]
    },
    {
     "name": "stdout",
     "output_type": "stream",
     "text": [
      "                                           \n",
      "AL627309.1    . . . . . . . . . . . . . . .\n",
      "AP006222.2    . . . . . . . . . . . . . . .\n",
      "RP11-206L10.2 . . . . . . . . . . . . . . .\n",
      "RP11-206L10.9 . . . . . . . . . . . . . . .\n",
      "LINC00115     . . . . . . . . . . . . . . .\n",
      "NOC2L         . . . . . . . . . . . 1 . . .\n",
      "KLHL17        . . . . . . . . . . . . . . .\n",
      "PLEKHN1       . . . . . . . . . . . . . . .\n",
      "RP11-54O7.17  . . . . . . . . . . . . . . .\n",
      "HES4          . . . . . . . . . . . . . . .\n"
     ]
    }
   ],
   "source": [
    "%%R\n",
    "suppressMessages(library(SingleCellExperiment))\n",
    "assay(sce.scdior, \"X\")[1:10, 1:15]"
   ]
  },
  {
   "cell_type": "code",
   "execution_count": 159,
   "metadata": {
    "ExecuteTime": {
     "end_time": "2024-12-21T15:15:10.410515Z",
     "start_time": "2024-12-21T15:15:10.364899Z"
    }
   },
   "outputs": [
    {
     "name": "stdout",
     "output_type": "stream",
     "text": [
      "[1] 13714  2638\n"
     ]
    }
   ],
   "source": [
    "%%R\n",
    "# shape\n",
    "dim(assay(sce.scdior, \"X\"))"
   ]
  },
  {
   "cell_type": "code",
   "execution_count": 160,
   "metadata": {
    "ExecuteTime": {
     "end_time": "2024-12-21T15:15:10.666370Z",
     "start_time": "2024-12-21T15:15:10.413118Z"
    }
   },
   "outputs": [
    {
     "name": "stdout",
     "output_type": "stream",
     "text": [
      "DataFrame with 6 rows and 6 columns\n",
      "                   n_genes n_genes_by_counts total_counts total_counts_mt\n",
      "                 <integer>         <integer>    <numeric>       <numeric>\n",
      "AAACATACAACCAC-1       781               779         2419              73\n",
      "AAACATTGAGCTAC-1      1352              1352         4903             186\n",
      "AAACATTGATCAGC-1      1131              1129         3147              28\n",
      "AAACCGTGCTTCCG-1       960               960         2639              46\n",
      "AAACCGTGTATGCG-1       522               521          980              12\n",
      "AAACGCACTGGTAC-1       782               781         2163              36\n",
      "                 pct_counts_mt   leiden\n",
      "                     <numeric> <factor>\n",
      "AAACATACAACCAC-1      3.017776        0\n",
      "AAACATTGAGCTAC-1      3.793596        2\n",
      "AAACATTGATCAGC-1      0.889736        0\n",
      "AAACCGTGCTTCCG-1      1.743085        4\n",
      "AAACCGTGTATGCG-1      1.224490        5\n",
      "AAACGCACTGGTAC-1      1.664355        0\n"
     ]
    }
   ],
   "source": [
    "%%R\n",
    "suppressMessages(library(tidyverse))\n",
    "# cells' meta-information\n",
    "colData(sce.scdior) %>% head()"
   ]
  },
  {
   "cell_type": "code",
   "execution_count": 161,
   "metadata": {
    "ExecuteTime": {
     "end_time": "2024-12-21T15:15:10.830862Z",
     "start_time": "2024-12-21T15:15:10.673690Z"
    }
   },
   "outputs": [
    {
     "name": "stdout",
     "output_type": "stream",
     "text": [
      "DataFrame with 6 rows and 7 columns\n",
      "                     gene_ids   n_cells        mt n_cells_by_counts mean_counts\n",
      "                  <character> <integer> <logical>         <integer>   <numeric>\n",
      "AL627309.1    ENSG00000237683         9     FALSE                 9  0.00333333\n",
      "AP006222.2    ENSG00000228463         3     FALSE                 3  0.00111111\n",
      "RP11-206L10.2 ENSG00000228327         5     FALSE                 5  0.00185185\n",
      "RP11-206L10.9 ENSG00000237491         3     FALSE                 3  0.00111111\n",
      "LINC00115     ENSG00000225880        18     FALSE                18  0.00666667\n",
      "NOC2L         ENSG00000188976       258     FALSE               258  0.10666667\n",
      "              pct_dropout_by_counts total_counts\n",
      "                          <numeric>    <numeric>\n",
      "AL627309.1                  99.6667            9\n",
      "AP006222.2                  99.8889            3\n",
      "RP11-206L10.2               99.8148            5\n",
      "RP11-206L10.9               99.8889            3\n",
      "LINC00115                   99.3333           18\n",
      "NOC2L                       90.4444          288\n"
     ]
    }
   ],
   "source": [
    "%%R\n",
    "# annotation of features, missing dispersions, dispersions_norm, highly_variable, mean, means, std when use.raw = TRUE\n",
    "rowData(sce.scdior) %>% head()"
   ]
  },
  {
   "cell_type": "code",
   "execution_count": 162,
   "metadata": {
    "ExecuteTime": {
     "end_time": "2024-12-21T15:15:10.928354Z",
     "start_time": "2024-12-21T15:15:10.833237Z"
    }
   },
   "outputs": [
    {
     "name": "stdout",
     "output_type": "stream",
     "text": [
      "                     PCA_1      PCA_2      PCA_3      PCA_4       PCA_5\n",
      "AAACATACAACCAC-1 -5.556221 -0.2577271  0.1867943 -2.8000970  0.05072495\n",
      "AAACATTGAGCTAC-1 -7.209527 -7.4820013 -0.1627175  8.0185165 -3.00661612\n",
      "AAACATTGATCAGC-1 -2.694437  1.5836617  0.6631235 -2.2056429  1.78901792\n",
      "AAACCGTGCTTCCG-1 10.143297  1.3685347 -1.2098237  0.7000697  2.90616465\n",
      "AAACCGTGTATGCG-1  1.112813  8.1527987 -1.3323525  4.2524910 -1.96318078\n"
     ]
    }
   ],
   "source": [
    "%%R\n",
    "# dimensional reduction results of pca\n",
    "reducedDim(sce.scdior, \"pca\")[1:5, 1:5]"
   ]
  },
  {
   "cell_type": "code",
   "execution_count": 163,
   "metadata": {
    "ExecuteTime": {
     "end_time": "2024-12-21T15:15:11.013200Z",
     "start_time": "2024-12-21T15:15:10.930876Z"
    }
   },
   "outputs": [
    {
     "name": "stdout",
     "output_type": "stream",
     "text": [
      "                    UMAP_1     UMAP_2\n",
      "AAACATACAACCAC-1  7.906657  3.5560911\n",
      "AAACATTGAGCTAC-1  9.248348 12.5443316\n",
      "AAACATTGATCAGC-1  7.629986  3.8347855\n",
      "AAACCGTGCTTCCG-1  0.131578  5.5397391\n",
      "AAACCGTGTATGCG-1 10.055341 -0.6474292\n"
     ]
    }
   ],
   "source": [
    "%%R\n",
    "# dimensional reduction results of umap\n",
    "reducedDim(sce.scdior, \"umap\")[1:5, 1:2]"
   ]
  },
  {
   "cell_type": "markdown",
   "metadata": {},
   "source": [
    "## zellkonverter"
   ]
  },
  {
   "cell_type": "markdown",
   "metadata": {},
   "source": [
    "**Retained information** (`AnnData -> SingleCellExperiemnt`):\n",
    "\n",
    "   * count matrix: \n",
    "     - `use.raw = TRUE`: full raw count matrix (`raw.X -> altExp`, **13714 x 2638**); raw count matrix, log-normalized count matrix, scaled count matrix (`X and layers -> assays`, **1838 x 2638**)\n",
    "     - `use.raw = FALSE`: raw count matrix, log-normalized count matrix, scaled count matrix (`X and layers -> assays`, **1838 x 2638**)\n",
    "   * cells' meta-information (`obs -> colData`)\n",
    "   * annotation of features (`var -> rowData`)\n",
    "   * dimensional reduction results (`obsm -> reducedDim`)\n",
    "   * feature loadings (`varm -> rowData`)\n",
    "   * unstructured annotation (`uns -> metadata`)\n",
    "   * relationship of cells, graphs (`obsp -> colPairs`)"
   ]
  },
  {
   "cell_type": "code",
   "execution_count": 164,
   "metadata": {
    "ExecuteTime": {
     "end_time": "2024-12-21T15:15:12.980306Z",
     "start_time": "2024-12-21T15:15:11.015933Z"
    }
   },
   "outputs": [
    {
     "name": "stderr",
     "output_type": "stream",
     "text": [
      "R[write to console]: Registered S3 method overwritten by 'zellkonverter':\n",
      "  method                                             from      \n",
      "  py_to_r.pandas.core.arrays.categorical.Categorical reticulate\n",
      "\n"
     ]
    },
    {
     "name": "stdout",
     "output_type": "stream",
     "text": [
      "class: SingleCellExperiment \n",
      "dim: 1838 2638 \n",
      "metadata(7): hvg leiden ... rank_genes_groups umap\n",
      "assays(3): scale.data logcounts rawcounts\n",
      "rownames(1838): TNFRSF4 CPSF3L ... S100B PRMT2\n",
      "rowData names(14): gene_ids n_cells ... std varm\n",
      "colnames(2638): AAACATACAACCAC-1 AAACATTGAGCTAC-1 ... TTTGCATGAGAGGC-1\n",
      "  TTTGCATGCCTCAC-1\n",
      "colData names(6): n_genes n_genes_by_counts ... pct_counts_mt leiden\n",
      "reducedDimNames(2): X_pca X_umap\n",
      "altExpNames(1): raw\n"
     ]
    }
   ],
   "source": [
    "%%R\n",
    "sce.zell = AD2SCE(anndata.file = \"./write/pbmc3k.h5ad\",\n",
    "                  method = \"zellkonverter\", slot = \"scale.data\", use.raw = TRUE)\n",
    "sce.zell"
   ]
  },
  {
   "cell_type": "code",
   "execution_count": 165,
   "metadata": {
    "ExecuteTime": {
     "end_time": "2024-12-21T15:15:13.165961Z",
     "start_time": "2024-12-21T15:15:12.982426Z"
    },
    "scrolled": true
   },
   "outputs": [
    {
     "name": "stdout",
     "output_type": "stream",
     "text": [
      "10 x 15 sparse Matrix of class \"dgCMatrix\"\n"
     ]
    },
    {
     "name": "stderr",
     "output_type": "stream",
     "text": [
      "R[write to console]:   [[ suppressing 15 column names ‘AAACATACAACCAC-1’, ‘AAACATTGAGCTAC-1’, ‘AAACATTGATCAGC-1’ ... ]]\n",
      "\n"
     ]
    },
    {
     "name": "stdout",
     "output_type": "stream",
     "text": [
      "                                      \n",
      "TNFRSF4  . . . . . . . . 1 . . . . . .\n",
      "CPSF3L   . . . . . . . . . . 1 . . . .\n",
      "ATAD3C   . . . . . . . . . . . . . . .\n",
      "C1orf86  . . . . . . . . 1 . . . . . .\n",
      "RER1     . 1 1 1 . . . . . . . 1 . 1 .\n",
      "TNFRSF25 2 . . . . . . 1 . . . . . . .\n",
      "TNFRSF9  . . . . . . . . . . . . . . .\n",
      "CTNNBIP1 . . . . 1 . . . . . . . 1 . .\n",
      "SRM      . . . . . . 1 . . . . . . . .\n",
      "UBIAD1   . . . . . . . . . . . . . . .\n"
     ]
    }
   ],
   "source": [
    "%%R\n",
    "suppressMessages(library(SingleCellExperiment))\n",
    "# raw count matrix (layers: rawcounts)\n",
    "assay(sce.zell, \"rawcounts\")[1:10, 1:15]"
   ]
  },
  {
   "cell_type": "code",
   "execution_count": 166,
   "metadata": {
    "ExecuteTime": {
     "end_time": "2024-12-21T15:15:13.204651Z",
     "start_time": "2024-12-21T15:15:13.168189Z"
    }
   },
   "outputs": [
    {
     "name": "stdout",
     "output_type": "stream",
     "text": [
      "[1] 1838 2638\n"
     ]
    }
   ],
   "source": [
    "%%R\n",
    "# shape\n",
    "dim(assay(sce.zell, \"rawcounts\"))"
   ]
  },
  {
   "cell_type": "code",
   "execution_count": 167,
   "metadata": {
    "ExecuteTime": {
     "end_time": "2024-12-21T15:15:13.509282Z",
     "start_time": "2024-12-21T15:15:13.208633Z"
    },
    "scrolled": false
   },
   "outputs": [
    {
     "name": "stdout",
     "output_type": "stream",
     "text": [
      "10 x 15 sparse Matrix of class \"dgCMatrix\"\n"
     ]
    },
    {
     "name": "stderr",
     "output_type": "stream",
     "text": [
      "R[write to console]:   [[ suppressing 15 column names ‘AAACATACAACCAC-1’, ‘AAACATTGAGCTAC-1’, ‘AAACATTGATCAGC-1’ ... ]]\n",
      "\n"
     ]
    },
    {
     "name": "stdout",
     "output_type": "stream",
     "text": [
      "                                                                         \n",
      "TNFRSF4  .        .        .        .        .        . .        .       \n",
      "CPSF3L   .        .        .        .        .        . .        .       \n",
      "ATAD3C   .        .        .        .        .        . .        .       \n",
      "C1orf86  .        .        .        .        .        . .        .       \n",
      "RER1     .        1.111715 1.429744 1.566387 .        . .        .       \n",
      "TNFRSF25 2.226555 .        .        .        .        . .        1.690977\n",
      "TNFRSF9  .        .        .        .        .        . .        .       \n",
      "CTNNBIP1 .        .        .        .        2.416278 . .        .       \n",
      "SRM      .        .        .        .        .        . 1.722356 .       \n",
      "UBIAD1   .        .        .        .        .        . .        .       \n",
      "                                                         \n",
      "TNFRSF4  2.179642 . .        .        .        .        .\n",
      "CPSF3L   .        . 1.268336 .        .        .        .\n",
      "ATAD3C   .        . .        .        .        .        .\n",
      "C1orf86  2.179642 . .        .        .        .        .\n",
      "RER1     .        . .        1.646272 .        1.457932 .\n",
      "TNFRSF25 .        . .        .        .        .        .\n",
      "TNFRSF9  .        . .        .        .        .        .\n",
      "CTNNBIP1 .        . .        .        1.638876 .        .\n",
      "SRM      .        . .        .        .        .        .\n",
      "UBIAD1   .        . .        .        .        .        .\n"
     ]
    }
   ],
   "source": [
    "%%R\n",
    "# log-normalized count matrix (layers: logcounts)\n",
    "assay(sce.zell, \"logcounts\")[1:10, 1:15]"
   ]
  },
  {
   "cell_type": "code",
   "execution_count": 168,
   "metadata": {
    "ExecuteTime": {
     "end_time": "2024-12-21T15:15:13.550111Z",
     "start_time": "2024-12-21T15:15:13.512504Z"
    }
   },
   "outputs": [
    {
     "name": "stdout",
     "output_type": "stream",
     "text": [
      "[1] 1838 2638\n"
     ]
    }
   ],
   "source": [
    "%%R\n",
    "# shape\n",
    "dim(assay(sce.zell, \"logcounts\"))"
   ]
  },
  {
   "cell_type": "code",
   "execution_count": 169,
   "metadata": {
    "ExecuteTime": {
     "end_time": "2024-12-21T15:15:13.708103Z",
     "start_time": "2024-12-21T15:15:13.554713Z"
    }
   },
   "outputs": [
    {
     "name": "stdout",
     "output_type": "stream",
     "text": [
      "         AAACATACAACCAC-1 AAACATTGAGCTAC-1 AAACATTGATCAGC-1 AAACCGTGCTTCCG-1\n",
      "TNFRSF4       -0.17146961      -0.21458235      -0.37688771      -0.28524107\n",
      "CPSF3L        -0.28081229      -0.37265328      -0.29508454      -0.28173482\n",
      "ATAD3C        -0.04667677      -0.05480441      -0.05752748      -0.05222671\n",
      "C1orf86       -0.47516865      -0.68339121      -0.52097195      -0.48492861\n",
      "RER1          -0.54402399       0.63395083       1.33264792       1.57267952\n",
      "TNFRSF25       4.92849684      -0.33483663      -0.30936241      -0.27182469\n",
      "TNFRSF9       -0.03802770      -0.04558870      -0.10310833      -0.07455204\n",
      "CTNNBIP1      -0.28057277      -0.49826378      -0.27252606      -0.25887546\n",
      "SRM           -0.34178808      -0.54191375      -0.50079864      -0.41675180\n",
      "UBIAD1        -0.19536127      -0.20901665      -0.22022836      -0.20847099\n"
     ]
    }
   ],
   "source": [
    "%%R\n",
    "# scaled count matrix\n",
    "assay(sce.zell, \"scale.data\")[1:10, 1:4]"
   ]
  },
  {
   "cell_type": "code",
   "execution_count": 170,
   "metadata": {
    "ExecuteTime": {
     "end_time": "2024-12-21T15:15:13.739445Z",
     "start_time": "2024-12-21T15:15:13.710538Z"
    }
   },
   "outputs": [
    {
     "name": "stdout",
     "output_type": "stream",
     "text": [
      "[1] 1838 2638\n"
     ]
    }
   ],
   "source": [
    "%%R\n",
    "# shape\n",
    "dim(assay(sce.zell, \"scale.data\"))"
   ]
  },
  {
   "cell_type": "code",
   "execution_count": 171,
   "metadata": {
    "ExecuteTime": {
     "end_time": "2024-12-21T15:15:13.829981Z",
     "start_time": "2024-12-21T15:15:13.741390Z"
    }
   },
   "outputs": [
    {
     "name": "stdout",
     "output_type": "stream",
     "text": [
      "class: SummarizedExperiment \n",
      "dim: 13714 2638 \n",
      "metadata(0):\n",
      "assays(1): X\n",
      "rownames: NULL\n",
      "rowData names(7): gene_ids n_cells ... pct_dropout_by_counts\n",
      "  total_counts\n",
      "colnames(2638): AAACATACAACCAC-1 AAACATTGAGCTAC-1 ... TTTGCATGAGAGGC-1\n",
      "  TTTGCATGCCTCAC-1\n",
      "colData names(0):\n"
     ]
    }
   ],
   "source": [
    "%%R\n",
    "# full raw count matrix\n",
    "altExp(sce.zell)"
   ]
  },
  {
   "cell_type": "code",
   "execution_count": 172,
   "metadata": {
    "ExecuteTime": {
     "end_time": "2024-12-21T15:15:13.916545Z",
     "start_time": "2024-12-21T15:15:13.832080Z"
    }
   },
   "outputs": [
    {
     "name": "stdout",
     "output_type": "stream",
     "text": [
      "DataFrame with 6 rows and 6 columns\n",
      "                   n_genes n_genes_by_counts total_counts total_counts_mt\n",
      "                 <numeric>         <integer>    <numeric>       <numeric>\n",
      "AAACATACAACCAC-1       781               779         2419              73\n",
      "AAACATTGAGCTAC-1      1352              1352         4903             186\n",
      "AAACATTGATCAGC-1      1131              1129         3147              28\n",
      "AAACCGTGCTTCCG-1       960               960         2639              46\n",
      "AAACCGTGTATGCG-1       522               521          980              12\n",
      "AAACGCACTGGTAC-1       782               781         2163              36\n",
      "                 pct_counts_mt   leiden\n",
      "                     <numeric> <factor>\n",
      "AAACATACAACCAC-1      3.017776        0\n",
      "AAACATTGAGCTAC-1      3.793596        2\n",
      "AAACATTGATCAGC-1      0.889736        0\n",
      "AAACCGTGCTTCCG-1      1.743085        4\n",
      "AAACCGTGTATGCG-1      1.224490        5\n",
      "AAACGCACTGGTAC-1      1.664355        0\n"
     ]
    }
   ],
   "source": [
    "%%R\n",
    "suppressMessages(library(tidyverse))\n",
    "# cells' meta-information\n",
    "colData(sce.zell) %>% head()"
   ]
  },
  {
   "cell_type": "code",
   "execution_count": 173,
   "metadata": {
    "ExecuteTime": {
     "end_time": "2024-12-21T15:15:14.094078Z",
     "start_time": "2024-12-21T15:15:13.918629Z"
    }
   },
   "outputs": [
    {
     "name": "stdout",
     "output_type": "stream",
     "text": [
      "DataFrame with 6 rows and 14 columns\n",
      "                gene_ids   n_cells        mt n_cells_by_counts mean_counts\n",
      "             <character> <numeric> <logical>         <numeric>   <numeric>\n",
      "TNFRSF4  ENSG00000186827       155     FALSE               155  0.07740740\n",
      "CPSF3L   ENSG00000127054       202     FALSE               202  0.09481481\n",
      "ATAD3C   ENSG00000215915         9     FALSE                 9  0.00925926\n",
      "C1orf86  ENSG00000162585       501     FALSE               501  0.22777778\n",
      "RER1     ENSG00000157916       608     FALSE               608  0.29814816\n",
      "TNFRSF25 ENSG00000215788       170     FALSE               170  0.08851852\n",
      "         pct_dropout_by_counts total_counts highly_variable     means\n",
      "                     <numeric>    <numeric>       <logical> <numeric>\n",
      "TNFRSF4                94.2593          209            TRUE 0.2774103\n",
      "CPSF3L                 92.5185          256            TRUE 0.3851941\n",
      "ATAD3C                 99.6667           25            TRUE 0.0382519\n",
      "C1orf86                81.4444          615            TRUE 0.6782825\n",
      "RER1                   77.4815          805            TRUE 0.8148132\n",
      "TNFRSF25               93.7037          239            TRUE 0.3026148\n",
      "         dispersions dispersions_norm         mean       std\n",
      "           <numeric>        <numeric>    <numeric> <numeric>\n",
      "TNFRSF4      2.08605         0.665406 -3.67207e-10  0.424481\n",
      "CPSF3L       4.50699         2.955005 -2.37244e-10  0.460416\n",
      "ATAD3C       3.95349         4.352607  8.47299e-12  0.119465\n",
      "C1orf86      2.71352         0.543183  3.38920e-10  0.685145\n",
      "RER1         3.44753         1.582528  7.69630e-11  0.736050\n",
      "TNFRSF25     3.19553         1.274278  3.13501e-10  0.430840\n",
      "                                             varm\n",
      "                                      <DataFrame>\n",
      "TNFRSF4  -0.02601482: 0.00325417: 0.001897890:...\n",
      "CPSF3L   -0.00827822: 0.00908316:-0.000781411:...\n",
      "ATAD3C   -0.00331519: 0.00320968: 0.000279859:...\n",
      "C1orf86   0.01065073:-0.00026814:-0.007008112:...\n",
      "RER1      0.01371184: 0.02738791:-0.010785383:...\n",
      "TNFRSF25 -0.02663716: 0.01085256: 0.002487649:...\n"
     ]
    }
   ],
   "source": [
    "%%R\n",
    "# annotation of features and feature loadings (varm)\n",
    "rowData(sce.zell) %>% head()"
   ]
  },
  {
   "cell_type": "code",
   "execution_count": 174,
   "metadata": {
    "ExecuteTime": {
     "end_time": "2024-12-21T15:15:14.166009Z",
     "start_time": "2024-12-21T15:15:14.096254Z"
    }
   },
   "outputs": [
    {
     "name": "stdout",
     "output_type": "stream",
     "text": [
      "                      [,1]       [,2]       [,3]       [,4]        [,5]\n",
      "AAACATACAACCAC-1 -5.556221 -0.2577271  0.1867943 -2.8000970  0.05072495\n",
      "AAACATTGAGCTAC-1 -7.209527 -7.4820013 -0.1627175  8.0185165 -3.00661612\n",
      "AAACATTGATCAGC-1 -2.694437  1.5836617  0.6631235 -2.2056429  1.78901792\n",
      "AAACCGTGCTTCCG-1 10.143297  1.3685347 -1.2098237  0.7000697  2.90616465\n",
      "AAACCGTGTATGCG-1  1.112813  8.1527987 -1.3323525  4.2524910 -1.96318078\n"
     ]
    }
   ],
   "source": [
    "%%R\n",
    "# dimensional reduction results of pca\n",
    "reducedDim(sce.zell, \"X_pca\")[1:5, 1:5]"
   ]
  },
  {
   "cell_type": "code",
   "execution_count": 175,
   "metadata": {
    "ExecuteTime": {
     "end_time": "2024-12-21T15:15:14.231226Z",
     "start_time": "2024-12-21T15:15:14.168153Z"
    }
   },
   "outputs": [
    {
     "name": "stdout",
     "output_type": "stream",
     "text": [
      "                      [,1]       [,2]\n",
      "AAACATACAACCAC-1  7.906657  3.5560911\n",
      "AAACATTGAGCTAC-1  9.248348 12.5443316\n",
      "AAACATTGATCAGC-1  7.629986  3.8347855\n",
      "AAACCGTGCTTCCG-1  0.131578  5.5397391\n",
      "AAACCGTGTATGCG-1 10.055341 -0.6474292\n"
     ]
    }
   ],
   "source": [
    "%%R\n",
    "# dimensional reduction results of umap\n",
    "reducedDim(sce.zell, \"X_umap\")[1:5, 1:2]"
   ]
  },
  {
   "cell_type": "code",
   "execution_count": 176,
   "metadata": {
    "ExecuteTime": {
     "end_time": "2024-12-21T15:15:14.261094Z",
     "start_time": "2024-12-21T15:15:14.233454Z"
    }
   },
   "outputs": [
    {
     "name": "stdout",
     "output_type": "stream",
     "text": [
      "[1] \"hvg\"               \"leiden\"            \"log1p\"            \n",
      "[4] \"neighbors\"         \"pca\"               \"rank_genes_groups\"\n",
      "[7] \"umap\"             \n"
     ]
    }
   ],
   "source": [
    "%%R\n",
    "# unstructured annotation\n",
    "names(metadata(sce.zell))"
   ]
  },
  {
   "cell_type": "code",
   "execution_count": 177,
   "metadata": {
    "ExecuteTime": {
     "end_time": "2024-12-21T15:15:14.329946Z",
     "start_time": "2024-12-21T15:15:14.263329Z"
    }
   },
   "outputs": [
    {
     "name": "stdout",
     "output_type": "stream",
     "text": [
      " [1] 32.110455 18.718655 15.607329 13.235289  4.802269  3.985932  3.526233\n",
      " [8]  3.233445  3.121209  3.075261  2.998075  2.959521  2.951785  2.944248\n",
      "[15]  2.913872  2.899030  2.880682  2.864685  2.843064  2.835751  2.831421\n",
      "[22]  2.818236  2.803552  2.799987  2.788954  2.778101  2.770577  2.760221\n",
      "[29]  2.753860  2.745955  2.737186  2.734127  2.722202  2.712311  2.702478\n",
      "[36]  2.700047  2.683850  2.679051  2.676908  2.673995  2.664854  2.657311\n",
      "[43]  2.651177  2.641776  2.632970  2.629520  2.624529  2.618376  2.618003\n",
      "[50]  2.601866\n"
     ]
    }
   ],
   "source": [
    "%%R\n",
    "# pca variance\n",
    "metadata(sce.zell)$pca$variance"
   ]
  },
  {
   "cell_type": "code",
   "execution_count": 178,
   "metadata": {
    "ExecuteTime": {
     "end_time": "2024-12-21T15:15:14.455788Z",
     "start_time": "2024-12-21T15:15:14.332122Z"
    }
   },
   "outputs": [
    {
     "name": "stdout",
     "output_type": "stream",
     "text": [
      "SelfHits object with 41952 hits and 1 metadata column:\n",
      "               from        to |         x\n",
      "          <integer> <integer> | <numeric>\n",
      "      [1]         1        61 |  0.114571\n",
      "      [2]         1       109 |  0.303653\n",
      "      [3]         1       475 |  0.124247\n",
      "      [4]         1      1574 |  0.134454\n",
      "      [5]         1      1981 |  0.210848\n",
      "      ...       ...       ... .       ...\n",
      "  [41948]      2638      1820 |  1.000000\n",
      "  [41949]      2638      1879 |  0.167065\n",
      "  [41950]      2638      2078 |  0.150742\n",
      "  [41951]      2638      2573 |  0.314722\n",
      "  [41952]      2638      2575 |  0.774504\n",
      "  -------\n",
      "  nnode: 2638\n"
     ]
    }
   ],
   "source": [
    "%%R\n",
    "# relationship of cells, graphs\n",
    "colPairs(sce.zell)$connectivities"
   ]
  },
  {
   "cell_type": "code",
   "execution_count": 179,
   "metadata": {
    "ExecuteTime": {
     "end_time": "2024-12-21T15:15:14.600816Z",
     "start_time": "2024-12-21T15:15:14.458536Z"
    }
   },
   "outputs": [
    {
     "name": "stdout",
     "output_type": "stream",
     "text": [
      "SelfHits object with 23742 hits and 1 metadata column:\n",
      "               from        to |         x\n",
      "          <integer> <integer> | <numeric>\n",
      "      [1]         1        61 |   9.75174\n",
      "      [2]         1       109 |   9.46562\n",
      "      [3]         1       475 |   9.72794\n",
      "      [4]         1      1574 |   9.70476\n",
      "      [5]         1      1981 |   9.57269\n",
      "      ...       ...       ... .       ...\n",
      "  [23738]      2638      1680 |   7.47523\n",
      "  [23739]      2638      1879 |   8.69155\n",
      "  [23740]      2638      2078 |   8.76144\n",
      "  [23741]      2638      2573 |   8.26106\n",
      "  [23742]      2638      2575 |   7.96147\n",
      "  -------\n",
      "  nnode: 2638\n"
     ]
    }
   ],
   "source": [
    "%%R\n",
    "# relationship of cells, graphs\n",
    "colPairs(sce.zell)$distances"
   ]
  },
  {
   "cell_type": "markdown",
   "metadata": {},
   "source": [
    "## schard"
   ]
  },
  {
   "cell_type": "markdown",
   "metadata": {},
   "source": [
    "**Retained information** (`AnnData -> SingleCellExperiemnt`):\n",
    "\n",
    "   * count matrix: \n",
    "     - `use.raw = TRUE`: raw count matrix (`raw.X -> assays`)\n",
    "     - `use.raw = FALSE`: scaled count matrix (`X -> assays`)\n",
    "   * cells' meta-information (`obs -> colData`)\n",
    "   * annotation of features (`var -> rowData`), missing dispersions, dispersions_norm, highly_variable, mean, means, std when `use.raw = TRUE`\n",
    "   * dimensional reduction results (`obsm -> reducedDim`)"
   ]
  },
  {
   "cell_type": "code",
   "execution_count": 180,
   "metadata": {
    "ExecuteTime": {
     "end_time": "2024-12-21T15:15:15.260263Z",
     "start_time": "2024-12-21T15:15:14.605945Z"
    }
   },
   "outputs": [
    {
     "name": "stdout",
     "output_type": "stream",
     "text": [
      "class: SingleCellExperiment \n",
      "dim: 13714 2638 \n",
      "metadata(0):\n",
      "assays(1): X\n",
      "rownames(13714): AL627309.1 AP006222.2 ... PNRC2-1 SRSF10-1\n",
      "rowData names(8): _index gene_ids ... pct_dropout_by_counts\n",
      "  total_counts\n",
      "colnames(2638): AAACATACAACCAC-1 AAACATTGAGCTAC-1 ... TTTGCATGAGAGGC-1\n",
      "  TTTGCATGCCTCAC-1\n",
      "colData names(7): _index n_genes ... pct_counts_mt leiden\n",
      "reducedDimNames(2): X_pca X_umap\n",
      "altExpNames(0):\n"
     ]
    }
   ],
   "source": [
    "%%R\n",
    "sce.schard = AD2SCE(anndata.file = \"./write/pbmc3k.h5ad\",\n",
    "                    method = \"schard\", use.raw = TRUE)\n",
    "sce.schard"
   ]
  },
  {
   "cell_type": "code",
   "execution_count": 181,
   "metadata": {
    "ExecuteTime": {
     "end_time": "2024-12-21T15:15:15.418148Z",
     "start_time": "2024-12-21T15:15:15.262495Z"
    },
    "scrolled": true
   },
   "outputs": [
    {
     "name": "stdout",
     "output_type": "stream",
     "text": [
      "10 x 15 sparse Matrix of class \"dgCMatrix\"\n"
     ]
    },
    {
     "name": "stderr",
     "output_type": "stream",
     "text": [
      "R[write to console]:   [[ suppressing 15 column names ‘AAACATACAACCAC-1’, ‘AAACATTGAGCTAC-1’, ‘AAACATTGATCAGC-1’ ... ]]\n",
      "\n"
     ]
    },
    {
     "name": "stdout",
     "output_type": "stream",
     "text": [
      "                                           \n",
      "AL627309.1    . . . . . . . . . . . . . . .\n",
      "AP006222.2    . . . . . . . . . . . . . . .\n",
      "RP11-206L10.2 . . . . . . . . . . . . . . .\n",
      "RP11-206L10.9 . . . . . . . . . . . . . . .\n",
      "LINC00115     . . . . . . . . . . . . . . .\n",
      "NOC2L         . . . . . . . . . . . 1 . . .\n",
      "KLHL17        . . . . . . . . . . . . . . .\n",
      "PLEKHN1       . . . . . . . . . . . . . . .\n",
      "RP11-54O7.17  . . . . . . . . . . . . . . .\n",
      "HES4          . . . . . . . . . . . . . . .\n"
     ]
    }
   ],
   "source": [
    "%%R\n",
    "suppressMessages(library(SingleCellExperiment))\n",
    "assay(sce.schard, \"X\")[1:10, 1:15]"
   ]
  },
  {
   "cell_type": "code",
   "execution_count": 182,
   "metadata": {
    "ExecuteTime": {
     "end_time": "2024-12-21T15:15:15.453082Z",
     "start_time": "2024-12-21T15:15:15.420185Z"
    }
   },
   "outputs": [
    {
     "name": "stdout",
     "output_type": "stream",
     "text": [
      "[1] 13714  2638\n"
     ]
    }
   ],
   "source": [
    "%%R\n",
    "# shape\n",
    "dim(assay(sce.schard, \"X\"))"
   ]
  },
  {
   "cell_type": "code",
   "execution_count": 183,
   "metadata": {
    "ExecuteTime": {
     "end_time": "2024-12-21T15:15:15.539889Z",
     "start_time": "2024-12-21T15:15:15.455254Z"
    }
   },
   "outputs": [
    {
     "name": "stdout",
     "output_type": "stream",
     "text": [
      "DataFrame with 6 rows and 7 columns\n",
      "                           _index   n_genes n_genes_by_counts total_counts\n",
      "                      <character> <integer>         <integer>    <numeric>\n",
      "AAACATACAACCAC-1 AAACATACAACCAC-1       781               779         2419\n",
      "AAACATTGAGCTAC-1 AAACATTGAGCTAC-1      1352              1352         4903\n",
      "AAACATTGATCAGC-1 AAACATTGATCAGC-1      1131              1129         3147\n",
      "AAACCGTGCTTCCG-1 AAACCGTGCTTCCG-1       960               960         2639\n",
      "AAACCGTGTATGCG-1 AAACCGTGTATGCG-1       522               521          980\n",
      "AAACGCACTGGTAC-1 AAACGCACTGGTAC-1       782               781         2163\n",
      "                 total_counts_mt pct_counts_mt      leiden\n",
      "                       <numeric>     <numeric> <character>\n",
      "AAACATACAACCAC-1              73      3.017776           0\n",
      "AAACATTGAGCTAC-1             186      3.793596           2\n",
      "AAACATTGATCAGC-1              28      0.889736           0\n",
      "AAACCGTGCTTCCG-1              46      1.743085           4\n",
      "AAACCGTGTATGCG-1              12      1.224490           5\n",
      "AAACGCACTGGTAC-1              36      1.664355           0\n"
     ]
    }
   ],
   "source": [
    "%%R\n",
    "suppressMessages(library(tidyverse))\n",
    "# cells' meta-information\n",
    "colData(sce.schard) %>% head()"
   ]
  },
  {
   "cell_type": "code",
   "execution_count": 184,
   "metadata": {
    "ExecuteTime": {
     "end_time": "2024-12-21T15:15:15.745346Z",
     "start_time": "2024-12-21T15:15:15.542195Z"
    }
   },
   "outputs": [
    {
     "name": "stdout",
     "output_type": "stream",
     "text": [
      "DataFrame with 6 rows and 8 columns\n",
      "                     _index        gene_ids   n_cells          mt\n",
      "                <character>     <character> <integer> <character>\n",
      "AL627309.1       AL627309.1 ENSG00000237683         9       FALSE\n",
      "AP006222.2       AP006222.2 ENSG00000228463         3       FALSE\n",
      "RP11-206L10.2 RP11-206L10.2 ENSG00000228327         5       FALSE\n",
      "RP11-206L10.9 RP11-206L10.9 ENSG00000237491         3       FALSE\n",
      "LINC00115         LINC00115 ENSG00000225880        18       FALSE\n",
      "NOC2L                 NOC2L ENSG00000188976       258       FALSE\n",
      "              n_cells_by_counts mean_counts pct_dropout_by_counts total_counts\n",
      "                      <integer>   <numeric>             <numeric>    <numeric>\n",
      "AL627309.1                    9  0.00333333               99.6667            9\n",
      "AP006222.2                    3  0.00111111               99.8889            3\n",
      "RP11-206L10.2                 5  0.00185185               99.8148            5\n",
      "RP11-206L10.9                 3  0.00111111               99.8889            3\n",
      "LINC00115                    18  0.00666667               99.3333           18\n",
      "NOC2L                       258  0.10666667               90.4444          288\n"
     ]
    }
   ],
   "source": [
    "%%R\n",
    "# annotation of features, missing dispersions, dispersions_norm, highly_variable, mean, means, std when use.raw = TRUE\n",
    "rowData(sce.schard) %>% head()"
   ]
  },
  {
   "cell_type": "code",
   "execution_count": 185,
   "metadata": {
    "ExecuteTime": {
     "end_time": "2024-12-21T15:15:15.814184Z",
     "start_time": "2024-12-21T15:15:15.747424Z"
    }
   },
   "outputs": [
    {
     "name": "stdout",
     "output_type": "stream",
     "text": [
      "                      [,1]       [,2]       [,3]       [,4]        [,5]\n",
      "AAACATACAACCAC-1 -5.556221 -0.2577271  0.1867943 -2.8000970  0.05072495\n",
      "AAACATTGAGCTAC-1 -7.209527 -7.4820013 -0.1627175  8.0185165 -3.00661612\n",
      "AAACATTGATCAGC-1 -2.694437  1.5836617  0.6631235 -2.2056429  1.78901792\n",
      "AAACCGTGCTTCCG-1 10.143297  1.3685347 -1.2098237  0.7000697  2.90616465\n",
      "AAACCGTGTATGCG-1  1.112813  8.1527987 -1.3323525  4.2524910 -1.96318078\n"
     ]
    }
   ],
   "source": [
    "%%R\n",
    "# dimensional reduction results of pca\n",
    "reducedDim(sce.schard, \"X_pca\")[1:5, 1:5]"
   ]
  },
  {
   "cell_type": "code",
   "execution_count": 186,
   "metadata": {
    "ExecuteTime": {
     "end_time": "2024-12-21T15:15:15.889473Z",
     "start_time": "2024-12-21T15:15:15.817214Z"
    }
   },
   "outputs": [
    {
     "name": "stdout",
     "output_type": "stream",
     "text": [
      "                      [,1]       [,2]\n",
      "AAACATACAACCAC-1  7.906657  3.5560911\n",
      "AAACATTGAGCTAC-1  9.248348 12.5443316\n",
      "AAACATTGATCAGC-1  7.629986  3.8347855\n",
      "AAACCGTGCTTCCG-1  0.131578  5.5397391\n",
      "AAACCGTGTATGCG-1 10.055341 -0.6474292\n"
     ]
    }
   ],
   "source": [
    "%%R\n",
    "# dimensional reduction results of umap\n",
    "reducedDim(sce.schard, \"X_umap\")[1:5, 1:2]"
   ]
  },
  {
   "cell_type": "markdown",
   "metadata": {},
   "source": [
    "# SingleCellExperiemnt to AnnData"
   ]
  },
  {
   "cell_type": "markdown",
   "metadata": {},
   "source": [
    "## SingleCellExperiemnt"
   ]
  },
  {
   "cell_type": "code",
   "execution_count": 187,
   "metadata": {
    "ExecuteTime": {
     "end_time": "2024-12-21T15:49:15.859474Z",
     "start_time": "2024-12-21T15:49:14.372422Z"
    }
   },
   "outputs": [
    {
     "name": "stdout",
     "output_type": "stream",
     "text": [
      "class: SingleCellExperiment \n",
      "dim: 1838 2638 \n",
      "metadata(7): hvg leiden ... rank_genes_groups umap\n",
      "assays(3): scale.data logcounts rawcounts\n",
      "rownames(1838): TNFRSF4 CPSF3L ... S100B PRMT2\n",
      "rowData names(14): gene_ids n_cells ... std varm\n",
      "colnames(2638): AAACATACAACCAC-1 AAACATTGAGCTAC-1 ... TTTGCATGAGAGGC-1\n",
      "  TTTGCATGCCTCAC-1\n",
      "colData names(6): n_genes n_genes_by_counts ... pct_counts_mt leiden\n",
      "reducedDimNames(2): X_pca X_umap\n",
      "altExpNames(1): raw\n"
     ]
    }
   ],
   "source": [
    "%%R\n",
    "# test data (AD2SCE/zellkonverter)\n",
    "pbmc3k.sce = sce.zell\n",
    "pbmc3k.sce"
   ]
  },
  {
   "cell_type": "markdown",
   "metadata": {},
   "source": [
    "### Count matrix (`assays` and `altExp`)"
   ]
  },
  {
   "cell_type": "code",
   "execution_count": 188,
   "metadata": {
    "ExecuteTime": {
     "end_time": "2024-12-21T15:54:32.160941Z",
     "start_time": "2024-12-21T15:54:28.526024Z"
    }
   },
   "outputs": [
    {
     "name": "stdout",
     "output_type": "stream",
     "text": [
      "10 x 15 sparse Matrix of class \"dgCMatrix\"\n"
     ]
    },
    {
     "name": "stderr",
     "output_type": "stream",
     "text": [
      "R[write to console]:   [[ suppressing 15 column names ‘AAACATACAACCAC-1’, ‘AAACATTGAGCTAC-1’, ‘AAACATTGATCAGC-1’ ... ]]\n",
      "\n"
     ]
    },
    {
     "name": "stdout",
     "output_type": "stream",
     "text": [
      "                                      \n",
      "TNFRSF4  . . . . . . . . 1 . . . . . .\n",
      "CPSF3L   . . . . . . . . . . 1 . . . .\n",
      "ATAD3C   . . . . . . . . . . . . . . .\n",
      "C1orf86  . . . . . . . . 1 . . . . . .\n",
      "RER1     . 1 1 1 . . . . . . . 1 . 1 .\n",
      "TNFRSF25 2 . . . . . . 1 . . . . . . .\n",
      "TNFRSF9  . . . . . . . . . . . . . . .\n",
      "CTNNBIP1 . . . . 1 . . . . . . . 1 . .\n",
      "SRM      . . . . . . 1 . . . . . . . .\n",
      "UBIAD1   . . . . . . . . . . . . . . .\n"
     ]
    }
   ],
   "source": [
    "%%R\n",
    "# raw count matrix\n",
    "assay(pbmc3k.sce, \"rawcounts\")[1:10,1:15]"
   ]
  },
  {
   "cell_type": "code",
   "execution_count": 189,
   "metadata": {
    "ExecuteTime": {
     "end_time": "2024-12-21T15:54:32.440076Z",
     "start_time": "2024-12-21T15:54:32.164771Z"
    }
   },
   "outputs": [
    {
     "name": "stdout",
     "output_type": "stream",
     "text": [
      "10 x 15 sparse Matrix of class \"dgCMatrix\"\n"
     ]
    },
    {
     "name": "stderr",
     "output_type": "stream",
     "text": [
      "R[write to console]:   [[ suppressing 15 column names ‘AAACATACAACCAC-1’, ‘AAACATTGAGCTAC-1’, ‘AAACATTGATCAGC-1’ ... ]]\n",
      "\n"
     ]
    },
    {
     "name": "stdout",
     "output_type": "stream",
     "text": [
      "                                                                         \n",
      "TNFRSF4  .        .        .        .        .        . .        .       \n",
      "CPSF3L   .        .        .        .        .        . .        .       \n",
      "ATAD3C   .        .        .        .        .        . .        .       \n",
      "C1orf86  .        .        .        .        .        . .        .       \n",
      "RER1     .        1.111715 1.429744 1.566387 .        . .        .       \n",
      "TNFRSF25 2.226555 .        .        .        .        . .        1.690977\n",
      "TNFRSF9  .        .        .        .        .        . .        .       \n",
      "CTNNBIP1 .        .        .        .        2.416278 . .        .       \n",
      "SRM      .        .        .        .        .        . 1.722356 .       \n",
      "UBIAD1   .        .        .        .        .        . .        .       \n",
      "                                                         \n",
      "TNFRSF4  2.179642 . .        .        .        .        .\n",
      "CPSF3L   .        . 1.268336 .        .        .        .\n",
      "ATAD3C   .        . .        .        .        .        .\n",
      "C1orf86  2.179642 . .        .        .        .        .\n",
      "RER1     .        . .        1.646272 .        1.457932 .\n",
      "TNFRSF25 .        . .        .        .        .        .\n",
      "TNFRSF9  .        . .        .        .        .        .\n",
      "CTNNBIP1 .        . .        .        1.638876 .        .\n",
      "SRM      .        . .        .        .        .        .\n",
      "UBIAD1   .        . .        .        .        .        .\n"
     ]
    }
   ],
   "source": [
    "%%R\n",
    "# log-normalized count matrix\n",
    "assay(pbmc3k.sce, \"logcounts\")[1:10,1:15]"
   ]
  },
  {
   "cell_type": "code",
   "execution_count": 190,
   "metadata": {
    "ExecuteTime": {
     "end_time": "2024-12-21T15:54:32.643597Z",
     "start_time": "2024-12-21T15:54:32.444705Z"
    }
   },
   "outputs": [
    {
     "name": "stdout",
     "output_type": "stream",
     "text": [
      "         AAACATACAACCAC-1 AAACATTGAGCTAC-1 AAACATTGATCAGC-1 AAACCGTGCTTCCG-1\n",
      "TNFRSF4       -0.17146961      -0.21458235      -0.37688771      -0.28524107\n",
      "CPSF3L        -0.28081229      -0.37265328      -0.29508454      -0.28173482\n",
      "ATAD3C        -0.04667677      -0.05480441      -0.05752748      -0.05222671\n",
      "C1orf86       -0.47516865      -0.68339121      -0.52097195      -0.48492861\n",
      "RER1          -0.54402399       0.63395083       1.33264792       1.57267952\n",
      "TNFRSF25       4.92849684      -0.33483663      -0.30936241      -0.27182469\n",
      "TNFRSF9       -0.03802770      -0.04558870      -0.10310833      -0.07455204\n",
      "CTNNBIP1      -0.28057277      -0.49826378      -0.27252606      -0.25887546\n",
      "SRM           -0.34178808      -0.54191375      -0.50079864      -0.41675180\n",
      "UBIAD1        -0.19536127      -0.20901665      -0.22022836      -0.20847099\n"
     ]
    }
   ],
   "source": [
    "%%R\n",
    "# scaled count matrix\n",
    "assay(pbmc3k.sce, \"scale.data\")[1:10,1:4]"
   ]
  },
  {
   "cell_type": "code",
   "execution_count": 191,
   "metadata": {
    "ExecuteTime": {
     "end_time": "2024-12-21T15:54:32.781081Z",
     "start_time": "2024-12-21T15:54:32.647264Z"
    }
   },
   "outputs": [
    {
     "name": "stdout",
     "output_type": "stream",
     "text": [
      "class: SummarizedExperiment \n",
      "dim: 13714 2638 \n",
      "metadata(0):\n",
      "assays(1): X\n",
      "rownames: NULL\n",
      "rowData names(7): gene_ids n_cells ... pct_dropout_by_counts\n",
      "  total_counts\n",
      "colnames(2638): AAACATACAACCAC-1 AAACATTGAGCTAC-1 ... TTTGCATGAGAGGC-1\n",
      "  TTTGCATGCCTCAC-1\n",
      "colData names(0):\n"
     ]
    }
   ],
   "source": [
    "%%R\n",
    "# full raw count matrix\n",
    "altExp(pbmc3k.sce)"
   ]
  },
  {
   "cell_type": "code",
   "execution_count": 192,
   "metadata": {
    "ExecuteTime": {
     "end_time": "2024-12-21T15:54:33.133897Z",
     "start_time": "2024-12-21T15:54:32.783993Z"
    }
   },
   "outputs": [
    {
     "name": "stdout",
     "output_type": "stream",
     "text": [
      "10 x 15 sparse Matrix of class \"dgCMatrix\"\n"
     ]
    },
    {
     "name": "stderr",
     "output_type": "stream",
     "text": [
      "R[write to console]:   [[ suppressing 15 column names ‘AAACATACAACCAC-1’, ‘AAACATTGAGCTAC-1’, ‘AAACATTGATCAGC-1’ ... ]]\n",
      "\n"
     ]
    },
    {
     "name": "stdout",
     "output_type": "stream",
     "text": [
      "                                   \n",
      " [1,] . . . . . . . . . . . . . . .\n",
      " [2,] . . . . . . . . . . . . . . .\n",
      " [3,] . . . . . . . . . . . . . . .\n",
      " [4,] . . . . . . . . . . . . . . .\n",
      " [5,] . . . . . . . . . . . . . . .\n",
      " [6,] . . . . . . . . . . . 1 . . .\n",
      " [7,] . . . . . . . . . . . . . . .\n",
      " [8,] . . . . . . . . . . . . . . .\n",
      " [9,] . . . . . . . . . . . . . . .\n",
      "[10,] . . . . . . . . . . . . . . .\n"
     ]
    }
   ],
   "source": [
    "%%R\n",
    "# full raw count matrix\n",
    "assay(altExp(pbmc3k.sce))[1:10,1:15]"
   ]
  },
  {
   "cell_type": "markdown",
   "metadata": {},
   "source": [
    "### `colData` - cells' meta-information"
   ]
  },
  {
   "cell_type": "code",
   "execution_count": 193,
   "metadata": {
    "ExecuteTime": {
     "end_time": "2024-12-21T15:54:33.445437Z",
     "start_time": "2024-12-21T15:54:33.136259Z"
    }
   },
   "outputs": [
    {
     "name": "stdout",
     "output_type": "stream",
     "text": [
      "DataFrame with 6 rows and 6 columns\n",
      "                   n_genes n_genes_by_counts total_counts total_counts_mt\n",
      "                 <numeric>         <integer>    <numeric>       <numeric>\n",
      "AAACATACAACCAC-1       781               779         2419              73\n",
      "AAACATTGAGCTAC-1      1352              1352         4903             186\n",
      "AAACATTGATCAGC-1      1131              1129         3147              28\n",
      "AAACCGTGCTTCCG-1       960               960         2639              46\n",
      "AAACCGTGTATGCG-1       522               521          980              12\n",
      "AAACGCACTGGTAC-1       782               781         2163              36\n",
      "                 pct_counts_mt   leiden\n",
      "                     <numeric> <factor>\n",
      "AAACATACAACCAC-1      3.017776        0\n",
      "AAACATTGAGCTAC-1      3.793596        2\n",
      "AAACATTGATCAGC-1      0.889736        0\n",
      "AAACCGTGCTTCCG-1      1.743085        4\n",
      "AAACCGTGTATGCG-1      1.224490        5\n",
      "AAACGCACTGGTAC-1      1.664355        0\n"
     ]
    }
   ],
   "source": [
    "%%R\n",
    "colData(pbmc3k.sce) %>% head()"
   ]
  },
  {
   "cell_type": "markdown",
   "metadata": {},
   "source": [
    "###  `rowData` - annotation of features and feature loadings"
   ]
  },
  {
   "cell_type": "code",
   "execution_count": 194,
   "metadata": {
    "ExecuteTime": {
     "end_time": "2024-12-21T15:54:33.637709Z",
     "start_time": "2024-12-21T15:54:33.447893Z"
    }
   },
   "outputs": [
    {
     "name": "stdout",
     "output_type": "stream",
     "text": [
      "DataFrame with 6 rows and 14 columns\n",
      "                gene_ids   n_cells        mt n_cells_by_counts mean_counts\n",
      "             <character> <numeric> <logical>         <numeric>   <numeric>\n",
      "TNFRSF4  ENSG00000186827       155     FALSE               155  0.07740740\n",
      "CPSF3L   ENSG00000127054       202     FALSE               202  0.09481481\n",
      "ATAD3C   ENSG00000215915         9     FALSE                 9  0.00925926\n",
      "C1orf86  ENSG00000162585       501     FALSE               501  0.22777778\n",
      "RER1     ENSG00000157916       608     FALSE               608  0.29814816\n",
      "TNFRSF25 ENSG00000215788       170     FALSE               170  0.08851852\n",
      "         pct_dropout_by_counts total_counts highly_variable     means\n",
      "                     <numeric>    <numeric>       <logical> <numeric>\n",
      "TNFRSF4                94.2593          209            TRUE 0.2774103\n",
      "CPSF3L                 92.5185          256            TRUE 0.3851941\n",
      "ATAD3C                 99.6667           25            TRUE 0.0382519\n",
      "C1orf86                81.4444          615            TRUE 0.6782825\n",
      "RER1                   77.4815          805            TRUE 0.8148132\n",
      "TNFRSF25               93.7037          239            TRUE 0.3026148\n",
      "         dispersions dispersions_norm         mean       std\n",
      "           <numeric>        <numeric>    <numeric> <numeric>\n",
      "TNFRSF4      2.08605         0.665406 -3.67207e-10  0.424481\n",
      "CPSF3L       4.50699         2.955005 -2.37244e-10  0.460416\n",
      "ATAD3C       3.95349         4.352607  8.47299e-12  0.119465\n",
      "C1orf86      2.71352         0.543183  3.38920e-10  0.685145\n",
      "RER1         3.44753         1.582528  7.69630e-11  0.736050\n",
      "TNFRSF25     3.19553         1.274278  3.13501e-10  0.430840\n",
      "                                             varm\n",
      "                                      <DataFrame>\n",
      "TNFRSF4  -0.02601482: 0.00325417: 0.001897890:...\n",
      "CPSF3L   -0.00827822: 0.00908316:-0.000781411:...\n",
      "ATAD3C   -0.00331519: 0.00320968: 0.000279859:...\n",
      "C1orf86   0.01065073:-0.00026814:-0.007008112:...\n",
      "RER1      0.01371184: 0.02738791:-0.010785383:...\n",
      "TNFRSF25 -0.02663716: 0.01085256: 0.002487649:...\n"
     ]
    }
   ],
   "source": [
    "%%R\n",
    "# feature loadings in column varm\n",
    "rowData(pbmc3k.sce) %>% head()"
   ]
  },
  {
   "cell_type": "markdown",
   "metadata": {},
   "source": [
    "### `reducedDim` - dimensional reduction results"
   ]
  },
  {
   "cell_type": "code",
   "execution_count": 195,
   "metadata": {
    "ExecuteTime": {
     "end_time": "2024-12-21T15:54:33.798696Z",
     "start_time": "2024-12-21T15:54:33.643436Z"
    }
   },
   "outputs": [
    {
     "name": "stdout",
     "output_type": "stream",
     "text": [
      "                      [,1]       [,2]       [,3]       [,4]        [,5]\n",
      "AAACATACAACCAC-1 -5.556221 -0.2577271  0.1867943 -2.8000970  0.05072495\n",
      "AAACATTGAGCTAC-1 -7.209527 -7.4820013 -0.1627175  8.0185165 -3.00661612\n",
      "AAACATTGATCAGC-1 -2.694437  1.5836617  0.6631235 -2.2056429  1.78901792\n",
      "AAACCGTGCTTCCG-1 10.143297  1.3685347 -1.2098237  0.7000697  2.90616465\n",
      "AAACCGTGTATGCG-1  1.112813  8.1527987 -1.3323525  4.2524910 -1.96318078\n"
     ]
    }
   ],
   "source": [
    "%%R\n",
    "reducedDim(pbmc3k.sce, \"X_pca\")[1:5, 1:5]"
   ]
  },
  {
   "cell_type": "markdown",
   "metadata": {},
   "source": [
    "### `colPairs` - relationship of cells, graphs"
   ]
  },
  {
   "cell_type": "code",
   "execution_count": 196,
   "metadata": {
    "ExecuteTime": {
     "end_time": "2024-12-21T15:54:33.879866Z",
     "start_time": "2024-12-21T15:54:33.803430Z"
    }
   },
   "outputs": [
    {
     "name": "stdout",
     "output_type": "stream",
     "text": [
      "List of length 2\n",
      "names(2): connectivities distances\n"
     ]
    }
   ],
   "source": [
    "%%R\n",
    "colPairs(pbmc3k.sce)"
   ]
  },
  {
   "cell_type": "code",
   "execution_count": 197,
   "metadata": {
    "ExecuteTime": {
     "end_time": "2024-12-21T15:54:34.014221Z",
     "start_time": "2024-12-21T15:54:33.884385Z"
    }
   },
   "outputs": [
    {
     "name": "stdout",
     "output_type": "stream",
     "text": [
      "SelfHits object with 41952 hits and 1 metadata column:\n",
      "               from        to |         x\n",
      "          <integer> <integer> | <numeric>\n",
      "      [1]         1        61 |  0.114571\n",
      "      [2]         1       109 |  0.303653\n",
      "      [3]         1       475 |  0.124247\n",
      "      [4]         1      1574 |  0.134454\n",
      "      [5]         1      1981 |  0.210848\n",
      "      ...       ...       ... .       ...\n",
      "  [41948]      2638      1820 |  1.000000\n",
      "  [41949]      2638      1879 |  0.167065\n",
      "  [41950]      2638      2078 |  0.150742\n",
      "  [41951]      2638      2573 |  0.314722\n",
      "  [41952]      2638      2575 |  0.774504\n",
      "  -------\n",
      "  nnode: 2638\n"
     ]
    }
   ],
   "source": [
    "%%R\n",
    "colPairs(pbmc3k.sce)$connectivities"
   ]
  },
  {
   "cell_type": "code",
   "execution_count": 198,
   "metadata": {
    "ExecuteTime": {
     "end_time": "2024-12-21T15:54:34.152936Z",
     "start_time": "2024-12-21T15:54:34.016641Z"
    }
   },
   "outputs": [
    {
     "name": "stdout",
     "output_type": "stream",
     "text": [
      "SelfHits object with 23742 hits and 1 metadata column:\n",
      "               from        to |         x\n",
      "          <integer> <integer> | <numeric>\n",
      "      [1]         1        61 |   9.75174\n",
      "      [2]         1       109 |   9.46562\n",
      "      [3]         1       475 |   9.72794\n",
      "      [4]         1      1574 |   9.70476\n",
      "      [5]         1      1981 |   9.57269\n",
      "      ...       ...       ... .       ...\n",
      "  [23738]      2638      1680 |   7.47523\n",
      "  [23739]      2638      1879 |   8.69155\n",
      "  [23740]      2638      2078 |   8.76144\n",
      "  [23741]      2638      2573 |   8.26106\n",
      "  [23742]      2638      2575 |   7.96147\n",
      "  -------\n",
      "  nnode: 2638\n"
     ]
    }
   ],
   "source": [
    "%%R\n",
    "colPairs(pbmc3k.sce)$distances"
   ]
  },
  {
   "cell_type": "markdown",
   "metadata": {},
   "source": [
    "### `metadata` - unstructured annotation"
   ]
  },
  {
   "cell_type": "code",
   "execution_count": 199,
   "metadata": {
    "ExecuteTime": {
     "end_time": "2024-12-21T15:54:34.220713Z",
     "start_time": "2024-12-21T15:54:34.155486Z"
    }
   },
   "outputs": [
    {
     "name": "stdout",
     "output_type": "stream",
     "text": [
      "[1] \"hvg\"               \"leiden\"            \"log1p\"            \n",
      "[4] \"neighbors\"         \"pca\"               \"rank_genes_groups\"\n",
      "[7] \"umap\"             \n"
     ]
    }
   ],
   "source": [
    "%%R\n",
    "# all annotation\n",
    "names(metadata(pbmc3k.sce))"
   ]
  },
  {
   "cell_type": "code",
   "execution_count": 200,
   "metadata": {
    "ExecuteTime": {
     "end_time": "2024-12-21T15:54:34.289832Z",
     "start_time": "2024-12-21T15:54:34.223377Z"
    }
   },
   "outputs": [
    {
     "name": "stdout",
     "output_type": "stream",
     "text": [
      " [1] 32.110455 18.718655 15.607329 13.235289  4.802269  3.985932  3.526233\n",
      " [8]  3.233445  3.121209  3.075261  2.998075  2.959521  2.951785  2.944248\n",
      "[15]  2.913872  2.899030  2.880682  2.864685  2.843064  2.835751  2.831421\n",
      "[22]  2.818236  2.803552  2.799987  2.788954  2.778101  2.770577  2.760221\n",
      "[29]  2.753860  2.745955  2.737186  2.734127  2.722202  2.712311  2.702478\n",
      "[36]  2.700047  2.683850  2.679051  2.676908  2.673995  2.664854  2.657311\n",
      "[43]  2.651177  2.641776  2.632970  2.629520  2.624529  2.618376  2.618003\n",
      "[50]  2.601866\n"
     ]
    }
   ],
   "source": [
    "%%R\n",
    "# pca variance\n",
    "metadata(pbmc3k.sce)$pca$variance"
   ]
  },
  {
   "cell_type": "code",
   "execution_count": 201,
   "metadata": {
    "ExecuteTime": {
     "end_time": "2024-12-21T15:54:34.313810Z",
     "start_time": "2024-12-21T15:54:34.292324Z"
    }
   },
   "outputs": [],
   "source": [
    "%%R\n",
    "# convert SingleCellExperiemnt to AnnData (use current conda environment)\n",
    "# now integrated into GEfetch2R\n",
    "SCE2AD = function(sce.obj, method = c(\"sceasy\",\t\"scDIOR\", \"zellkonverter\"), out.folder = NULL,\n",
    "                  out.filename = NULL, slot = \"counts\"){\n",
    "  # check parameters\n",
    "  method <- match.arg(arg = method)\n",
    "  # check folder\n",
    "  if(is.null(out.folder)){\n",
    "    out.folder = getwd()\n",
    "  }\n",
    "  if(! dir.exists(out.folder)){\n",
    "    message(out.folder, \" does not exist, create automatically!\")\n",
    "    dir.create(path = out.folder, showWarnings = FALSE)\n",
    "  }\n",
    "  # out name\n",
    "  out.name = deparse(substitute(sce.obj))\n",
    "  # conversion\n",
    "  if(method == \"sceasy\"){\n",
    "    if(is.null(out.filename)){\n",
    "      sceasy.out.name = file.path(out.folder, paste0(out.name, \"_sceasy.h5ad\"))\n",
    "    }else{\n",
    "      sceasy.out.name = file.path(out.folder, out.filename)\n",
    "    }\n",
    "    sceasy.log = tryCatch(\n",
    "      {\n",
    "        # reticulate::use_condaenv(\"/Applications/anaconda3\", required = TRUE)\n",
    "        # or set RETICULATE_PYTHON = \"/Applications/anaconda3/bin/python\" in Renvion\n",
    "        sceasy::convertFormat(sce.obj, from=\"sce\", to=\"anndata\", drop_single_values = FALSE,\n",
    "                              outFile=sceasy.out.name, main_layer = slot)\n",
    "      },\n",
    "      error = function(cond) {\n",
    "        message(\"There is an error when using sceasy: \", cond)\n",
    "      }\n",
    "    )\n",
    "    return(sceasy.log)\n",
    "  }else if(method == \"scDIOR\"){\n",
    "    if(is.null(out.filename)){\n",
    "      scdior.out.name = file.path(out.folder, paste0(out.name, \"_scDIOR.h5\"))\n",
    "    }else{\n",
    "      scdior.out.name = file.path(out.folder, out.filename)\n",
    "    }\n",
    "    scdior.log = tryCatch(\n",
    "      {\n",
    "        dior::write_h5(data = sce.obj, object.type = \"singlecellexperiment\",\n",
    "                       file = scdior.out.name)\n",
    "        # adata = diopy.input.read_h5(file = 'pbmc3k.sce.h5') # require diopy to load h5 to AnnData\n",
    "      },\n",
    "      error = function(cond) {\n",
    "        message(\"There is an error when using scDIOR: \", cond)\n",
    "      }\n",
    "    )\n",
    "    return(scdior.log)\n",
    "  }else if(method == \"zellkonverter\"){\n",
    "    if(is.null(out.filename)){\n",
    "      zell.out.name = file.path(out.folder, paste0(out.name, \"_zellkonverter.h5ad\"))\n",
    "    }else{\n",
    "      zell.out.name = file.path(out.folder, out.filename)\n",
    "    }\n",
    "    zell.log = tryCatch(\n",
    "      {\n",
    "        anndata <- reticulate::import(\"anndata\")\n",
    "        adata <- zellkonverter::SCE2AnnData(sce.obj, X_name = slot)\n",
    "        adata$write_h5ad(zell.out.name)\n",
    "      },\n",
    "      error = function(cond) {\n",
    "        message(\"There is an error when using zellkonverter: \", cond)\n",
    "      }\n",
    "    )\n",
    "    return(zell.log)\n",
    "  }\n",
    "}"
   ]
  },
  {
   "cell_type": "markdown",
   "metadata": {},
   "source": [
    "## sceasy"
   ]
  },
  {
   "cell_type": "markdown",
   "metadata": {},
   "source": [
    "**Retained information** (`SingleCellExperiemnt -> AnnData`):\n",
    "\n",
    "   * count matrix: log-normalized data/scaled data/raw count matrix (`logcounts/scale.data/rawcounts -> X`) (`slot` parameter)\n",
    "   * cells' meta-information (`colData -> obs`)\n",
    "   * annotation of features and feature loadings (`rowData -> var`)\n",
    "   * dimensional reduction results (`reducedDim -> obsm`)"
   ]
  },
  {
   "cell_type": "code",
   "execution_count": 202,
   "metadata": {
    "ExecuteTime": {
     "end_time": "2024-12-21T15:54:35.541673Z",
     "start_time": "2024-12-21T15:54:34.315785Z"
    }
   },
   "outputs": [
    {
     "name": "stderr",
     "output_type": "stream",
     "text": [
      "/Applications/anaconda3/lib/python3.7/site-packages/rpy2/rinterface.py:807: FutureWarning: X.dtype being converted to np.float32 from float64. In the next version of anndata (0.9) conversion will not be automatic. Pass dtype explicitly to avoid this warning. Pass `AnnData(X, dtype=X.dtype, ...)` to get the future behavour.\n",
      "  error_occured)\n"
     ]
    },
    {
     "name": "stdout",
     "output_type": "stream",
     "text": [
      "AnnData object with n_obs × n_vars = 2638 × 1838\n",
      "    obs: 'n_genes', 'n_genes_by_counts', 'total_counts', 'total_counts_mt', 'pct_counts_mt', 'leiden'\n",
      "    var: 'gene_ids', 'n_cells', 'mt', 'n_cells_by_counts', 'mean_counts', 'pct_dropout_by_counts', 'total_counts', 'highly_variable', 'means', 'dispersions', 'dispersions_norm', 'mean', 'std', 'varm.PCs.V1', 'varm.PCs.V2', 'varm.PCs.V3', 'varm.PCs.V4', 'varm.PCs.V5', 'varm.PCs.V6', 'varm.PCs.V7', 'varm.PCs.V8', 'varm.PCs.V9', 'varm.PCs.V10', 'varm.PCs.V11', 'varm.PCs.V12', 'varm.PCs.V13', 'varm.PCs.V14', 'varm.PCs.V15', 'varm.PCs.V16', 'varm.PCs.V17', 'varm.PCs.V18', 'varm.PCs.V19', 'varm.PCs.V20', 'varm.PCs.V21', 'varm.PCs.V22', 'varm.PCs.V23', 'varm.PCs.V24', 'varm.PCs.V25', 'varm.PCs.V26', 'varm.PCs.V27', 'varm.PCs.V28', 'varm.PCs.V29', 'varm.PCs.V30', 'varm.PCs.V31', 'varm.PCs.V32', 'varm.PCs.V33', 'varm.PCs.V34', 'varm.PCs.V35', 'varm.PCs.V36', 'varm.PCs.V37', 'varm.PCs.V38', 'varm.PCs.V39', 'varm.PCs.V40', 'varm.PCs.V41', 'varm.PCs.V42', 'varm.PCs.V43', 'varm.PCs.V44', 'varm.PCs.V45', 'varm.PCs.V46', 'varm.PCs.V47', 'varm.PCs.V48', 'varm.PCs.V49', 'varm.PCs.V50'\n",
      "    obsm: 'X_x_pca', 'X_x_umap'\n"
     ]
    }
   ],
   "source": [
    "%%R\n",
    "# use raw count matrix\n",
    "SCE2AD(sce.obj = pbmc3k.sce, method = \"sceasy\", \n",
    "       out.folder = \"./\", slot = \"rawcounts\")"
   ]
  },
  {
   "cell_type": "code",
   "execution_count": 203,
   "metadata": {
    "ExecuteTime": {
     "end_time": "2024-12-21T15:54:35.804395Z",
     "start_time": "2024-12-21T15:54:35.544327Z"
    }
   },
   "outputs": [
    {
     "data": {
      "text/plain": [
       "AnnData object with n_obs × n_vars = 2638 × 1838\n",
       "    obs: 'n_genes', 'n_genes_by_counts', 'total_counts', 'total_counts_mt', 'pct_counts_mt', 'leiden'\n",
       "    var: 'gene_ids', 'n_cells', 'mt', 'n_cells_by_counts', 'mean_counts', 'pct_dropout_by_counts', 'total_counts', 'highly_variable', 'means', 'dispersions', 'dispersions_norm', 'mean', 'std', 'varm.PCs.V1', 'varm.PCs.V2', 'varm.PCs.V3', 'varm.PCs.V4', 'varm.PCs.V5', 'varm.PCs.V6', 'varm.PCs.V7', 'varm.PCs.V8', 'varm.PCs.V9', 'varm.PCs.V10', 'varm.PCs.V11', 'varm.PCs.V12', 'varm.PCs.V13', 'varm.PCs.V14', 'varm.PCs.V15', 'varm.PCs.V16', 'varm.PCs.V17', 'varm.PCs.V18', 'varm.PCs.V19', 'varm.PCs.V20', 'varm.PCs.V21', 'varm.PCs.V22', 'varm.PCs.V23', 'varm.PCs.V24', 'varm.PCs.V25', 'varm.PCs.V26', 'varm.PCs.V27', 'varm.PCs.V28', 'varm.PCs.V29', 'varm.PCs.V30', 'varm.PCs.V31', 'varm.PCs.V32', 'varm.PCs.V33', 'varm.PCs.V34', 'varm.PCs.V35', 'varm.PCs.V36', 'varm.PCs.V37', 'varm.PCs.V38', 'varm.PCs.V39', 'varm.PCs.V40', 'varm.PCs.V41', 'varm.PCs.V42', 'varm.PCs.V43', 'varm.PCs.V44', 'varm.PCs.V45', 'varm.PCs.V46', 'varm.PCs.V47', 'varm.PCs.V48', 'varm.PCs.V49', 'varm.PCs.V50'\n",
       "    obsm: 'X_x_pca', 'X_x_umap'"
      ]
     },
     "execution_count": 203,
     "metadata": {},
     "output_type": "execute_result"
    }
   ],
   "source": [
    "scesceasy_ann = sc.read(\"./pbmc3k.sce_sceasy.h5ad\")\n",
    "scesceasy_ann"
   ]
  },
  {
   "cell_type": "code",
   "execution_count": 204,
   "metadata": {
    "ExecuteTime": {
     "end_time": "2024-12-21T15:54:35.842198Z",
     "start_time": "2024-12-21T15:54:35.807166Z"
    }
   },
   "outputs": [
    {
     "data": {
      "text/plain": [
       "array([[0., 0., 0., ..., 0., 0., 0.],\n",
       "       [0., 0., 0., ..., 0., 0., 0.],\n",
       "       [0., 0., 0., ..., 0., 0., 1.],\n",
       "       ...,\n",
       "       [0., 0., 0., ..., 0., 0., 1.],\n",
       "       [0., 0., 0., ..., 0., 0., 0.],\n",
       "       [0., 0., 0., ..., 0., 0., 0.]], dtype=float32)"
      ]
     },
     "execution_count": 204,
     "metadata": {},
     "output_type": "execute_result"
    },
    {
     "data": {
      "text/plain": [
       "(2638, 1838)"
      ]
     },
     "execution_count": 204,
     "metadata": {},
     "output_type": "execute_result"
    }
   ],
   "source": [
    "# raw count matrix\n",
    "scesceasy_ann.X.toarray()\n",
    "# shape\n",
    "scesceasy_ann.X.shape"
   ]
  },
  {
   "cell_type": "code",
   "execution_count": 205,
   "metadata": {
    "ExecuteTime": {
     "end_time": "2024-12-21T15:54:35.870844Z",
     "start_time": "2024-12-21T15:54:35.844849Z"
    }
   },
   "outputs": [
    {
     "data": {
      "text/html": [
       "<div>\n",
       "<style scoped>\n",
       "    .dataframe tbody tr th:only-of-type {\n",
       "        vertical-align: middle;\n",
       "    }\n",
       "\n",
       "    .dataframe tbody tr th {\n",
       "        vertical-align: top;\n",
       "    }\n",
       "\n",
       "    .dataframe thead th {\n",
       "        text-align: right;\n",
       "    }\n",
       "</style>\n",
       "<table border=\"1\" class=\"dataframe\">\n",
       "  <thead>\n",
       "    <tr style=\"text-align: right;\">\n",
       "      <th></th>\n",
       "      <th>n_genes</th>\n",
       "      <th>n_genes_by_counts</th>\n",
       "      <th>total_counts</th>\n",
       "      <th>total_counts_mt</th>\n",
       "      <th>pct_counts_mt</th>\n",
       "      <th>leiden</th>\n",
       "    </tr>\n",
       "  </thead>\n",
       "  <tbody>\n",
       "    <tr>\n",
       "      <th>AAACATACAACCAC-1</th>\n",
       "      <td>781.0</td>\n",
       "      <td>779</td>\n",
       "      <td>2419.0</td>\n",
       "      <td>73.0</td>\n",
       "      <td>3.017776</td>\n",
       "      <td>0</td>\n",
       "    </tr>\n",
       "    <tr>\n",
       "      <th>AAACATTGAGCTAC-1</th>\n",
       "      <td>1352.0</td>\n",
       "      <td>1352</td>\n",
       "      <td>4903.0</td>\n",
       "      <td>186.0</td>\n",
       "      <td>3.793596</td>\n",
       "      <td>2</td>\n",
       "    </tr>\n",
       "    <tr>\n",
       "      <th>AAACATTGATCAGC-1</th>\n",
       "      <td>1131.0</td>\n",
       "      <td>1129</td>\n",
       "      <td>3147.0</td>\n",
       "      <td>28.0</td>\n",
       "      <td>0.889736</td>\n",
       "      <td>0</td>\n",
       "    </tr>\n",
       "    <tr>\n",
       "      <th>AAACCGTGCTTCCG-1</th>\n",
       "      <td>960.0</td>\n",
       "      <td>960</td>\n",
       "      <td>2639.0</td>\n",
       "      <td>46.0</td>\n",
       "      <td>1.743085</td>\n",
       "      <td>4</td>\n",
       "    </tr>\n",
       "    <tr>\n",
       "      <th>AAACCGTGTATGCG-1</th>\n",
       "      <td>522.0</td>\n",
       "      <td>521</td>\n",
       "      <td>980.0</td>\n",
       "      <td>12.0</td>\n",
       "      <td>1.224490</td>\n",
       "      <td>5</td>\n",
       "    </tr>\n",
       "  </tbody>\n",
       "</table>\n",
       "</div>"
      ],
      "text/plain": [
       "                  n_genes  n_genes_by_counts  total_counts  total_counts_mt  \\\n",
       "AAACATACAACCAC-1    781.0                779        2419.0             73.0   \n",
       "AAACATTGAGCTAC-1   1352.0               1352        4903.0            186.0   \n",
       "AAACATTGATCAGC-1   1131.0               1129        3147.0             28.0   \n",
       "AAACCGTGCTTCCG-1    960.0                960        2639.0             46.0   \n",
       "AAACCGTGTATGCG-1    522.0                521         980.0             12.0   \n",
       "\n",
       "                  pct_counts_mt leiden  \n",
       "AAACATACAACCAC-1       3.017776      0  \n",
       "AAACATTGAGCTAC-1       3.793596      2  \n",
       "AAACATTGATCAGC-1       0.889736      0  \n",
       "AAACCGTGCTTCCG-1       1.743085      4  \n",
       "AAACCGTGTATGCG-1       1.224490      5  "
      ]
     },
     "execution_count": 205,
     "metadata": {},
     "output_type": "execute_result"
    }
   ],
   "source": [
    "# cells' meta-information\n",
    "scesceasy_ann.obs.head()"
   ]
  },
  {
   "cell_type": "code",
   "execution_count": 206,
   "metadata": {
    "ExecuteTime": {
     "end_time": "2024-12-21T15:54:35.951815Z",
     "start_time": "2024-12-21T15:54:35.874195Z"
    }
   },
   "outputs": [
    {
     "data": {
      "text/html": [
       "<div>\n",
       "<style scoped>\n",
       "    .dataframe tbody tr th:only-of-type {\n",
       "        vertical-align: middle;\n",
       "    }\n",
       "\n",
       "    .dataframe tbody tr th {\n",
       "        vertical-align: top;\n",
       "    }\n",
       "\n",
       "    .dataframe thead th {\n",
       "        text-align: right;\n",
       "    }\n",
       "</style>\n",
       "<table border=\"1\" class=\"dataframe\">\n",
       "  <thead>\n",
       "    <tr style=\"text-align: right;\">\n",
       "      <th></th>\n",
       "      <th>gene_ids</th>\n",
       "      <th>n_cells</th>\n",
       "      <th>mt</th>\n",
       "      <th>n_cells_by_counts</th>\n",
       "      <th>mean_counts</th>\n",
       "      <th>pct_dropout_by_counts</th>\n",
       "      <th>total_counts</th>\n",
       "      <th>highly_variable</th>\n",
       "      <th>means</th>\n",
       "      <th>dispersions</th>\n",
       "      <th>...</th>\n",
       "      <th>varm.PCs.V41</th>\n",
       "      <th>varm.PCs.V42</th>\n",
       "      <th>varm.PCs.V43</th>\n",
       "      <th>varm.PCs.V44</th>\n",
       "      <th>varm.PCs.V45</th>\n",
       "      <th>varm.PCs.V46</th>\n",
       "      <th>varm.PCs.V47</th>\n",
       "      <th>varm.PCs.V48</th>\n",
       "      <th>varm.PCs.V49</th>\n",
       "      <th>varm.PCs.V50</th>\n",
       "    </tr>\n",
       "  </thead>\n",
       "  <tbody>\n",
       "    <tr>\n",
       "      <th>TNFRSF4</th>\n",
       "      <td>ENSG00000186827</td>\n",
       "      <td>155.0</td>\n",
       "      <td>False</td>\n",
       "      <td>155.0</td>\n",
       "      <td>0.077407</td>\n",
       "      <td>94.259259</td>\n",
       "      <td>209.0</td>\n",
       "      <td>True</td>\n",
       "      <td>0.277410</td>\n",
       "      <td>2.086050</td>\n",
       "      <td>...</td>\n",
       "      <td>0.002325</td>\n",
       "      <td>-0.040325</td>\n",
       "      <td>0.038295</td>\n",
       "      <td>0.023172</td>\n",
       "      <td>0.045645</td>\n",
       "      <td>0.043366</td>\n",
       "      <td>0.004316</td>\n",
       "      <td>-0.005188</td>\n",
       "      <td>0.014497</td>\n",
       "      <td>-0.000667</td>\n",
       "    </tr>\n",
       "    <tr>\n",
       "      <th>CPSF3L</th>\n",
       "      <td>ENSG00000127054</td>\n",
       "      <td>202.0</td>\n",
       "      <td>False</td>\n",
       "      <td>202.0</td>\n",
       "      <td>0.094815</td>\n",
       "      <td>92.518519</td>\n",
       "      <td>256.0</td>\n",
       "      <td>True</td>\n",
       "      <td>0.385194</td>\n",
       "      <td>4.506987</td>\n",
       "      <td>...</td>\n",
       "      <td>0.041707</td>\n",
       "      <td>-0.021910</td>\n",
       "      <td>0.017430</td>\n",
       "      <td>0.002010</td>\n",
       "      <td>-0.014974</td>\n",
       "      <td>0.021934</td>\n",
       "      <td>0.002236</td>\n",
       "      <td>0.030873</td>\n",
       "      <td>-0.008870</td>\n",
       "      <td>-0.002881</td>\n",
       "    </tr>\n",
       "    <tr>\n",
       "      <th>ATAD3C</th>\n",
       "      <td>ENSG00000215915</td>\n",
       "      <td>9.0</td>\n",
       "      <td>False</td>\n",
       "      <td>9.0</td>\n",
       "      <td>0.009259</td>\n",
       "      <td>99.666667</td>\n",
       "      <td>25.0</td>\n",
       "      <td>True</td>\n",
       "      <td>0.038252</td>\n",
       "      <td>3.953486</td>\n",
       "      <td>...</td>\n",
       "      <td>-0.001872</td>\n",
       "      <td>0.006610</td>\n",
       "      <td>-0.003863</td>\n",
       "      <td>-0.005954</td>\n",
       "      <td>0.000394</td>\n",
       "      <td>0.010592</td>\n",
       "      <td>-0.009244</td>\n",
       "      <td>0.010148</td>\n",
       "      <td>-0.000530</td>\n",
       "      <td>0.001508</td>\n",
       "    </tr>\n",
       "    <tr>\n",
       "      <th>C1orf86</th>\n",
       "      <td>ENSG00000162585</td>\n",
       "      <td>501.0</td>\n",
       "      <td>False</td>\n",
       "      <td>501.0</td>\n",
       "      <td>0.227778</td>\n",
       "      <td>81.444444</td>\n",
       "      <td>615.0</td>\n",
       "      <td>True</td>\n",
       "      <td>0.678283</td>\n",
       "      <td>2.713522</td>\n",
       "      <td>...</td>\n",
       "      <td>0.001046</td>\n",
       "      <td>0.001486</td>\n",
       "      <td>-0.019350</td>\n",
       "      <td>0.021935</td>\n",
       "      <td>-0.028314</td>\n",
       "      <td>0.050388</td>\n",
       "      <td>-0.021616</td>\n",
       "      <td>0.028711</td>\n",
       "      <td>-0.018219</td>\n",
       "      <td>-0.027101</td>\n",
       "    </tr>\n",
       "    <tr>\n",
       "      <th>RER1</th>\n",
       "      <td>ENSG00000157916</td>\n",
       "      <td>608.0</td>\n",
       "      <td>False</td>\n",
       "      <td>608.0</td>\n",
       "      <td>0.298148</td>\n",
       "      <td>77.481481</td>\n",
       "      <td>805.0</td>\n",
       "      <td>True</td>\n",
       "      <td>0.814813</td>\n",
       "      <td>3.447533</td>\n",
       "      <td>...</td>\n",
       "      <td>0.003501</td>\n",
       "      <td>0.022283</td>\n",
       "      <td>0.002127</td>\n",
       "      <td>0.015502</td>\n",
       "      <td>-0.026489</td>\n",
       "      <td>0.007630</td>\n",
       "      <td>-0.008917</td>\n",
       "      <td>0.004199</td>\n",
       "      <td>-0.017951</td>\n",
       "      <td>0.024898</td>\n",
       "    </tr>\n",
       "  </tbody>\n",
       "</table>\n",
       "<p>5 rows × 63 columns</p>\n",
       "</div>"
      ],
      "text/plain": [
       "                gene_ids  n_cells     mt  n_cells_by_counts  mean_counts  \\\n",
       "TNFRSF4  ENSG00000186827    155.0  False              155.0     0.077407   \n",
       "CPSF3L   ENSG00000127054    202.0  False              202.0     0.094815   \n",
       "ATAD3C   ENSG00000215915      9.0  False                9.0     0.009259   \n",
       "C1orf86  ENSG00000162585    501.0  False              501.0     0.227778   \n",
       "RER1     ENSG00000157916    608.0  False              608.0     0.298148   \n",
       "\n",
       "         pct_dropout_by_counts  total_counts  highly_variable     means  \\\n",
       "TNFRSF4              94.259259         209.0             True  0.277410   \n",
       "CPSF3L               92.518519         256.0             True  0.385194   \n",
       "ATAD3C               99.666667          25.0             True  0.038252   \n",
       "C1orf86              81.444444         615.0             True  0.678283   \n",
       "RER1                 77.481481         805.0             True  0.814813   \n",
       "\n",
       "         dispersions  ...  varm.PCs.V41  varm.PCs.V42  varm.PCs.V43  \\\n",
       "TNFRSF4     2.086050  ...      0.002325     -0.040325      0.038295   \n",
       "CPSF3L      4.506987  ...      0.041707     -0.021910      0.017430   \n",
       "ATAD3C      3.953486  ...     -0.001872      0.006610     -0.003863   \n",
       "C1orf86     2.713522  ...      0.001046      0.001486     -0.019350   \n",
       "RER1        3.447533  ...      0.003501      0.022283      0.002127   \n",
       "\n",
       "         varm.PCs.V44  varm.PCs.V45  varm.PCs.V46  varm.PCs.V47  varm.PCs.V48  \\\n",
       "TNFRSF4      0.023172      0.045645      0.043366      0.004316     -0.005188   \n",
       "CPSF3L       0.002010     -0.014974      0.021934      0.002236      0.030873   \n",
       "ATAD3C      -0.005954      0.000394      0.010592     -0.009244      0.010148   \n",
       "C1orf86      0.021935     -0.028314      0.050388     -0.021616      0.028711   \n",
       "RER1         0.015502     -0.026489      0.007630     -0.008917      0.004199   \n",
       "\n",
       "         varm.PCs.V49  varm.PCs.V50  \n",
       "TNFRSF4      0.014497     -0.000667  \n",
       "CPSF3L      -0.008870     -0.002881  \n",
       "ATAD3C      -0.000530      0.001508  \n",
       "C1orf86     -0.018219     -0.027101  \n",
       "RER1        -0.017951      0.024898  \n",
       "\n",
       "[5 rows x 63 columns]"
      ]
     },
     "execution_count": 206,
     "metadata": {},
     "output_type": "execute_result"
    },
    {
     "data": {
      "text/plain": [
       "(1838, 63)"
      ]
     },
     "execution_count": 206,
     "metadata": {},
     "output_type": "execute_result"
    }
   ],
   "source": [
    "# annotation of features and cell loadings (varm.PCs.V41...)\n",
    "scesceasy_ann.var.head()\n",
    "# shape\n",
    "scesceasy_ann.var.shape"
   ]
  },
  {
   "cell_type": "code",
   "execution_count": 207,
   "metadata": {
    "ExecuteTime": {
     "end_time": "2024-12-21T15:54:35.962981Z",
     "start_time": "2024-12-21T15:54:35.954605Z"
    }
   },
   "outputs": [
    {
     "data": {
      "text/plain": [
       "array([[-5.55622101, -0.25772715,  0.18679433, -2.80009699,  0.05072495],\n",
       "       [-7.20952702, -7.4820013 , -0.16271746,  8.01851654, -3.00661612],\n",
       "       [-2.69443727,  1.58366168,  0.66312349, -2.20564294,  1.78901792],\n",
       "       [10.1432972 ,  1.36853468, -1.20982373,  0.70006967,  2.90616465],\n",
       "       [ 1.11281347,  8.15279865, -1.33235252,  4.252491  , -1.96318078]])"
      ]
     },
     "execution_count": 207,
     "metadata": {},
     "output_type": "execute_result"
    },
    {
     "data": {
      "text/plain": [
       "array([[ 7.90665722,  3.55609107],\n",
       "       [ 9.24834824, 12.54433155],\n",
       "       [ 7.62998581,  3.83478546],\n",
       "       [ 0.13157795,  5.53973913],\n",
       "       [10.05534077, -0.64742917]])"
      ]
     },
     "execution_count": 207,
     "metadata": {},
     "output_type": "execute_result"
    }
   ],
   "source": [
    "# dimensional reduction results of pca\n",
    "scesceasy_ann.obsm['X_x_pca'][0:5, 0:5]\n",
    "# dimensional reduction results of umap\n",
    "scesceasy_ann.obsm['X_x_umap'][0:5, 0:2]"
   ]
  },
  {
   "cell_type": "markdown",
   "metadata": {},
   "source": [
    "## zellkonverter"
   ]
  },
  {
   "cell_type": "markdown",
   "metadata": {},
   "source": [
    "**Retained information** (`SingleCellExperiemnt -> AnnData`):\n",
    "\n",
    "   * count matrix (`slot = \"rawcounts\"`): raw count matrix (`rawcounts -> X`), log-normalized data (`logcounts -> layers['logcounts']`), scaled count matrix (`scale.data -> layers['scale.data']`)\n",
    "   * cells' meta-information (`colData -> obs`)\n",
    "   * annotation of features (`rowData -> var`)\n",
    "   * dimensional reduction results (`reducedDim -> obsm`)\n",
    "   * relationship of cells, graphs (`colPairs -> obsp`)\n",
    "   * unstructured annotation (`metadata -> uns`)\n",
    "   * feature loadings (`rowData -> varm`)"
   ]
  },
  {
   "cell_type": "code",
   "execution_count": 208,
   "metadata": {
    "ExecuteTime": {
     "end_time": "2024-12-21T15:54:37.781824Z",
     "start_time": "2024-12-21T15:54:35.965918Z"
    }
   },
   "outputs": [
    {
     "name": "stdout",
     "output_type": "stream",
     "text": [
      "NULL\n"
     ]
    }
   ],
   "source": [
    "%%R\n",
    "# save rawcounts to X\n",
    "SCE2AD(sce.obj = pbmc3k.sce, method = \"zellkonverter\", \n",
    "       out.folder = \"./\", slot = \"rawcounts\")"
   ]
  },
  {
   "cell_type": "code",
   "execution_count": 209,
   "metadata": {
    "ExecuteTime": {
     "end_time": "2024-12-21T15:54:37.992804Z",
     "start_time": "2024-12-21T15:54:37.784781Z"
    }
   },
   "outputs": [
    {
     "data": {
      "text/plain": [
       "AnnData object with n_obs × n_vars = 2638 × 1838\n",
       "    obs: 'n_genes', 'n_genes_by_counts', 'total_counts', 'total_counts_mt', 'pct_counts_mt', 'leiden'\n",
       "    var: 'gene_ids', 'n_cells', 'mt', 'n_cells_by_counts', 'mean_counts', 'pct_dropout_by_counts', 'total_counts', 'highly_variable', 'means', 'dispersions', 'dispersions_norm', 'mean', 'std'\n",
       "    uns: 'X_name', 'hvg', 'leiden', 'log1p', 'neighbors', 'pca', 'rank_genes_groups', 'umap'\n",
       "    obsm: 'X_pca', 'X_umap'\n",
       "    varm: 'PCs'\n",
       "    layers: 'logcounts', 'scale.data'\n",
       "    obsp: 'connectivities', 'distances'"
      ]
     },
     "execution_count": 209,
     "metadata": {},
     "output_type": "execute_result"
    }
   ],
   "source": [
    "scezell_ann = sc.read(\"./pbmc3k.sce_zellkonverter.h5ad\")\n",
    "scezell_ann"
   ]
  },
  {
   "cell_type": "code",
   "execution_count": 210,
   "metadata": {
    "ExecuteTime": {
     "end_time": "2024-12-21T15:54:38.144200Z",
     "start_time": "2024-12-21T15:54:38.001698Z"
    }
   },
   "outputs": [
    {
     "data": {
      "text/plain": [
       "array([[0., 0., 0., ..., 0., 0., 0.],\n",
       "       [0., 0., 0., ..., 0., 0., 0.],\n",
       "       [0., 0., 0., ..., 0., 0., 1.],\n",
       "       ...,\n",
       "       [0., 0., 0., ..., 0., 0., 1.],\n",
       "       [0., 0., 0., ..., 0., 0., 0.],\n",
       "       [0., 0., 0., ..., 0., 0., 0.]])"
      ]
     },
     "execution_count": 210,
     "metadata": {},
     "output_type": "execute_result"
    }
   ],
   "source": [
    "# raw count matrix\n",
    "scezell_ann.X.toarray()"
   ]
  },
  {
   "cell_type": "code",
   "execution_count": 211,
   "metadata": {
    "ExecuteTime": {
     "end_time": "2024-12-21T15:54:38.208693Z",
     "start_time": "2024-12-21T15:54:38.150236Z"
    }
   },
   "outputs": [
    {
     "data": {
      "text/plain": [
       "array([[0.        , 0.        , 0.        , ..., 0.        , 0.        ,\n",
       "        0.        ],\n",
       "       [0.        , 0.        , 0.        , ..., 0.        , 0.        ,\n",
       "        0.        ],\n",
       "       [0.        , 0.        , 0.        , ..., 0.        , 0.        ,\n",
       "        1.42974401],\n",
       "       ...,\n",
       "       [0.        , 0.        , 0.        , ..., 0.        , 0.        ,\n",
       "        1.93704844],\n",
       "       [0.        , 0.        , 0.        , ..., 0.        , 0.        ,\n",
       "        0.        ],\n",
       "       [0.        , 0.        , 0.        , ..., 0.        , 0.        ,\n",
       "        0.        ]])"
      ]
     },
     "execution_count": 211,
     "metadata": {},
     "output_type": "execute_result"
    }
   ],
   "source": [
    "# log-normalized count matrix\n",
    "scezell_ann.layers['logcounts'].toarray()"
   ]
  },
  {
   "cell_type": "code",
   "execution_count": 212,
   "metadata": {
    "ExecuteTime": {
     "end_time": "2024-12-21T15:54:38.221323Z",
     "start_time": "2024-12-21T15:54:38.213053Z"
    }
   },
   "outputs": [
    {
     "data": {
      "text/plain": [
       "array([[-0.17146961, -0.28081229, -0.04667677, ..., -0.09826882,\n",
       "        -0.20909512, -0.53120333],\n",
       "       [-0.21458235, -0.37265328, -0.05480441, ..., -0.266844  ,\n",
       "        -0.31314582, -0.5966543 ],\n",
       "       [-0.37688771, -0.29508454, -0.05752748, ..., -0.15865591,\n",
       "        -0.17087644,  1.37899971],\n",
       "       ...,\n",
       "       [-0.20708963, -0.2504642 , -0.04639699, ..., -0.05114426,\n",
       "        -0.16106427,  2.04149699],\n",
       "       [-0.19032849, -0.2263338 , -0.04399936, ..., -0.00591774,\n",
       "        -0.13521305, -0.48211104],\n",
       "       [-0.33378935, -0.25358772, -0.05271561, ..., -0.07842438,\n",
       "        -0.13032718, -0.47133783]])"
      ]
     },
     "execution_count": 212,
     "metadata": {},
     "output_type": "execute_result"
    }
   ],
   "source": [
    "# scaled count matrix\n",
    "scezell_ann.layers['scale.data']"
   ]
  },
  {
   "cell_type": "code",
   "execution_count": 213,
   "metadata": {
    "ExecuteTime": {
     "end_time": "2024-12-21T15:54:38.238766Z",
     "start_time": "2024-12-21T15:54:38.225136Z"
    }
   },
   "outputs": [
    {
     "data": {
      "text/html": [
       "<div>\n",
       "<style scoped>\n",
       "    .dataframe tbody tr th:only-of-type {\n",
       "        vertical-align: middle;\n",
       "    }\n",
       "\n",
       "    .dataframe tbody tr th {\n",
       "        vertical-align: top;\n",
       "    }\n",
       "\n",
       "    .dataframe thead th {\n",
       "        text-align: right;\n",
       "    }\n",
       "</style>\n",
       "<table border=\"1\" class=\"dataframe\">\n",
       "  <thead>\n",
       "    <tr style=\"text-align: right;\">\n",
       "      <th></th>\n",
       "      <th>n_genes</th>\n",
       "      <th>n_genes_by_counts</th>\n",
       "      <th>total_counts</th>\n",
       "      <th>total_counts_mt</th>\n",
       "      <th>pct_counts_mt</th>\n",
       "      <th>leiden</th>\n",
       "    </tr>\n",
       "  </thead>\n",
       "  <tbody>\n",
       "    <tr>\n",
       "      <th>AAACATACAACCAC-1</th>\n",
       "      <td>781.0</td>\n",
       "      <td>779</td>\n",
       "      <td>2419.0</td>\n",
       "      <td>73.0</td>\n",
       "      <td>3.017776</td>\n",
       "      <td>0</td>\n",
       "    </tr>\n",
       "    <tr>\n",
       "      <th>AAACATTGAGCTAC-1</th>\n",
       "      <td>1352.0</td>\n",
       "      <td>1352</td>\n",
       "      <td>4903.0</td>\n",
       "      <td>186.0</td>\n",
       "      <td>3.793596</td>\n",
       "      <td>2</td>\n",
       "    </tr>\n",
       "    <tr>\n",
       "      <th>AAACATTGATCAGC-1</th>\n",
       "      <td>1131.0</td>\n",
       "      <td>1129</td>\n",
       "      <td>3147.0</td>\n",
       "      <td>28.0</td>\n",
       "      <td>0.889736</td>\n",
       "      <td>0</td>\n",
       "    </tr>\n",
       "    <tr>\n",
       "      <th>AAACCGTGCTTCCG-1</th>\n",
       "      <td>960.0</td>\n",
       "      <td>960</td>\n",
       "      <td>2639.0</td>\n",
       "      <td>46.0</td>\n",
       "      <td>1.743085</td>\n",
       "      <td>4</td>\n",
       "    </tr>\n",
       "    <tr>\n",
       "      <th>AAACCGTGTATGCG-1</th>\n",
       "      <td>522.0</td>\n",
       "      <td>521</td>\n",
       "      <td>980.0</td>\n",
       "      <td>12.0</td>\n",
       "      <td>1.224490</td>\n",
       "      <td>5</td>\n",
       "    </tr>\n",
       "  </tbody>\n",
       "</table>\n",
       "</div>"
      ],
      "text/plain": [
       "                  n_genes  n_genes_by_counts  total_counts  total_counts_mt  \\\n",
       "AAACATACAACCAC-1    781.0                779        2419.0             73.0   \n",
       "AAACATTGAGCTAC-1   1352.0               1352        4903.0            186.0   \n",
       "AAACATTGATCAGC-1   1131.0               1129        3147.0             28.0   \n",
       "AAACCGTGCTTCCG-1    960.0                960        2639.0             46.0   \n",
       "AAACCGTGTATGCG-1    522.0                521         980.0             12.0   \n",
       "\n",
       "                  pct_counts_mt leiden  \n",
       "AAACATACAACCAC-1       3.017776      0  \n",
       "AAACATTGAGCTAC-1       3.793596      2  \n",
       "AAACATTGATCAGC-1       0.889736      0  \n",
       "AAACCGTGCTTCCG-1       1.743085      4  \n",
       "AAACCGTGTATGCG-1       1.224490      5  "
      ]
     },
     "execution_count": 213,
     "metadata": {},
     "output_type": "execute_result"
    }
   ],
   "source": [
    "# cells' meta-information\n",
    "scezell_ann.obs.head()"
   ]
  },
  {
   "cell_type": "code",
   "execution_count": 214,
   "metadata": {
    "ExecuteTime": {
     "end_time": "2024-12-21T15:54:38.265408Z",
     "start_time": "2024-12-21T15:54:38.241241Z"
    }
   },
   "outputs": [
    {
     "data": {
      "text/html": [
       "<div>\n",
       "<style scoped>\n",
       "    .dataframe tbody tr th:only-of-type {\n",
       "        vertical-align: middle;\n",
       "    }\n",
       "\n",
       "    .dataframe tbody tr th {\n",
       "        vertical-align: top;\n",
       "    }\n",
       "\n",
       "    .dataframe thead th {\n",
       "        text-align: right;\n",
       "    }\n",
       "</style>\n",
       "<table border=\"1\" class=\"dataframe\">\n",
       "  <thead>\n",
       "    <tr style=\"text-align: right;\">\n",
       "      <th></th>\n",
       "      <th>gene_ids</th>\n",
       "      <th>n_cells</th>\n",
       "      <th>mt</th>\n",
       "      <th>n_cells_by_counts</th>\n",
       "      <th>mean_counts</th>\n",
       "      <th>pct_dropout_by_counts</th>\n",
       "      <th>total_counts</th>\n",
       "      <th>highly_variable</th>\n",
       "      <th>means</th>\n",
       "      <th>dispersions</th>\n",
       "      <th>dispersions_norm</th>\n",
       "      <th>mean</th>\n",
       "      <th>std</th>\n",
       "    </tr>\n",
       "  </thead>\n",
       "  <tbody>\n",
       "    <tr>\n",
       "      <th>TNFRSF4</th>\n",
       "      <td>ENSG00000186827</td>\n",
       "      <td>155.0</td>\n",
       "      <td>False</td>\n",
       "      <td>155.0</td>\n",
       "      <td>0.077407</td>\n",
       "      <td>94.259259</td>\n",
       "      <td>209.0</td>\n",
       "      <td>True</td>\n",
       "      <td>0.277410</td>\n",
       "      <td>2.086050</td>\n",
       "      <td>0.665406</td>\n",
       "      <td>-3.672069e-10</td>\n",
       "      <td>0.424481</td>\n",
       "    </tr>\n",
       "    <tr>\n",
       "      <th>CPSF3L</th>\n",
       "      <td>ENSG00000127054</td>\n",
       "      <td>202.0</td>\n",
       "      <td>False</td>\n",
       "      <td>202.0</td>\n",
       "      <td>0.094815</td>\n",
       "      <td>92.518519</td>\n",
       "      <td>256.0</td>\n",
       "      <td>True</td>\n",
       "      <td>0.385194</td>\n",
       "      <td>4.506987</td>\n",
       "      <td>2.955005</td>\n",
       "      <td>-2.372437e-10</td>\n",
       "      <td>0.460416</td>\n",
       "    </tr>\n",
       "    <tr>\n",
       "      <th>ATAD3C</th>\n",
       "      <td>ENSG00000215915</td>\n",
       "      <td>9.0</td>\n",
       "      <td>False</td>\n",
       "      <td>9.0</td>\n",
       "      <td>0.009259</td>\n",
       "      <td>99.666667</td>\n",
       "      <td>25.0</td>\n",
       "      <td>True</td>\n",
       "      <td>0.038252</td>\n",
       "      <td>3.953486</td>\n",
       "      <td>4.352607</td>\n",
       "      <td>8.472988e-12</td>\n",
       "      <td>0.119465</td>\n",
       "    </tr>\n",
       "    <tr>\n",
       "      <th>C1orf86</th>\n",
       "      <td>ENSG00000162585</td>\n",
       "      <td>501.0</td>\n",
       "      <td>False</td>\n",
       "      <td>501.0</td>\n",
       "      <td>0.227778</td>\n",
       "      <td>81.444444</td>\n",
       "      <td>615.0</td>\n",
       "      <td>True</td>\n",
       "      <td>0.678283</td>\n",
       "      <td>2.713522</td>\n",
       "      <td>0.543183</td>\n",
       "      <td>3.389195e-10</td>\n",
       "      <td>0.685145</td>\n",
       "    </tr>\n",
       "    <tr>\n",
       "      <th>RER1</th>\n",
       "      <td>ENSG00000157916</td>\n",
       "      <td>608.0</td>\n",
       "      <td>False</td>\n",
       "      <td>608.0</td>\n",
       "      <td>0.298148</td>\n",
       "      <td>77.481481</td>\n",
       "      <td>805.0</td>\n",
       "      <td>True</td>\n",
       "      <td>0.814813</td>\n",
       "      <td>3.447533</td>\n",
       "      <td>1.582528</td>\n",
       "      <td>7.696297e-11</td>\n",
       "      <td>0.736050</td>\n",
       "    </tr>\n",
       "  </tbody>\n",
       "</table>\n",
       "</div>"
      ],
      "text/plain": [
       "                gene_ids  n_cells     mt  n_cells_by_counts  mean_counts  \\\n",
       "TNFRSF4  ENSG00000186827    155.0  False              155.0     0.077407   \n",
       "CPSF3L   ENSG00000127054    202.0  False              202.0     0.094815   \n",
       "ATAD3C   ENSG00000215915      9.0  False                9.0     0.009259   \n",
       "C1orf86  ENSG00000162585    501.0  False              501.0     0.227778   \n",
       "RER1     ENSG00000157916    608.0  False              608.0     0.298148   \n",
       "\n",
       "         pct_dropout_by_counts  total_counts  highly_variable     means  \\\n",
       "TNFRSF4              94.259259         209.0             True  0.277410   \n",
       "CPSF3L               92.518519         256.0             True  0.385194   \n",
       "ATAD3C               99.666667          25.0             True  0.038252   \n",
       "C1orf86              81.444444         615.0             True  0.678283   \n",
       "RER1                 77.481481         805.0             True  0.814813   \n",
       "\n",
       "         dispersions  dispersions_norm          mean       std  \n",
       "TNFRSF4     2.086050          0.665406 -3.672069e-10  0.424481  \n",
       "CPSF3L      4.506987          2.955005 -2.372437e-10  0.460416  \n",
       "ATAD3C      3.953486          4.352607  8.472988e-12  0.119465  \n",
       "C1orf86     2.713522          0.543183  3.389195e-10  0.685145  \n",
       "RER1        3.447533          1.582528  7.696297e-11  0.736050  "
      ]
     },
     "execution_count": 214,
     "metadata": {},
     "output_type": "execute_result"
    },
    {
     "data": {
      "text/plain": [
       "(1838, 13)"
      ]
     },
     "execution_count": 214,
     "metadata": {},
     "output_type": "execute_result"
    }
   ],
   "source": [
    "# annotation of features\n",
    "scezell_ann.var.head()\n",
    "# shape\n",
    "scezell_ann.var.shape"
   ]
  },
  {
   "cell_type": "code",
   "execution_count": 215,
   "metadata": {
    "ExecuteTime": {
     "end_time": "2024-12-21T15:54:38.279027Z",
     "start_time": "2024-12-21T15:54:38.268674Z"
    }
   },
   "outputs": [
    {
     "data": {
      "text/plain": [
       "array([[-5.55622101, -0.25772715,  0.18679433, -2.80009699,  0.05072495],\n",
       "       [-7.20952702, -7.4820013 , -0.16271746,  8.01851654, -3.00661612],\n",
       "       [-2.69443727,  1.58366168,  0.66312349, -2.20564294,  1.78901792],\n",
       "       [10.1432972 ,  1.36853468, -1.20982373,  0.70006967,  2.90616465],\n",
       "       [ 1.11281347,  8.15279865, -1.33235252,  4.252491  , -1.96318078]])"
      ]
     },
     "execution_count": 215,
     "metadata": {},
     "output_type": "execute_result"
    },
    {
     "data": {
      "text/plain": [
       "array([[ 7.90665722,  3.55609107],\n",
       "       [ 9.24834824, 12.54433155],\n",
       "       [ 7.62998581,  3.83478546],\n",
       "       [ 0.13157795,  5.53973913],\n",
       "       [10.05534077, -0.64742917]])"
      ]
     },
     "execution_count": 215,
     "metadata": {},
     "output_type": "execute_result"
    }
   ],
   "source": [
    "# dimensional reduction results of pca\n",
    "scezell_ann.obsm['X_pca'][0:5, 0:5]\n",
    "# dimensional reduction results of umap\n",
    "scezell_ann.obsm['X_umap'][0:5, 0:2]"
   ]
  },
  {
   "cell_type": "code",
   "execution_count": 216,
   "metadata": {
    "ExecuteTime": {
     "end_time": "2024-12-21T15:54:38.285592Z",
     "start_time": "2024-12-21T15:54:38.281469Z"
    }
   },
   "outputs": [
    {
     "data": {
      "text/plain": [
       "dict_keys(['X_name', 'hvg', 'leiden', 'log1p', 'neighbors', 'pca', 'rank_genes_groups', 'umap'])"
      ]
     },
     "execution_count": 216,
     "metadata": {},
     "output_type": "execute_result"
    }
   ],
   "source": [
    "# unstructured annotation\n",
    "scezell_ann.uns.keys()"
   ]
  },
  {
   "cell_type": "code",
   "execution_count": 217,
   "metadata": {
    "ExecuteTime": {
     "end_time": "2024-12-21T15:54:38.293347Z",
     "start_time": "2024-12-21T15:54:38.288311Z"
    }
   },
   "outputs": [
    {
     "data": {
      "text/plain": [
       "array([32.11045456, 18.71865463, 15.60732937, 13.23528862,  4.80226898,\n",
       "        3.98593235,  3.52623272,  3.23344541,  3.12120867,  3.07526112,\n",
       "        2.99807477,  2.95952106,  2.95178485,  2.94424772,  2.913872  ,\n",
       "        2.89903021,  2.88068199,  2.86468506,  2.84306359,  2.83575082,\n",
       "        2.83142138,  2.81823635,  2.80355239,  2.79998732,  2.78895402,\n",
       "        2.77810097,  2.77057672,  2.76022053,  2.75386024,  2.74595523,\n",
       "        2.73718643,  2.73412681,  2.72220206,  2.71231079,  2.70247769,\n",
       "        2.70004725,  2.68385029,  2.67905068,  2.67690778,  2.67399454,\n",
       "        2.66485381,  2.65731144,  2.65117669,  2.64177561,  2.63297033,\n",
       "        2.6295197 ,  2.62452936,  2.61837602,  2.61800337,  2.60186577])"
      ]
     },
     "execution_count": 217,
     "metadata": {},
     "output_type": "execute_result"
    }
   ],
   "source": [
    "# pca variance\n",
    "scezell_ann.uns['pca']['variance']"
   ]
  },
  {
   "cell_type": "code",
   "execution_count": 218,
   "metadata": {
    "ExecuteTime": {
     "end_time": "2024-12-21T15:54:38.383850Z",
     "start_time": "2024-12-21T15:54:38.295743Z"
    }
   },
   "outputs": [
    {
     "data": {
      "text/plain": [
       "PairwiseArrays with keys: connectivities, distances"
      ]
     },
     "execution_count": 218,
     "metadata": {},
     "output_type": "execute_result"
    },
    {
     "data": {
      "text/plain": [
       "array([[0., 0., 0., ..., 0., 0., 0.],\n",
       "       [0., 0., 0., ..., 0., 0., 0.],\n",
       "       [0., 0., 0., ..., 0., 0., 0.],\n",
       "       ...,\n",
       "       [0., 0., 0., ..., 0., 0., 0.],\n",
       "       [0., 0., 0., ..., 0., 0., 0.],\n",
       "       [0., 0., 0., ..., 0., 0., 0.]])"
      ]
     },
     "execution_count": 218,
     "metadata": {},
     "output_type": "execute_result"
    },
    {
     "data": {
      "text/plain": [
       "array([[0., 0., 0., ..., 0., 0., 0.],\n",
       "       [0., 0., 0., ..., 0., 0., 0.],\n",
       "       [0., 0., 0., ..., 0., 0., 0.],\n",
       "       ...,\n",
       "       [0., 0., 0., ..., 0., 0., 0.],\n",
       "       [0., 0., 0., ..., 0., 0., 0.],\n",
       "       [0., 0., 0., ..., 0., 0., 0.]])"
      ]
     },
     "execution_count": 218,
     "metadata": {},
     "output_type": "execute_result"
    }
   ],
   "source": [
    "# relationship of cells, graphs\n",
    "scezell_ann.obsp\n",
    "# RNA_nn graph\n",
    "scezell_ann.obsp['distances'].toarray()\n",
    "# RNA_snn graph\n",
    "scezell_ann.obsp['connectivities'].toarray()"
   ]
  },
  {
   "cell_type": "code",
   "execution_count": 219,
   "metadata": {
    "ExecuteTime": {
     "end_time": "2024-12-21T15:54:38.395240Z",
     "start_time": "2024-12-21T15:54:38.387992Z"
    }
   },
   "outputs": [
    {
     "data": {
      "text/plain": [
       "array([[-2.60148179e-02,  3.25416843e-03,  1.89788977e-03, ...,\n",
       "        -5.18770702e-03,  1.44968908e-02, -6.67473301e-04],\n",
       "       [-8.27822462e-03,  9.08316299e-03, -7.81411130e-04, ...,\n",
       "         3.08727100e-02, -8.86981003e-03, -2.88053416e-03],\n",
       "       [-3.31518659e-03,  3.20968428e-03,  2.79858650e-04, ...,\n",
       "         1.01477914e-02, -5.30328136e-04,  1.50829612e-03],\n",
       "       ...,\n",
       "       [ 8.34176037e-03, -1.24651939e-03, -4.12195362e-03, ...,\n",
       "        -1.01806019e-02,  9.22558550e-03,  2.79657058e-02],\n",
       "       [-1.64065659e-02,  4.41013835e-02, -2.13347375e-05, ...,\n",
       "         9.99553967e-03, -4.50964272e-03, -1.36533342e-02],\n",
       "       [-1.51882619e-02,  4.00086790e-02,  5.41223399e-03, ...,\n",
       "        -3.72782419e-03,  2.11074371e-02,  3.59644145e-02]])"
      ]
     },
     "execution_count": 219,
     "metadata": {},
     "output_type": "execute_result"
    }
   ],
   "source": [
    "# feature loadings\n",
    "scezell_ann.varm['PCs']"
   ]
  },
  {
   "cell_type": "markdown",
   "metadata": {},
   "source": [
    "## scDIOR"
   ]
  },
  {
   "cell_type": "markdown",
   "metadata": {},
   "source": [
    "**Retained information** (`SingleCellExperiemnt -> AnnData`):\n",
    "\n",
    "   * count matrix: scaled data (`scale.data -> X`), log-normalized data (`logcounts -> layers['logcounts']`), raw count matrix (`rawcounts -> layers['rawcounts']`)\n",
    "   * cells' meta-information (`colData -> obs`)\n",
    "   * annotation of features (`rowData -> var`)\n",
    "   * dimensional reduction results (`reducedDim -> obsm`)\n",
    "   \n",
    "\n",
    "<mark>scDIOR requires diopy to read `.h5` file.</mark>"
   ]
  },
  {
   "cell_type": "code",
   "execution_count": 220,
   "metadata": {
    "ExecuteTime": {
     "end_time": "2024-12-21T15:54:46.000103Z",
     "start_time": "2024-12-21T15:54:38.401372Z"
    }
   },
   "outputs": [
    {
     "name": "stdout",
     "output_type": "stream",
     "text": [
      "[1] \"The first 'assayNames' defaults to 'X'\"\n",
      "[1] \"RNA\"\n"
     ]
    }
   ],
   "source": [
    "%%R\n",
    "# scDIOR does not support varm in rowData, diopy.input.read_h5 error: Error: \"['varm'] not in index\"\n",
    "rowData(pbmc3k.sce)$varm = NULL\n",
    "SCE2AD(sce.obj = pbmc3k.sce, method = \"scDIOR\", out.folder = \"./\")"
   ]
  },
  {
   "cell_type": "code",
   "execution_count": 221,
   "metadata": {
    "ExecuteTime": {
     "end_time": "2024-12-21T15:54:46.014224Z",
     "start_time": "2024-12-21T15:54:46.006881Z"
    }
   },
   "outputs": [],
   "source": [
    "# scDIOR require diopy to read h5\n",
    "import diopy"
   ]
  },
  {
   "cell_type": "code",
   "execution_count": 222,
   "metadata": {
    "ExecuteTime": {
     "end_time": "2024-12-21T15:54:47.032860Z",
     "start_time": "2024-12-21T15:54:46.017214Z"
    }
   },
   "outputs": [
    {
     "data": {
      "text/plain": [
       "AnnData object with n_obs × n_vars = 2638 × 1838\n",
       "    obs: 'n_genes', 'n_genes_by_counts', 'total_counts', 'total_counts_mt', 'pct_counts_mt', 'leiden'\n",
       "    var: 'gene_ids', 'n_cells', 'mt', 'n_cells_by_counts', 'mean_counts', 'pct_dropout_by_counts', 'total_counts', 'highly_variable', 'means', 'dispersions', 'dispersions_norm', 'mean', 'std'\n",
       "    obsm: 'X_x_pca', 'X_x_umap'\n",
       "    layers: 'logcounts', 'rawcounts'"
      ]
     },
     "execution_count": 222,
     "metadata": {},
     "output_type": "execute_result"
    }
   ],
   "source": [
    "scescdior_ann = diopy.input.read_h5(file = \"./pbmc3k.sce_scDIOR.h5\")\n",
    "scescdior_ann"
   ]
  },
  {
   "cell_type": "code",
   "execution_count": 223,
   "metadata": {
    "ExecuteTime": {
     "end_time": "2024-12-21T15:54:47.041873Z",
     "start_time": "2024-12-21T15:54:47.035697Z"
    }
   },
   "outputs": [
    {
     "data": {
      "text/plain": [
       "array([[-0.17146961, -0.2808123 , -0.04667677, ..., -0.09826882,\n",
       "        -0.20909512, -0.5312033 ],\n",
       "       [-0.21458235, -0.37265328, -0.05480441, ..., -0.266844  ,\n",
       "        -0.31314582, -0.5966543 ],\n",
       "       [-0.3768877 , -0.29508454, -0.05752748, ..., -0.15865591,\n",
       "        -0.17087644,  1.3789997 ],\n",
       "       ...,\n",
       "       [-0.20708963, -0.2504642 , -0.04639699, ..., -0.05114426,\n",
       "        -0.16106427,  2.041497  ],\n",
       "       [-0.1903285 , -0.2263338 , -0.04399936, ..., -0.00591774,\n",
       "        -0.13521305, -0.48211104],\n",
       "       [-0.33378935, -0.25358772, -0.05271561, ..., -0.07842438,\n",
       "        -0.13032718, -0.47133783]], dtype=float32)"
      ]
     },
     "execution_count": 223,
     "metadata": {},
     "output_type": "execute_result"
    }
   ],
   "source": [
    "# scaled count matrix\n",
    "scescdior_ann.X"
   ]
  },
  {
   "cell_type": "code",
   "execution_count": 224,
   "metadata": {
    "ExecuteTime": {
     "end_time": "2024-12-21T15:54:47.052447Z",
     "start_time": "2024-12-21T15:54:47.044283Z"
    }
   },
   "outputs": [
    {
     "data": {
      "text/plain": [
       "array([[0.       , 0.       , 0.       , ..., 0.       , 0.       ,\n",
       "        0.       ],\n",
       "       [0.       , 0.       , 0.       , ..., 0.       , 0.       ,\n",
       "        0.       ],\n",
       "       [0.       , 0.       , 0.       , ..., 0.       , 0.       ,\n",
       "        1.429744 ],\n",
       "       ...,\n",
       "       [0.       , 0.       , 0.       , ..., 0.       , 0.       ,\n",
       "        1.9370484],\n",
       "       [0.       , 0.       , 0.       , ..., 0.       , 0.       ,\n",
       "        0.       ],\n",
       "       [0.       , 0.       , 0.       , ..., 0.       , 0.       ,\n",
       "        0.       ]], dtype=float32)"
      ]
     },
     "execution_count": 224,
     "metadata": {},
     "output_type": "execute_result"
    }
   ],
   "source": [
    "# log-normalized count matrix\n",
    "scescdior_ann.layers['logcounts'].toarray()"
   ]
  },
  {
   "cell_type": "code",
   "execution_count": 225,
   "metadata": {
    "ExecuteTime": {
     "end_time": "2024-12-21T15:54:47.083240Z",
     "start_time": "2024-12-21T15:54:47.055236Z"
    }
   },
   "outputs": [
    {
     "data": {
      "text/plain": [
       "array([[0., 0., 0., ..., 0., 0., 0.],\n",
       "       [0., 0., 0., ..., 0., 0., 0.],\n",
       "       [0., 0., 0., ..., 0., 0., 1.],\n",
       "       ...,\n",
       "       [0., 0., 0., ..., 0., 0., 1.],\n",
       "       [0., 0., 0., ..., 0., 0., 0.],\n",
       "       [0., 0., 0., ..., 0., 0., 0.]], dtype=float32)"
      ]
     },
     "execution_count": 225,
     "metadata": {},
     "output_type": "execute_result"
    }
   ],
   "source": [
    "# raw count matrix\n",
    "scescdior_ann.layers['rawcounts'].toarray()"
   ]
  },
  {
   "cell_type": "code",
   "execution_count": 226,
   "metadata": {
    "ExecuteTime": {
     "end_time": "2024-12-21T15:54:47.098600Z",
     "start_time": "2024-12-21T15:54:47.085714Z"
    }
   },
   "outputs": [
    {
     "data": {
      "text/html": [
       "<div>\n",
       "<style scoped>\n",
       "    .dataframe tbody tr th:only-of-type {\n",
       "        vertical-align: middle;\n",
       "    }\n",
       "\n",
       "    .dataframe tbody tr th {\n",
       "        vertical-align: top;\n",
       "    }\n",
       "\n",
       "    .dataframe thead th {\n",
       "        text-align: right;\n",
       "    }\n",
       "</style>\n",
       "<table border=\"1\" class=\"dataframe\">\n",
       "  <thead>\n",
       "    <tr style=\"text-align: right;\">\n",
       "      <th></th>\n",
       "      <th>n_genes</th>\n",
       "      <th>n_genes_by_counts</th>\n",
       "      <th>total_counts</th>\n",
       "      <th>total_counts_mt</th>\n",
       "      <th>pct_counts_mt</th>\n",
       "      <th>leiden</th>\n",
       "    </tr>\n",
       "    <tr>\n",
       "      <th>index</th>\n",
       "      <th></th>\n",
       "      <th></th>\n",
       "      <th></th>\n",
       "      <th></th>\n",
       "      <th></th>\n",
       "      <th></th>\n",
       "    </tr>\n",
       "  </thead>\n",
       "  <tbody>\n",
       "    <tr>\n",
       "      <th>AAACATACAACCAC-1</th>\n",
       "      <td>781.0</td>\n",
       "      <td>779</td>\n",
       "      <td>2419.0</td>\n",
       "      <td>73.0</td>\n",
       "      <td>3.017776</td>\n",
       "      <td>0</td>\n",
       "    </tr>\n",
       "    <tr>\n",
       "      <th>AAACATTGAGCTAC-1</th>\n",
       "      <td>1352.0</td>\n",
       "      <td>1352</td>\n",
       "      <td>4903.0</td>\n",
       "      <td>186.0</td>\n",
       "      <td>3.793596</td>\n",
       "      <td>2</td>\n",
       "    </tr>\n",
       "    <tr>\n",
       "      <th>AAACATTGATCAGC-1</th>\n",
       "      <td>1131.0</td>\n",
       "      <td>1129</td>\n",
       "      <td>3147.0</td>\n",
       "      <td>28.0</td>\n",
       "      <td>0.889736</td>\n",
       "      <td>0</td>\n",
       "    </tr>\n",
       "    <tr>\n",
       "      <th>AAACCGTGCTTCCG-1</th>\n",
       "      <td>960.0</td>\n",
       "      <td>960</td>\n",
       "      <td>2639.0</td>\n",
       "      <td>46.0</td>\n",
       "      <td>1.743085</td>\n",
       "      <td>4</td>\n",
       "    </tr>\n",
       "    <tr>\n",
       "      <th>AAACCGTGTATGCG-1</th>\n",
       "      <td>522.0</td>\n",
       "      <td>521</td>\n",
       "      <td>980.0</td>\n",
       "      <td>12.0</td>\n",
       "      <td>1.224490</td>\n",
       "      <td>5</td>\n",
       "    </tr>\n",
       "  </tbody>\n",
       "</table>\n",
       "</div>"
      ],
      "text/plain": [
       "                  n_genes  n_genes_by_counts  total_counts  total_counts_mt  \\\n",
       "index                                                                         \n",
       "AAACATACAACCAC-1    781.0                779        2419.0             73.0   \n",
       "AAACATTGAGCTAC-1   1352.0               1352        4903.0            186.0   \n",
       "AAACATTGATCAGC-1   1131.0               1129        3147.0             28.0   \n",
       "AAACCGTGCTTCCG-1    960.0                960        2639.0             46.0   \n",
       "AAACCGTGTATGCG-1    522.0                521         980.0             12.0   \n",
       "\n",
       "                  pct_counts_mt leiden  \n",
       "index                                   \n",
       "AAACATACAACCAC-1       3.017776      0  \n",
       "AAACATTGAGCTAC-1       3.793596      2  \n",
       "AAACATTGATCAGC-1       0.889736      0  \n",
       "AAACCGTGCTTCCG-1       1.743085      4  \n",
       "AAACCGTGTATGCG-1       1.224490      5  "
      ]
     },
     "execution_count": 226,
     "metadata": {},
     "output_type": "execute_result"
    }
   ],
   "source": [
    "# cells' meta-information\n",
    "scescdior_ann.obs.head()"
   ]
  },
  {
   "cell_type": "code",
   "execution_count": 227,
   "metadata": {
    "ExecuteTime": {
     "end_time": "2024-12-21T15:54:47.124745Z",
     "start_time": "2024-12-21T15:54:47.100954Z"
    }
   },
   "outputs": [
    {
     "data": {
      "text/html": [
       "<div>\n",
       "<style scoped>\n",
       "    .dataframe tbody tr th:only-of-type {\n",
       "        vertical-align: middle;\n",
       "    }\n",
       "\n",
       "    .dataframe tbody tr th {\n",
       "        vertical-align: top;\n",
       "    }\n",
       "\n",
       "    .dataframe thead th {\n",
       "        text-align: right;\n",
       "    }\n",
       "</style>\n",
       "<table border=\"1\" class=\"dataframe\">\n",
       "  <thead>\n",
       "    <tr style=\"text-align: right;\">\n",
       "      <th></th>\n",
       "      <th>gene_ids</th>\n",
       "      <th>n_cells</th>\n",
       "      <th>mt</th>\n",
       "      <th>n_cells_by_counts</th>\n",
       "      <th>mean_counts</th>\n",
       "      <th>pct_dropout_by_counts</th>\n",
       "      <th>total_counts</th>\n",
       "      <th>highly_variable</th>\n",
       "      <th>means</th>\n",
       "      <th>dispersions</th>\n",
       "      <th>dispersions_norm</th>\n",
       "      <th>mean</th>\n",
       "      <th>std</th>\n",
       "    </tr>\n",
       "    <tr>\n",
       "      <th>index</th>\n",
       "      <th></th>\n",
       "      <th></th>\n",
       "      <th></th>\n",
       "      <th></th>\n",
       "      <th></th>\n",
       "      <th></th>\n",
       "      <th></th>\n",
       "      <th></th>\n",
       "      <th></th>\n",
       "      <th></th>\n",
       "      <th></th>\n",
       "      <th></th>\n",
       "      <th></th>\n",
       "    </tr>\n",
       "  </thead>\n",
       "  <tbody>\n",
       "    <tr>\n",
       "      <th>TNFRSF4</th>\n",
       "      <td>ENSG00000186827</td>\n",
       "      <td>155.0</td>\n",
       "      <td>False</td>\n",
       "      <td>155.0</td>\n",
       "      <td>0.077407</td>\n",
       "      <td>94.259259</td>\n",
       "      <td>209.0</td>\n",
       "      <td>True</td>\n",
       "      <td>0.277410</td>\n",
       "      <td>2.086050</td>\n",
       "      <td>0.665406</td>\n",
       "      <td>-3.672069e-10</td>\n",
       "      <td>0.424481</td>\n",
       "    </tr>\n",
       "    <tr>\n",
       "      <th>CPSF3L</th>\n",
       "      <td>ENSG00000127054</td>\n",
       "      <td>202.0</td>\n",
       "      <td>False</td>\n",
       "      <td>202.0</td>\n",
       "      <td>0.094815</td>\n",
       "      <td>92.518519</td>\n",
       "      <td>256.0</td>\n",
       "      <td>True</td>\n",
       "      <td>0.385194</td>\n",
       "      <td>4.506987</td>\n",
       "      <td>2.955005</td>\n",
       "      <td>-2.372437e-10</td>\n",
       "      <td>0.460416</td>\n",
       "    </tr>\n",
       "    <tr>\n",
       "      <th>ATAD3C</th>\n",
       "      <td>ENSG00000215915</td>\n",
       "      <td>9.0</td>\n",
       "      <td>False</td>\n",
       "      <td>9.0</td>\n",
       "      <td>0.009259</td>\n",
       "      <td>99.666667</td>\n",
       "      <td>25.0</td>\n",
       "      <td>True</td>\n",
       "      <td>0.038252</td>\n",
       "      <td>3.953486</td>\n",
       "      <td>4.352607</td>\n",
       "      <td>8.472988e-12</td>\n",
       "      <td>0.119465</td>\n",
       "    </tr>\n",
       "    <tr>\n",
       "      <th>C1orf86</th>\n",
       "      <td>ENSG00000162585</td>\n",
       "      <td>501.0</td>\n",
       "      <td>False</td>\n",
       "      <td>501.0</td>\n",
       "      <td>0.227778</td>\n",
       "      <td>81.444444</td>\n",
       "      <td>615.0</td>\n",
       "      <td>True</td>\n",
       "      <td>0.678283</td>\n",
       "      <td>2.713522</td>\n",
       "      <td>0.543183</td>\n",
       "      <td>3.389195e-10</td>\n",
       "      <td>0.685145</td>\n",
       "    </tr>\n",
       "    <tr>\n",
       "      <th>RER1</th>\n",
       "      <td>ENSG00000157916</td>\n",
       "      <td>608.0</td>\n",
       "      <td>False</td>\n",
       "      <td>608.0</td>\n",
       "      <td>0.298148</td>\n",
       "      <td>77.481481</td>\n",
       "      <td>805.0</td>\n",
       "      <td>True</td>\n",
       "      <td>0.814813</td>\n",
       "      <td>3.447533</td>\n",
       "      <td>1.582528</td>\n",
       "      <td>7.696297e-11</td>\n",
       "      <td>0.736050</td>\n",
       "    </tr>\n",
       "  </tbody>\n",
       "</table>\n",
       "</div>"
      ],
      "text/plain": [
       "                gene_ids  n_cells     mt  n_cells_by_counts  mean_counts  \\\n",
       "index                                                                      \n",
       "TNFRSF4  ENSG00000186827    155.0  False              155.0     0.077407   \n",
       "CPSF3L   ENSG00000127054    202.0  False              202.0     0.094815   \n",
       "ATAD3C   ENSG00000215915      9.0  False                9.0     0.009259   \n",
       "C1orf86  ENSG00000162585    501.0  False              501.0     0.227778   \n",
       "RER1     ENSG00000157916    608.0  False              608.0     0.298148   \n",
       "\n",
       "         pct_dropout_by_counts  total_counts  highly_variable     means  \\\n",
       "index                                                                     \n",
       "TNFRSF4              94.259259         209.0             True  0.277410   \n",
       "CPSF3L               92.518519         256.0             True  0.385194   \n",
       "ATAD3C               99.666667          25.0             True  0.038252   \n",
       "C1orf86              81.444444         615.0             True  0.678283   \n",
       "RER1                 77.481481         805.0             True  0.814813   \n",
       "\n",
       "         dispersions  dispersions_norm          mean       std  \n",
       "index                                                           \n",
       "TNFRSF4     2.086050          0.665406 -3.672069e-10  0.424481  \n",
       "CPSF3L      4.506987          2.955005 -2.372437e-10  0.460416  \n",
       "ATAD3C      3.953486          4.352607  8.472988e-12  0.119465  \n",
       "C1orf86     2.713522          0.543183  3.389195e-10  0.685145  \n",
       "RER1        3.447533          1.582528  7.696297e-11  0.736050  "
      ]
     },
     "execution_count": 227,
     "metadata": {},
     "output_type": "execute_result"
    },
    {
     "data": {
      "text/plain": [
       "(1838, 13)"
      ]
     },
     "execution_count": 227,
     "metadata": {},
     "output_type": "execute_result"
    }
   ],
   "source": [
    "# annotation of features\n",
    "scescdior_ann.var.head()\n",
    "# shape\n",
    "scescdior_ann.var.shape"
   ]
  },
  {
   "cell_type": "code",
   "execution_count": 228,
   "metadata": {
    "ExecuteTime": {
     "end_time": "2024-12-21T15:54:47.135486Z",
     "start_time": "2024-12-21T15:54:47.127527Z"
    }
   },
   "outputs": [
    {
     "data": {
      "text/plain": [
       "array([[-5.55622101, -0.25772715,  0.18679433, -2.80009699,  0.05072495],\n",
       "       [-7.20952702, -7.4820013 , -0.16271746,  8.01851654, -3.00661612],\n",
       "       [-2.69443727,  1.58366168,  0.66312349, -2.20564294,  1.78901792],\n",
       "       [10.1432972 ,  1.36853468, -1.20982373,  0.70006967,  2.90616465],\n",
       "       [ 1.11281347,  8.15279865, -1.33235252,  4.252491  , -1.96318078]])"
      ]
     },
     "execution_count": 228,
     "metadata": {},
     "output_type": "execute_result"
    },
    {
     "data": {
      "text/plain": [
       "array([[ 7.90665722,  3.55609107],\n",
       "       [ 9.24834824, 12.54433155],\n",
       "       [ 7.62998581,  3.83478546],\n",
       "       [ 0.13157795,  5.53973913],\n",
       "       [10.05534077, -0.64742917]])"
      ]
     },
     "execution_count": 228,
     "metadata": {},
     "output_type": "execute_result"
    }
   ],
   "source": [
    "# dimensional reduction results of pca\n",
    "scescdior_ann.obsm['X_x_pca'][0:5, 0:5]\n",
    "# dimensional reduction results of umap\n",
    "scescdior_ann.obsm['X_x_umap'][0:5, 0:2]"
   ]
  },
  {
   "cell_type": "code",
   "execution_count": null,
   "metadata": {},
   "outputs": [],
   "source": []
  }
 ],
 "metadata": {
  "kernelspec": {
   "display_name": "Python 3",
   "language": "python",
   "name": "python3"
  },
  "language_info": {
   "codemirror_mode": {
    "name": "ipython",
    "version": 3
   },
   "file_extension": ".py",
   "mimetype": "text/x-python",
   "name": "python",
   "nbconvert_exporter": "python",
   "pygments_lexer": "ipython3",
   "version": "3.7.3"
  },
  "toc": {
   "base_numbering": 1,
   "nav_menu": {},
   "number_sections": true,
   "sideBar": true,
   "skip_h1_title": false,
   "title_cell": "Table of Contents",
   "title_sidebar": "Contents",
   "toc_cell": false,
   "toc_position": {
    "height": "calc(100% - 180px)",
    "left": "10px",
    "top": "150px",
    "width": "357px"
   },
   "toc_section_display": true,
   "toc_window_display": true
  }
 },
 "nbformat": 4,
 "nbformat_minor": 2
}
